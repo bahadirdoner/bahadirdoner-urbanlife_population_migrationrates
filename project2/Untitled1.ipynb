{
 "cells": [
  {
   "cell_type": "code",
   "execution_count": 106,
   "id": "45f262d4",
   "metadata": {},
   "outputs": [
    {
     "data": {
      "text/html": [
       "        <script type=\"text/javascript\">\n",
       "        window.PlotlyConfig = {MathJaxConfig: 'local'};\n",
       "        if (window.MathJax && window.MathJax.Hub && window.MathJax.Hub.Config) {window.MathJax.Hub.Config({SVG: {font: \"STIX-Web\"}});}\n",
       "        if (typeof require !== 'undefined') {\n",
       "        require.undef(\"plotly\");\n",
       "        requirejs.config({\n",
       "            paths: {\n",
       "                'plotly': ['https://cdn.plot.ly/plotly-2.12.1.min']\n",
       "            }\n",
       "        });\n",
       "        require(['plotly'], function(Plotly) {\n",
       "            window._Plotly = Plotly;\n",
       "        });\n",
       "        }\n",
       "        </script>\n",
       "        "
      ]
     },
     "metadata": {},
     "output_type": "display_data"
    }
   ],
   "source": [
    "import pandas as pd\n",
    "import numpy as np\n",
    "import plotly.graph_objs as go \n",
    "from plotly.offline import init_notebook_mode,iplot\n",
    "import plotly.express as px\n",
    "init_notebook_mode(connected=True)"
   ]
  },
  {
   "cell_type": "code",
   "execution_count": 107,
   "id": "79f38440",
   "metadata": {},
   "outputs": [
    {
     "data": {
      "text/html": [
       "<div>\n",
       "<style scoped>\n",
       "    .dataframe tbody tr th:only-of-type {\n",
       "        vertical-align: middle;\n",
       "    }\n",
       "\n",
       "    .dataframe tbody tr th {\n",
       "        vertical-align: top;\n",
       "    }\n",
       "\n",
       "    .dataframe thead th {\n",
       "        text-align: right;\n",
       "    }\n",
       "</style>\n",
       "<table border=\"1\" class=\"dataframe\">\n",
       "  <thead>\n",
       "    <tr style=\"text-align: right;\">\n",
       "      <th></th>\n",
       "      <th>no</th>\n",
       "      <th>Country (or dependency)</th>\n",
       "      <th>Population 2020</th>\n",
       "      <th>Yearly Change</th>\n",
       "      <th>Net Change</th>\n",
       "      <th>Density  (P/Km²)</th>\n",
       "      <th>Land Area (Km²)</th>\n",
       "      <th>Migrants (net)</th>\n",
       "      <th>Fert. Rate</th>\n",
       "      <th>Med. Age</th>\n",
       "      <th>Urban Pop %</th>\n",
       "      <th>World Share</th>\n",
       "    </tr>\n",
       "  </thead>\n",
       "  <tbody>\n",
       "    <tr>\n",
       "      <th>0</th>\n",
       "      <td>1</td>\n",
       "      <td>China</td>\n",
       "      <td>1,439,323,776</td>\n",
       "      <td>0.39%</td>\n",
       "      <td>5,540,090</td>\n",
       "      <td>153</td>\n",
       "      <td>9,388,211</td>\n",
       "      <td>-348,399</td>\n",
       "      <td>1.7</td>\n",
       "      <td>38</td>\n",
       "      <td>61%</td>\n",
       "      <td>18.47%</td>\n",
       "    </tr>\n",
       "    <tr>\n",
       "      <th>1</th>\n",
       "      <td>2</td>\n",
       "      <td>India</td>\n",
       "      <td>1,380,004,385</td>\n",
       "      <td>0.99%</td>\n",
       "      <td>13,586,631</td>\n",
       "      <td>464</td>\n",
       "      <td>2,973,190</td>\n",
       "      <td>-532,687</td>\n",
       "      <td>2.2</td>\n",
       "      <td>28</td>\n",
       "      <td>35%</td>\n",
       "      <td>17.70%</td>\n",
       "    </tr>\n",
       "    <tr>\n",
       "      <th>2</th>\n",
       "      <td>3</td>\n",
       "      <td>United States</td>\n",
       "      <td>331,002,651</td>\n",
       "      <td>0.59%</td>\n",
       "      <td>1,937,734</td>\n",
       "      <td>36</td>\n",
       "      <td>9,147,420</td>\n",
       "      <td>954,806</td>\n",
       "      <td>1.8</td>\n",
       "      <td>38</td>\n",
       "      <td>83%</td>\n",
       "      <td>4.25%</td>\n",
       "    </tr>\n",
       "    <tr>\n",
       "      <th>3</th>\n",
       "      <td>4</td>\n",
       "      <td>Indonesia</td>\n",
       "      <td>273,523,615</td>\n",
       "      <td>1.07%</td>\n",
       "      <td>2,898,047</td>\n",
       "      <td>151</td>\n",
       "      <td>1,811,570</td>\n",
       "      <td>-98,955</td>\n",
       "      <td>2.3</td>\n",
       "      <td>30</td>\n",
       "      <td>56%</td>\n",
       "      <td>3.51%</td>\n",
       "    </tr>\n",
       "    <tr>\n",
       "      <th>4</th>\n",
       "      <td>5</td>\n",
       "      <td>Pakistan</td>\n",
       "      <td>220,892,340</td>\n",
       "      <td>2.00%</td>\n",
       "      <td>4,327,022</td>\n",
       "      <td>287</td>\n",
       "      <td>770,880</td>\n",
       "      <td>-233,379</td>\n",
       "      <td>3.6</td>\n",
       "      <td>23</td>\n",
       "      <td>35%</td>\n",
       "      <td>2.83%</td>\n",
       "    </tr>\n",
       "    <tr>\n",
       "      <th>5</th>\n",
       "      <td>6</td>\n",
       "      <td>Brazil</td>\n",
       "      <td>212,559,417</td>\n",
       "      <td>0.72%</td>\n",
       "      <td>1,509,890</td>\n",
       "      <td>25</td>\n",
       "      <td>8,358,140</td>\n",
       "      <td>21,200</td>\n",
       "      <td>1.7</td>\n",
       "      <td>33</td>\n",
       "      <td>88%</td>\n",
       "      <td>2.73%</td>\n",
       "    </tr>\n",
       "    <tr>\n",
       "      <th>6</th>\n",
       "      <td>7</td>\n",
       "      <td>Nigeria</td>\n",
       "      <td>206,139,589</td>\n",
       "      <td>2.58%</td>\n",
       "      <td>5,175,990</td>\n",
       "      <td>226</td>\n",
       "      <td>910,770</td>\n",
       "      <td>-60,000</td>\n",
       "      <td>5.4</td>\n",
       "      <td>18</td>\n",
       "      <td>52%</td>\n",
       "      <td>2.64%</td>\n",
       "    </tr>\n",
       "    <tr>\n",
       "      <th>7</th>\n",
       "      <td>8</td>\n",
       "      <td>Bangladesh</td>\n",
       "      <td>164,689,383</td>\n",
       "      <td>1.01%</td>\n",
       "      <td>1,643,222</td>\n",
       "      <td>1,265</td>\n",
       "      <td>130,170</td>\n",
       "      <td>-369,501</td>\n",
       "      <td>2.1</td>\n",
       "      <td>28</td>\n",
       "      <td>39%</td>\n",
       "      <td>2.11%</td>\n",
       "    </tr>\n",
       "    <tr>\n",
       "      <th>8</th>\n",
       "      <td>9</td>\n",
       "      <td>Russia</td>\n",
       "      <td>145,934,462</td>\n",
       "      <td>0.04%</td>\n",
       "      <td>62,206</td>\n",
       "      <td>9</td>\n",
       "      <td>16,376,870</td>\n",
       "      <td>182,456</td>\n",
       "      <td>1.8</td>\n",
       "      <td>40</td>\n",
       "      <td>74%</td>\n",
       "      <td>1.87%</td>\n",
       "    </tr>\n",
       "    <tr>\n",
       "      <th>9</th>\n",
       "      <td>10</td>\n",
       "      <td>Mexico</td>\n",
       "      <td>128,932,753</td>\n",
       "      <td>1.06%</td>\n",
       "      <td>1,357,224</td>\n",
       "      <td>66</td>\n",
       "      <td>1,943,950</td>\n",
       "      <td>-60,000</td>\n",
       "      <td>2.1</td>\n",
       "      <td>29</td>\n",
       "      <td>84%</td>\n",
       "      <td>1.65%</td>\n",
       "    </tr>\n",
       "  </tbody>\n",
       "</table>\n",
       "</div>"
      ],
      "text/plain": [
       "   no Country (or dependency) Population 2020 Yearly Change  Net Change  \\\n",
       "0   1                   China   1,439,323,776         0.39%   5,540,090   \n",
       "1   2                   India   1,380,004,385         0.99%  13,586,631   \n",
       "2   3           United States     331,002,651         0.59%   1,937,734   \n",
       "3   4               Indonesia     273,523,615         1.07%   2,898,047   \n",
       "4   5                Pakistan     220,892,340         2.00%   4,327,022   \n",
       "5   6                  Brazil     212,559,417         0.72%   1,509,890   \n",
       "6   7                 Nigeria     206,139,589         2.58%   5,175,990   \n",
       "7   8              Bangladesh     164,689,383         1.01%   1,643,222   \n",
       "8   9                  Russia     145,934,462         0.04%      62,206   \n",
       "9  10                  Mexico     128,932,753         1.06%   1,357,224   \n",
       "\n",
       "  Density  (P/Km²) Land Area (Km²) Migrants (net) Fert. Rate Med. Age  \\\n",
       "0              153       9,388,211       -348,399        1.7       38   \n",
       "1              464       2,973,190       -532,687        2.2       28   \n",
       "2               36       9,147,420        954,806        1.8       38   \n",
       "3              151       1,811,570        -98,955        2.3       30   \n",
       "4              287         770,880       -233,379        3.6       23   \n",
       "5               25       8,358,140         21,200        1.7       33   \n",
       "6              226         910,770        -60,000        5.4       18   \n",
       "7            1,265         130,170       -369,501        2.1       28   \n",
       "8                9      16,376,870        182,456        1.8       40   \n",
       "9               66       1,943,950        -60,000        2.1       29   \n",
       "\n",
       "  Urban Pop % World Share  \n",
       "0         61%      18.47%  \n",
       "1         35%      17.70%  \n",
       "2         83%       4.25%  \n",
       "3         56%       3.51%  \n",
       "4         35%       2.83%  \n",
       "5         88%       2.73%  \n",
       "6         52%       2.64%  \n",
       "7         39%       2.11%  \n",
       "8         74%       1.87%  \n",
       "9         84%       1.65%  "
      ]
     },
     "execution_count": 107,
     "metadata": {},
     "output_type": "execute_result"
    }
   ],
   "source": [
    "df = pd.read_csv(\"world-population-by-country-2020.csv\")\n",
    "df.head(10)"
   ]
  },
  {
   "cell_type": "code",
   "execution_count": 108,
   "id": "184dc537",
   "metadata": {},
   "outputs": [
    {
     "name": "stdout",
     "output_type": "stream",
     "text": [
      "<class 'pandas.core.frame.DataFrame'>\n",
      "RangeIndex: 235 entries, 0 to 234\n",
      "Data columns (total 12 columns):\n",
      " #   Column                   Non-Null Count  Dtype \n",
      "---  ------                   --------------  ----- \n",
      " 0   no                       235 non-null    int64 \n",
      " 1   Country (or dependency)  235 non-null    object\n",
      " 2   Population 2020          235 non-null    object\n",
      " 3   Yearly Change            235 non-null    object\n",
      " 4   Net Change               235 non-null    object\n",
      " 5   Density  (P/Km²)         235 non-null    object\n",
      " 6   Land Area (Km²)          235 non-null    object\n",
      " 7   Migrants (net)           201 non-null    object\n",
      " 8   Fert. Rate               235 non-null    object\n",
      " 9   Med. Age                 235 non-null    object\n",
      " 10  Urban Pop %              235 non-null    object\n",
      " 11  World Share              235 non-null    object\n",
      "dtypes: int64(1), object(11)\n",
      "memory usage: 22.2+ KB\n"
     ]
    }
   ],
   "source": [
    "df.info()"
   ]
  },
  {
   "cell_type": "code",
   "execution_count": 109,
   "id": "87d5bb18",
   "metadata": {},
   "outputs": [
    {
     "data": {
      "text/html": [
       "<div>\n",
       "<style scoped>\n",
       "    .dataframe tbody tr th:only-of-type {\n",
       "        vertical-align: middle;\n",
       "    }\n",
       "\n",
       "    .dataframe tbody tr th {\n",
       "        vertical-align: top;\n",
       "    }\n",
       "\n",
       "    .dataframe thead th {\n",
       "        text-align: right;\n",
       "    }\n",
       "</style>\n",
       "<table border=\"1\" class=\"dataframe\">\n",
       "  <thead>\n",
       "    <tr style=\"text-align: right;\">\n",
       "      <th></th>\n",
       "      <th>no</th>\n",
       "      <th>Country (or dependency)</th>\n",
       "      <th>Population 2020</th>\n",
       "      <th>Yearly Change</th>\n",
       "      <th>Net Change</th>\n",
       "      <th>Density  (P/Km²)</th>\n",
       "      <th>Land Area (Km²)</th>\n",
       "      <th>Migrants (net)</th>\n",
       "      <th>Fert. Rate</th>\n",
       "      <th>Med. Age</th>\n",
       "      <th>Urban Pop %</th>\n",
       "      <th>World Share</th>\n",
       "    </tr>\n",
       "  </thead>\n",
       "  <tbody>\n",
       "    <tr>\n",
       "      <th>0</th>\n",
       "      <td>1</td>\n",
       "      <td>China</td>\n",
       "      <td>1439323776</td>\n",
       "      <td>0.39%</td>\n",
       "      <td>5540090</td>\n",
       "      <td>153</td>\n",
       "      <td>9388211</td>\n",
       "      <td>-348399.0</td>\n",
       "      <td>1.7</td>\n",
       "      <td>38</td>\n",
       "      <td>61%</td>\n",
       "      <td>18.47%</td>\n",
       "    </tr>\n",
       "    <tr>\n",
       "      <th>1</th>\n",
       "      <td>2</td>\n",
       "      <td>India</td>\n",
       "      <td>1380004385</td>\n",
       "      <td>0.99%</td>\n",
       "      <td>13586631</td>\n",
       "      <td>464</td>\n",
       "      <td>2973190</td>\n",
       "      <td>-532687.0</td>\n",
       "      <td>2.2</td>\n",
       "      <td>28</td>\n",
       "      <td>35%</td>\n",
       "      <td>17.70%</td>\n",
       "    </tr>\n",
       "    <tr>\n",
       "      <th>2</th>\n",
       "      <td>3</td>\n",
       "      <td>United States</td>\n",
       "      <td>331002651</td>\n",
       "      <td>0.59%</td>\n",
       "      <td>1937734</td>\n",
       "      <td>36</td>\n",
       "      <td>9147420</td>\n",
       "      <td>954806.0</td>\n",
       "      <td>1.8</td>\n",
       "      <td>38</td>\n",
       "      <td>83%</td>\n",
       "      <td>4.25%</td>\n",
       "    </tr>\n",
       "    <tr>\n",
       "      <th>3</th>\n",
       "      <td>4</td>\n",
       "      <td>Indonesia</td>\n",
       "      <td>273523615</td>\n",
       "      <td>1.07%</td>\n",
       "      <td>2898047</td>\n",
       "      <td>151</td>\n",
       "      <td>1811570</td>\n",
       "      <td>-98955.0</td>\n",
       "      <td>2.3</td>\n",
       "      <td>30</td>\n",
       "      <td>56%</td>\n",
       "      <td>3.51%</td>\n",
       "    </tr>\n",
       "    <tr>\n",
       "      <th>4</th>\n",
       "      <td>5</td>\n",
       "      <td>Pakistan</td>\n",
       "      <td>220892340</td>\n",
       "      <td>2.00%</td>\n",
       "      <td>4327022</td>\n",
       "      <td>287</td>\n",
       "      <td>770880</td>\n",
       "      <td>-233379.0</td>\n",
       "      <td>3.6</td>\n",
       "      <td>23</td>\n",
       "      <td>35%</td>\n",
       "      <td>2.83%</td>\n",
       "    </tr>\n",
       "  </tbody>\n",
       "</table>\n",
       "</div>"
      ],
      "text/plain": [
       "   no Country (or dependency)  Population 2020 Yearly Change  Net Change  \\\n",
       "0   1                   China       1439323776         0.39%     5540090   \n",
       "1   2                   India       1380004385         0.99%    13586631   \n",
       "2   3           United States        331002651         0.59%     1937734   \n",
       "3   4               Indonesia        273523615         1.07%     2898047   \n",
       "4   5                Pakistan        220892340         2.00%     4327022   \n",
       "\n",
       "   Density  (P/Km²)  Land Area (Km²)  Migrants (net) Fert. Rate Med. Age  \\\n",
       "0               153          9388211       -348399.0        1.7       38   \n",
       "1               464          2973190       -532687.0        2.2       28   \n",
       "2                36          9147420        954806.0        1.8       38   \n",
       "3               151          1811570        -98955.0        2.3       30   \n",
       "4               287           770880       -233379.0        3.6       23   \n",
       "\n",
       "  Urban Pop % World Share  \n",
       "0         61%      18.47%  \n",
       "1         35%      17.70%  \n",
       "2         83%       4.25%  \n",
       "3         56%       3.51%  \n",
       "4         35%       2.83%  "
      ]
     },
     "execution_count": 109,
     "metadata": {},
     "output_type": "execute_result"
    }
   ],
   "source": [
    "df = df = pd.read_csv(\"world-population-by-country-2020.csv\",thousands = \",\")\n",
    "df.head()"
   ]
  },
  {
   "cell_type": "code",
   "execution_count": 110,
   "id": "5d0ce1c4",
   "metadata": {},
   "outputs": [
    {
     "name": "stdout",
     "output_type": "stream",
     "text": [
      "<class 'pandas.core.frame.DataFrame'>\n",
      "RangeIndex: 235 entries, 0 to 234\n",
      "Data columns (total 12 columns):\n",
      " #   Column                   Non-Null Count  Dtype  \n",
      "---  ------                   --------------  -----  \n",
      " 0   no                       235 non-null    int64  \n",
      " 1   Country (or dependency)  235 non-null    object \n",
      " 2   Population 2020          235 non-null    int64  \n",
      " 3   Yearly Change            235 non-null    object \n",
      " 4   Net Change               235 non-null    int64  \n",
      " 5   Density  (P/Km²)         235 non-null    int64  \n",
      " 6   Land Area (Km²)          235 non-null    int64  \n",
      " 7   Migrants (net)           201 non-null    float64\n",
      " 8   Fert. Rate               235 non-null    object \n",
      " 9   Med. Age                 235 non-null    object \n",
      " 10  Urban Pop %              235 non-null    object \n",
      " 11  World Share              235 non-null    object \n",
      "dtypes: float64(1), int64(5), object(6)\n",
      "memory usage: 22.2+ KB\n"
     ]
    }
   ],
   "source": [
    "df.info()"
   ]
  },
  {
   "cell_type": "code",
   "execution_count": 111,
   "id": "8c16a343",
   "metadata": {},
   "outputs": [
    {
     "data": {
      "text/plain": [
       "(235, 12)"
      ]
     },
     "execution_count": 111,
     "metadata": {},
     "output_type": "execute_result"
    }
   ],
   "source": [
    "df.shape"
   ]
  },
  {
   "cell_type": "code",
   "execution_count": 112,
   "id": "9f88ca8c",
   "metadata": {},
   "outputs": [
    {
     "data": {
      "text/html": [
       "<div>\n",
       "<style scoped>\n",
       "    .dataframe tbody tr th:only-of-type {\n",
       "        vertical-align: middle;\n",
       "    }\n",
       "\n",
       "    .dataframe tbody tr th {\n",
       "        vertical-align: top;\n",
       "    }\n",
       "\n",
       "    .dataframe thead th {\n",
       "        text-align: right;\n",
       "    }\n",
       "</style>\n",
       "<table border=\"1\" class=\"dataframe\">\n",
       "  <thead>\n",
       "    <tr style=\"text-align: right;\">\n",
       "      <th></th>\n",
       "      <th>count</th>\n",
       "      <th>mean</th>\n",
       "      <th>std</th>\n",
       "      <th>min</th>\n",
       "      <th>25%</th>\n",
       "      <th>50%</th>\n",
       "      <th>75%</th>\n",
       "      <th>max</th>\n",
       "    </tr>\n",
       "  </thead>\n",
       "  <tbody>\n",
       "    <tr>\n",
       "      <th>no</th>\n",
       "      <td>235.0</td>\n",
       "      <td>1.180000e+02</td>\n",
       "      <td>6.798284e+01</td>\n",
       "      <td>1.0</td>\n",
       "      <td>59.5</td>\n",
       "      <td>118.0</td>\n",
       "      <td>176.5</td>\n",
       "      <td>2.350000e+02</td>\n",
       "    </tr>\n",
       "    <tr>\n",
       "      <th>Population 2020</th>\n",
       "      <td>235.0</td>\n",
       "      <td>3.317120e+07</td>\n",
       "      <td>1.351370e+08</td>\n",
       "      <td>801.0</td>\n",
       "      <td>418801.5</td>\n",
       "      <td>5459642.0</td>\n",
       "      <td>20577053.0</td>\n",
       "      <td>1.439324e+09</td>\n",
       "    </tr>\n",
       "    <tr>\n",
       "      <th>Net Change</th>\n",
       "      <td>235.0</td>\n",
       "      <td>3.461058e+05</td>\n",
       "      <td>1.128255e+06</td>\n",
       "      <td>-383840.0</td>\n",
       "      <td>424.0</td>\n",
       "      <td>39170.0</td>\n",
       "      <td>249660.0</td>\n",
       "      <td>1.358663e+07</td>\n",
       "    </tr>\n",
       "    <tr>\n",
       "      <th>Density  (P/Km²)</th>\n",
       "      <td>235.0</td>\n",
       "      <td>4.784085e+02</td>\n",
       "      <td>2.331282e+03</td>\n",
       "      <td>0.0</td>\n",
       "      <td>37.0</td>\n",
       "      <td>95.0</td>\n",
       "      <td>240.0</td>\n",
       "      <td>2.633700e+04</td>\n",
       "    </tr>\n",
       "    <tr>\n",
       "      <th>Land Area (Km²)</th>\n",
       "      <td>235.0</td>\n",
       "      <td>5.535918e+05</td>\n",
       "      <td>1.687796e+06</td>\n",
       "      <td>0.0</td>\n",
       "      <td>2545.0</td>\n",
       "      <td>77240.0</td>\n",
       "      <td>403820.0</td>\n",
       "      <td>1.637687e+07</td>\n",
       "    </tr>\n",
       "    <tr>\n",
       "      <th>Migrants (net)</th>\n",
       "      <td>201.0</td>\n",
       "      <td>-5.442786e+00</td>\n",
       "      <td>1.232921e+05</td>\n",
       "      <td>-653249.0</td>\n",
       "      <td>-10047.0</td>\n",
       "      <td>-960.0</td>\n",
       "      <td>9741.0</td>\n",
       "      <td>9.548060e+05</td>\n",
       "    </tr>\n",
       "  </tbody>\n",
       "</table>\n",
       "</div>"
      ],
      "text/plain": [
       "                  count          mean           std       min       25%  \\\n",
       "no                235.0  1.180000e+02  6.798284e+01       1.0      59.5   \n",
       "Population 2020   235.0  3.317120e+07  1.351370e+08     801.0  418801.5   \n",
       "Net Change        235.0  3.461058e+05  1.128255e+06 -383840.0     424.0   \n",
       "Density  (P/Km²)  235.0  4.784085e+02  2.331282e+03       0.0      37.0   \n",
       "Land Area (Km²)   235.0  5.535918e+05  1.687796e+06       0.0    2545.0   \n",
       "Migrants (net)    201.0 -5.442786e+00  1.232921e+05 -653249.0  -10047.0   \n",
       "\n",
       "                        50%         75%           max  \n",
       "no                    118.0       176.5  2.350000e+02  \n",
       "Population 2020   5459642.0  20577053.0  1.439324e+09  \n",
       "Net Change          39170.0    249660.0  1.358663e+07  \n",
       "Density  (P/Km²)       95.0       240.0  2.633700e+04  \n",
       "Land Area (Km²)     77240.0    403820.0  1.637687e+07  \n",
       "Migrants (net)       -960.0      9741.0  9.548060e+05  "
      ]
     },
     "execution_count": 112,
     "metadata": {},
     "output_type": "execute_result"
    }
   ],
   "source": [
    "df.describe().T"
   ]
  },
  {
   "cell_type": "code",
   "execution_count": 113,
   "id": "66d585d8",
   "metadata": {},
   "outputs": [
    {
     "data": {
      "text/html": [
       "<div>\n",
       "<style scoped>\n",
       "    .dataframe tbody tr th:only-of-type {\n",
       "        vertical-align: middle;\n",
       "    }\n",
       "\n",
       "    .dataframe tbody tr th {\n",
       "        vertical-align: top;\n",
       "    }\n",
       "\n",
       "    .dataframe thead th {\n",
       "        text-align: right;\n",
       "    }\n",
       "</style>\n",
       "<table border=\"1\" class=\"dataframe\">\n",
       "  <thead>\n",
       "    <tr style=\"text-align: right;\">\n",
       "      <th></th>\n",
       "      <th>no</th>\n",
       "      <th>Country (or dependency)</th>\n",
       "      <th>Population 2020</th>\n",
       "      <th>Yearly Change</th>\n",
       "      <th>Net Change</th>\n",
       "      <th>Density  (P/Km²)</th>\n",
       "      <th>Land Area (Km²)</th>\n",
       "      <th>Migrants (net)</th>\n",
       "      <th>Fert. Rate</th>\n",
       "      <th>Med. Age</th>\n",
       "      <th>Urban Pop %</th>\n",
       "      <th>World Share</th>\n",
       "    </tr>\n",
       "  </thead>\n",
       "  <tbody>\n",
       "    <tr>\n",
       "      <th>185</th>\n",
       "      <td>186</td>\n",
       "      <td>French Polynesia</td>\n",
       "      <td>280908</td>\n",
       "      <td>0.58%</td>\n",
       "      <td>1621</td>\n",
       "      <td>77</td>\n",
       "      <td>3660</td>\n",
       "      <td>-1000.0</td>\n",
       "      <td>2</td>\n",
       "      <td>34</td>\n",
       "      <td>64%</td>\n",
       "      <td>0.00%</td>\n",
       "    </tr>\n",
       "    <tr>\n",
       "      <th>186</th>\n",
       "      <td>187</td>\n",
       "      <td>Mayotte</td>\n",
       "      <td>272815</td>\n",
       "      <td>2.50%</td>\n",
       "      <td>6665</td>\n",
       "      <td>728</td>\n",
       "      <td>375</td>\n",
       "      <td>0.0</td>\n",
       "      <td>3.7</td>\n",
       "      <td>20</td>\n",
       "      <td>46%</td>\n",
       "      <td>0.00%</td>\n",
       "    </tr>\n",
       "    <tr>\n",
       "      <th>187</th>\n",
       "      <td>188</td>\n",
       "      <td>Sao Tome &amp; Principe</td>\n",
       "      <td>219159</td>\n",
       "      <td>1.91%</td>\n",
       "      <td>4103</td>\n",
       "      <td>228</td>\n",
       "      <td>960</td>\n",
       "      <td>-1680.0</td>\n",
       "      <td>4.4</td>\n",
       "      <td>19</td>\n",
       "      <td>74%</td>\n",
       "      <td>0.00%</td>\n",
       "    </tr>\n",
       "    <tr>\n",
       "      <th>188</th>\n",
       "      <td>189</td>\n",
       "      <td>Samoa</td>\n",
       "      <td>198414</td>\n",
       "      <td>0.67%</td>\n",
       "      <td>1317</td>\n",
       "      <td>70</td>\n",
       "      <td>2830</td>\n",
       "      <td>-2803.0</td>\n",
       "      <td>3.9</td>\n",
       "      <td>22</td>\n",
       "      <td>18%</td>\n",
       "      <td>0.00%</td>\n",
       "    </tr>\n",
       "    <tr>\n",
       "      <th>189</th>\n",
       "      <td>190</td>\n",
       "      <td>Saint Lucia</td>\n",
       "      <td>183627</td>\n",
       "      <td>0.46%</td>\n",
       "      <td>837</td>\n",
       "      <td>301</td>\n",
       "      <td>610</td>\n",
       "      <td>0.0</td>\n",
       "      <td>1.4</td>\n",
       "      <td>34</td>\n",
       "      <td>19%</td>\n",
       "      <td>0.00%</td>\n",
       "    </tr>\n",
       "    <tr>\n",
       "      <th>190</th>\n",
       "      <td>191</td>\n",
       "      <td>Channel Islands</td>\n",
       "      <td>173863</td>\n",
       "      <td>0.93%</td>\n",
       "      <td>1604</td>\n",
       "      <td>915</td>\n",
       "      <td>190</td>\n",
       "      <td>1351.0</td>\n",
       "      <td>1.5</td>\n",
       "      <td>43</td>\n",
       "      <td>30%</td>\n",
       "      <td>0.00%</td>\n",
       "    </tr>\n",
       "    <tr>\n",
       "      <th>191</th>\n",
       "      <td>192</td>\n",
       "      <td>Guam</td>\n",
       "      <td>168775</td>\n",
       "      <td>0.89%</td>\n",
       "      <td>1481</td>\n",
       "      <td>313</td>\n",
       "      <td>540</td>\n",
       "      <td>-506.0</td>\n",
       "      <td>2.3</td>\n",
       "      <td>31</td>\n",
       "      <td>95%</td>\n",
       "      <td>0.00%</td>\n",
       "    </tr>\n",
       "    <tr>\n",
       "      <th>192</th>\n",
       "      <td>193</td>\n",
       "      <td>Curaçao</td>\n",
       "      <td>164093</td>\n",
       "      <td>0.41%</td>\n",
       "      <td>669</td>\n",
       "      <td>370</td>\n",
       "      <td>444</td>\n",
       "      <td>515.0</td>\n",
       "      <td>1.8</td>\n",
       "      <td>42</td>\n",
       "      <td>89%</td>\n",
       "      <td>0.00%</td>\n",
       "    </tr>\n",
       "    <tr>\n",
       "      <th>193</th>\n",
       "      <td>194</td>\n",
       "      <td>Kiribati</td>\n",
       "      <td>119449</td>\n",
       "      <td>1.57%</td>\n",
       "      <td>1843</td>\n",
       "      <td>147</td>\n",
       "      <td>810</td>\n",
       "      <td>-800.0</td>\n",
       "      <td>3.6</td>\n",
       "      <td>23</td>\n",
       "      <td>57%</td>\n",
       "      <td>0.00%</td>\n",
       "    </tr>\n",
       "    <tr>\n",
       "      <th>194</th>\n",
       "      <td>195</td>\n",
       "      <td>Grenada</td>\n",
       "      <td>112523</td>\n",
       "      <td>0.46%</td>\n",
       "      <td>520</td>\n",
       "      <td>331</td>\n",
       "      <td>340</td>\n",
       "      <td>-200.0</td>\n",
       "      <td>2.1</td>\n",
       "      <td>32</td>\n",
       "      <td>35%</td>\n",
       "      <td>0.00%</td>\n",
       "    </tr>\n",
       "    <tr>\n",
       "      <th>195</th>\n",
       "      <td>196</td>\n",
       "      <td>St. Vincent &amp; Grenadines</td>\n",
       "      <td>110940</td>\n",
       "      <td>0.32%</td>\n",
       "      <td>351</td>\n",
       "      <td>284</td>\n",
       "      <td>390</td>\n",
       "      <td>-200.0</td>\n",
       "      <td>1.9</td>\n",
       "      <td>33</td>\n",
       "      <td>53%</td>\n",
       "      <td>0.00%</td>\n",
       "    </tr>\n",
       "    <tr>\n",
       "      <th>196</th>\n",
       "      <td>197</td>\n",
       "      <td>Aruba</td>\n",
       "      <td>106766</td>\n",
       "      <td>0.43%</td>\n",
       "      <td>452</td>\n",
       "      <td>593</td>\n",
       "      <td>180</td>\n",
       "      <td>201.0</td>\n",
       "      <td>1.9</td>\n",
       "      <td>41</td>\n",
       "      <td>44%</td>\n",
       "      <td>0.00%</td>\n",
       "    </tr>\n",
       "    <tr>\n",
       "      <th>197</th>\n",
       "      <td>198</td>\n",
       "      <td>Tonga</td>\n",
       "      <td>105695</td>\n",
       "      <td>1.15%</td>\n",
       "      <td>1201</td>\n",
       "      <td>147</td>\n",
       "      <td>720</td>\n",
       "      <td>-800.0</td>\n",
       "      <td>3.6</td>\n",
       "      <td>22</td>\n",
       "      <td>24%</td>\n",
       "      <td>0.00%</td>\n",
       "    </tr>\n",
       "    <tr>\n",
       "      <th>198</th>\n",
       "      <td>199</td>\n",
       "      <td>U.S. Virgin Islands</td>\n",
       "      <td>104425</td>\n",
       "      <td>-0.15%</td>\n",
       "      <td>-153</td>\n",
       "      <td>298</td>\n",
       "      <td>350</td>\n",
       "      <td>-451.0</td>\n",
       "      <td>2</td>\n",
       "      <td>43</td>\n",
       "      <td>96%</td>\n",
       "      <td>0.00%</td>\n",
       "    </tr>\n",
       "    <tr>\n",
       "      <th>199</th>\n",
       "      <td>200</td>\n",
       "      <td>Seychelles</td>\n",
       "      <td>98347</td>\n",
       "      <td>0.62%</td>\n",
       "      <td>608</td>\n",
       "      <td>214</td>\n",
       "      <td>460</td>\n",
       "      <td>-200.0</td>\n",
       "      <td>2.5</td>\n",
       "      <td>34</td>\n",
       "      <td>56%</td>\n",
       "      <td>0.00%</td>\n",
       "    </tr>\n",
       "    <tr>\n",
       "      <th>200</th>\n",
       "      <td>201</td>\n",
       "      <td>Antigua and Barbuda</td>\n",
       "      <td>97929</td>\n",
       "      <td>0.84%</td>\n",
       "      <td>811</td>\n",
       "      <td>223</td>\n",
       "      <td>440</td>\n",
       "      <td>0.0</td>\n",
       "      <td>2</td>\n",
       "      <td>34</td>\n",
       "      <td>26%</td>\n",
       "      <td>0.00%</td>\n",
       "    </tr>\n",
       "    <tr>\n",
       "      <th>201</th>\n",
       "      <td>202</td>\n",
       "      <td>Isle of Man</td>\n",
       "      <td>85033</td>\n",
       "      <td>0.53%</td>\n",
       "      <td>449</td>\n",
       "      <td>149</td>\n",
       "      <td>570</td>\n",
       "      <td>NaN</td>\n",
       "      <td>N.A.</td>\n",
       "      <td>N.A.</td>\n",
       "      <td>53%</td>\n",
       "      <td>0.00%</td>\n",
       "    </tr>\n",
       "    <tr>\n",
       "      <th>202</th>\n",
       "      <td>203</td>\n",
       "      <td>Andorra</td>\n",
       "      <td>77265</td>\n",
       "      <td>0.16%</td>\n",
       "      <td>123</td>\n",
       "      <td>164</td>\n",
       "      <td>470</td>\n",
       "      <td>NaN</td>\n",
       "      <td>N.A.</td>\n",
       "      <td>N.A.</td>\n",
       "      <td>88%</td>\n",
       "      <td>0.00%</td>\n",
       "    </tr>\n",
       "    <tr>\n",
       "      <th>203</th>\n",
       "      <td>204</td>\n",
       "      <td>Dominica</td>\n",
       "      <td>71986</td>\n",
       "      <td>0.25%</td>\n",
       "      <td>178</td>\n",
       "      <td>96</td>\n",
       "      <td>750</td>\n",
       "      <td>NaN</td>\n",
       "      <td>N.A.</td>\n",
       "      <td>N.A.</td>\n",
       "      <td>74%</td>\n",
       "      <td>0.00%</td>\n",
       "    </tr>\n",
       "    <tr>\n",
       "      <th>204</th>\n",
       "      <td>205</td>\n",
       "      <td>Cayman Islands</td>\n",
       "      <td>65722</td>\n",
       "      <td>1.19%</td>\n",
       "      <td>774</td>\n",
       "      <td>274</td>\n",
       "      <td>240</td>\n",
       "      <td>NaN</td>\n",
       "      <td>N.A.</td>\n",
       "      <td>N.A.</td>\n",
       "      <td>97%</td>\n",
       "      <td>0.00%</td>\n",
       "    </tr>\n",
       "    <tr>\n",
       "      <th>205</th>\n",
       "      <td>206</td>\n",
       "      <td>Bermuda</td>\n",
       "      <td>62278</td>\n",
       "      <td>-0.36%</td>\n",
       "      <td>-228</td>\n",
       "      <td>1246</td>\n",
       "      <td>50</td>\n",
       "      <td>NaN</td>\n",
       "      <td>N.A.</td>\n",
       "      <td>N.A.</td>\n",
       "      <td>97%</td>\n",
       "      <td>0.00%</td>\n",
       "    </tr>\n",
       "    <tr>\n",
       "      <th>206</th>\n",
       "      <td>207</td>\n",
       "      <td>Marshall Islands</td>\n",
       "      <td>59190</td>\n",
       "      <td>0.68%</td>\n",
       "      <td>399</td>\n",
       "      <td>329</td>\n",
       "      <td>180</td>\n",
       "      <td>NaN</td>\n",
       "      <td>N.A.</td>\n",
       "      <td>N.A.</td>\n",
       "      <td>70%</td>\n",
       "      <td>0.00%</td>\n",
       "    </tr>\n",
       "    <tr>\n",
       "      <th>207</th>\n",
       "      <td>208</td>\n",
       "      <td>Northern Mariana Islands</td>\n",
       "      <td>57559</td>\n",
       "      <td>0.60%</td>\n",
       "      <td>343</td>\n",
       "      <td>125</td>\n",
       "      <td>460</td>\n",
       "      <td>NaN</td>\n",
       "      <td>N.A.</td>\n",
       "      <td>N.A.</td>\n",
       "      <td>88%</td>\n",
       "      <td>0.00%</td>\n",
       "    </tr>\n",
       "    <tr>\n",
       "      <th>208</th>\n",
       "      <td>209</td>\n",
       "      <td>Greenland</td>\n",
       "      <td>56770</td>\n",
       "      <td>0.17%</td>\n",
       "      <td>98</td>\n",
       "      <td>0</td>\n",
       "      <td>410450</td>\n",
       "      <td>NaN</td>\n",
       "      <td>N.A.</td>\n",
       "      <td>N.A.</td>\n",
       "      <td>87%</td>\n",
       "      <td>0.00%</td>\n",
       "    </tr>\n",
       "    <tr>\n",
       "      <th>209</th>\n",
       "      <td>210</td>\n",
       "      <td>American Samoa</td>\n",
       "      <td>55191</td>\n",
       "      <td>-0.22%</td>\n",
       "      <td>-121</td>\n",
       "      <td>276</td>\n",
       "      <td>200</td>\n",
       "      <td>NaN</td>\n",
       "      <td>N.A.</td>\n",
       "      <td>N.A.</td>\n",
       "      <td>88%</td>\n",
       "      <td>0.00%</td>\n",
       "    </tr>\n",
       "    <tr>\n",
       "      <th>210</th>\n",
       "      <td>211</td>\n",
       "      <td>Saint Kitts &amp; Nevis</td>\n",
       "      <td>53199</td>\n",
       "      <td>0.71%</td>\n",
       "      <td>376</td>\n",
       "      <td>205</td>\n",
       "      <td>260</td>\n",
       "      <td>NaN</td>\n",
       "      <td>N.A.</td>\n",
       "      <td>N.A.</td>\n",
       "      <td>33%</td>\n",
       "      <td>0.00%</td>\n",
       "    </tr>\n",
       "    <tr>\n",
       "      <th>211</th>\n",
       "      <td>212</td>\n",
       "      <td>Faeroe Islands</td>\n",
       "      <td>48863</td>\n",
       "      <td>0.38%</td>\n",
       "      <td>185</td>\n",
       "      <td>35</td>\n",
       "      <td>1396</td>\n",
       "      <td>NaN</td>\n",
       "      <td>N.A.</td>\n",
       "      <td>N.A.</td>\n",
       "      <td>43%</td>\n",
       "      <td>0.00%</td>\n",
       "    </tr>\n",
       "    <tr>\n",
       "      <th>212</th>\n",
       "      <td>213</td>\n",
       "      <td>Sint Maarten</td>\n",
       "      <td>42876</td>\n",
       "      <td>1.15%</td>\n",
       "      <td>488</td>\n",
       "      <td>1261</td>\n",
       "      <td>34</td>\n",
       "      <td>NaN</td>\n",
       "      <td>N.A.</td>\n",
       "      <td>N.A.</td>\n",
       "      <td>96%</td>\n",
       "      <td>0.00%</td>\n",
       "    </tr>\n",
       "    <tr>\n",
       "      <th>213</th>\n",
       "      <td>214</td>\n",
       "      <td>Monaco</td>\n",
       "      <td>39242</td>\n",
       "      <td>0.71%</td>\n",
       "      <td>278</td>\n",
       "      <td>26337</td>\n",
       "      <td>1</td>\n",
       "      <td>NaN</td>\n",
       "      <td>N.A.</td>\n",
       "      <td>N.A.</td>\n",
       "      <td>N.A.</td>\n",
       "      <td>0.00%</td>\n",
       "    </tr>\n",
       "    <tr>\n",
       "      <th>214</th>\n",
       "      <td>215</td>\n",
       "      <td>Turks and Caicos</td>\n",
       "      <td>38717</td>\n",
       "      <td>1.38%</td>\n",
       "      <td>526</td>\n",
       "      <td>41</td>\n",
       "      <td>950</td>\n",
       "      <td>NaN</td>\n",
       "      <td>N.A.</td>\n",
       "      <td>N.A.</td>\n",
       "      <td>89%</td>\n",
       "      <td>0.00%</td>\n",
       "    </tr>\n",
       "    <tr>\n",
       "      <th>215</th>\n",
       "      <td>216</td>\n",
       "      <td>Saint Martin</td>\n",
       "      <td>38666</td>\n",
       "      <td>1.75%</td>\n",
       "      <td>664</td>\n",
       "      <td>730</td>\n",
       "      <td>53</td>\n",
       "      <td>NaN</td>\n",
       "      <td>N.A.</td>\n",
       "      <td>N.A.</td>\n",
       "      <td>0%</td>\n",
       "      <td>0.00%</td>\n",
       "    </tr>\n",
       "    <tr>\n",
       "      <th>216</th>\n",
       "      <td>217</td>\n",
       "      <td>Liechtenstein</td>\n",
       "      <td>38128</td>\n",
       "      <td>0.29%</td>\n",
       "      <td>109</td>\n",
       "      <td>238</td>\n",
       "      <td>160</td>\n",
       "      <td>NaN</td>\n",
       "      <td>N.A.</td>\n",
       "      <td>N.A.</td>\n",
       "      <td>15%</td>\n",
       "      <td>0.00%</td>\n",
       "    </tr>\n",
       "    <tr>\n",
       "      <th>217</th>\n",
       "      <td>218</td>\n",
       "      <td>San Marino</td>\n",
       "      <td>33931</td>\n",
       "      <td>0.21%</td>\n",
       "      <td>71</td>\n",
       "      <td>566</td>\n",
       "      <td>60</td>\n",
       "      <td>NaN</td>\n",
       "      <td>N.A.</td>\n",
       "      <td>N.A.</td>\n",
       "      <td>97%</td>\n",
       "      <td>0.00%</td>\n",
       "    </tr>\n",
       "    <tr>\n",
       "      <th>218</th>\n",
       "      <td>219</td>\n",
       "      <td>Gibraltar</td>\n",
       "      <td>33691</td>\n",
       "      <td>-0.03%</td>\n",
       "      <td>-10</td>\n",
       "      <td>3369</td>\n",
       "      <td>10</td>\n",
       "      <td>NaN</td>\n",
       "      <td>N.A.</td>\n",
       "      <td>N.A.</td>\n",
       "      <td>N.A.</td>\n",
       "      <td>0.00%</td>\n",
       "    </tr>\n",
       "    <tr>\n",
       "      <th>219</th>\n",
       "      <td>220</td>\n",
       "      <td>British Virgin Islands</td>\n",
       "      <td>30231</td>\n",
       "      <td>0.67%</td>\n",
       "      <td>201</td>\n",
       "      <td>202</td>\n",
       "      <td>150</td>\n",
       "      <td>NaN</td>\n",
       "      <td>N.A.</td>\n",
       "      <td>N.A.</td>\n",
       "      <td>52%</td>\n",
       "      <td>0.00%</td>\n",
       "    </tr>\n",
       "    <tr>\n",
       "      <th>220</th>\n",
       "      <td>221</td>\n",
       "      <td>Caribbean Netherlands</td>\n",
       "      <td>26223</td>\n",
       "      <td>0.94%</td>\n",
       "      <td>244</td>\n",
       "      <td>80</td>\n",
       "      <td>328</td>\n",
       "      <td>NaN</td>\n",
       "      <td>N.A.</td>\n",
       "      <td>N.A.</td>\n",
       "      <td>75%</td>\n",
       "      <td>0.00%</td>\n",
       "    </tr>\n",
       "    <tr>\n",
       "      <th>221</th>\n",
       "      <td>222</td>\n",
       "      <td>Palau</td>\n",
       "      <td>18094</td>\n",
       "      <td>0.48%</td>\n",
       "      <td>86</td>\n",
       "      <td>39</td>\n",
       "      <td>460</td>\n",
       "      <td>NaN</td>\n",
       "      <td>N.A.</td>\n",
       "      <td>N.A.</td>\n",
       "      <td>N.A.</td>\n",
       "      <td>0.00%</td>\n",
       "    </tr>\n",
       "    <tr>\n",
       "      <th>222</th>\n",
       "      <td>223</td>\n",
       "      <td>Cook Islands</td>\n",
       "      <td>17564</td>\n",
       "      <td>0.09%</td>\n",
       "      <td>16</td>\n",
       "      <td>73</td>\n",
       "      <td>240</td>\n",
       "      <td>NaN</td>\n",
       "      <td>N.A.</td>\n",
       "      <td>N.A.</td>\n",
       "      <td>75%</td>\n",
       "      <td>0.00%</td>\n",
       "    </tr>\n",
       "    <tr>\n",
       "      <th>223</th>\n",
       "      <td>224</td>\n",
       "      <td>Anguilla</td>\n",
       "      <td>15003</td>\n",
       "      <td>0.90%</td>\n",
       "      <td>134</td>\n",
       "      <td>167</td>\n",
       "      <td>90</td>\n",
       "      <td>NaN</td>\n",
       "      <td>N.A.</td>\n",
       "      <td>N.A.</td>\n",
       "      <td>N.A.</td>\n",
       "      <td>0.00%</td>\n",
       "    </tr>\n",
       "    <tr>\n",
       "      <th>224</th>\n",
       "      <td>225</td>\n",
       "      <td>Tuvalu</td>\n",
       "      <td>11792</td>\n",
       "      <td>1.25%</td>\n",
       "      <td>146</td>\n",
       "      <td>393</td>\n",
       "      <td>30</td>\n",
       "      <td>NaN</td>\n",
       "      <td>N.A.</td>\n",
       "      <td>N.A.</td>\n",
       "      <td>62%</td>\n",
       "      <td>0.00%</td>\n",
       "    </tr>\n",
       "    <tr>\n",
       "      <th>225</th>\n",
       "      <td>226</td>\n",
       "      <td>Wallis &amp; Futuna</td>\n",
       "      <td>11239</td>\n",
       "      <td>-1.69%</td>\n",
       "      <td>-193</td>\n",
       "      <td>80</td>\n",
       "      <td>140</td>\n",
       "      <td>NaN</td>\n",
       "      <td>N.A.</td>\n",
       "      <td>N.A.</td>\n",
       "      <td>0%</td>\n",
       "      <td>0.00%</td>\n",
       "    </tr>\n",
       "    <tr>\n",
       "      <th>226</th>\n",
       "      <td>227</td>\n",
       "      <td>Nauru</td>\n",
       "      <td>10824</td>\n",
       "      <td>0.63%</td>\n",
       "      <td>68</td>\n",
       "      <td>541</td>\n",
       "      <td>20</td>\n",
       "      <td>NaN</td>\n",
       "      <td>N.A.</td>\n",
       "      <td>N.A.</td>\n",
       "      <td>N.A.</td>\n",
       "      <td>0.00%</td>\n",
       "    </tr>\n",
       "    <tr>\n",
       "      <th>227</th>\n",
       "      <td>228</td>\n",
       "      <td>Saint Barthelemy</td>\n",
       "      <td>9877</td>\n",
       "      <td>0.30%</td>\n",
       "      <td>30</td>\n",
       "      <td>470</td>\n",
       "      <td>21</td>\n",
       "      <td>NaN</td>\n",
       "      <td>N.A.</td>\n",
       "      <td>N.A.</td>\n",
       "      <td>0%</td>\n",
       "      <td>0.00%</td>\n",
       "    </tr>\n",
       "    <tr>\n",
       "      <th>228</th>\n",
       "      <td>229</td>\n",
       "      <td>Saint Helena</td>\n",
       "      <td>6077</td>\n",
       "      <td>0.30%</td>\n",
       "      <td>18</td>\n",
       "      <td>16</td>\n",
       "      <td>390</td>\n",
       "      <td>NaN</td>\n",
       "      <td>N.A.</td>\n",
       "      <td>N.A.</td>\n",
       "      <td>27%</td>\n",
       "      <td>0.00%</td>\n",
       "    </tr>\n",
       "    <tr>\n",
       "      <th>229</th>\n",
       "      <td>230</td>\n",
       "      <td>Saint Pierre &amp; Miquelon</td>\n",
       "      <td>5794</td>\n",
       "      <td>-0.48%</td>\n",
       "      <td>-28</td>\n",
       "      <td>25</td>\n",
       "      <td>230</td>\n",
       "      <td>NaN</td>\n",
       "      <td>N.A.</td>\n",
       "      <td>N.A.</td>\n",
       "      <td>100%</td>\n",
       "      <td>0.00%</td>\n",
       "    </tr>\n",
       "    <tr>\n",
       "      <th>230</th>\n",
       "      <td>231</td>\n",
       "      <td>Montserrat</td>\n",
       "      <td>4992</td>\n",
       "      <td>0.06%</td>\n",
       "      <td>3</td>\n",
       "      <td>50</td>\n",
       "      <td>100</td>\n",
       "      <td>NaN</td>\n",
       "      <td>N.A.</td>\n",
       "      <td>N.A.</td>\n",
       "      <td>10%</td>\n",
       "      <td>0.00%</td>\n",
       "    </tr>\n",
       "    <tr>\n",
       "      <th>231</th>\n",
       "      <td>232</td>\n",
       "      <td>Falkland Islands</td>\n",
       "      <td>3480</td>\n",
       "      <td>3.05%</td>\n",
       "      <td>103</td>\n",
       "      <td>0</td>\n",
       "      <td>12170</td>\n",
       "      <td>NaN</td>\n",
       "      <td>N.A.</td>\n",
       "      <td>N.A.</td>\n",
       "      <td>66%</td>\n",
       "      <td>0.00%</td>\n",
       "    </tr>\n",
       "    <tr>\n",
       "      <th>232</th>\n",
       "      <td>233</td>\n",
       "      <td>Niue</td>\n",
       "      <td>1626</td>\n",
       "      <td>0.68%</td>\n",
       "      <td>11</td>\n",
       "      <td>6</td>\n",
       "      <td>260</td>\n",
       "      <td>NaN</td>\n",
       "      <td>N.A.</td>\n",
       "      <td>N.A.</td>\n",
       "      <td>46%</td>\n",
       "      <td>0.00%</td>\n",
       "    </tr>\n",
       "    <tr>\n",
       "      <th>233</th>\n",
       "      <td>234</td>\n",
       "      <td>Tokelau</td>\n",
       "      <td>1357</td>\n",
       "      <td>1.27%</td>\n",
       "      <td>17</td>\n",
       "      <td>136</td>\n",
       "      <td>10</td>\n",
       "      <td>NaN</td>\n",
       "      <td>N.A.</td>\n",
       "      <td>N.A.</td>\n",
       "      <td>0%</td>\n",
       "      <td>0.00%</td>\n",
       "    </tr>\n",
       "    <tr>\n",
       "      <th>234</th>\n",
       "      <td>235</td>\n",
       "      <td>Holy See</td>\n",
       "      <td>801</td>\n",
       "      <td>0.25%</td>\n",
       "      <td>2</td>\n",
       "      <td>2003</td>\n",
       "      <td>0</td>\n",
       "      <td>NaN</td>\n",
       "      <td>N.A.</td>\n",
       "      <td>N.A.</td>\n",
       "      <td>N.A.</td>\n",
       "      <td>0.00%</td>\n",
       "    </tr>\n",
       "  </tbody>\n",
       "</table>\n",
       "</div>"
      ],
      "text/plain": [
       "      no   Country (or dependency)  Population 2020 Yearly Change  Net Change  \\\n",
       "185  186          French Polynesia           280908         0.58%        1621   \n",
       "186  187                   Mayotte           272815         2.50%        6665   \n",
       "187  188       Sao Tome & Principe           219159         1.91%        4103   \n",
       "188  189                     Samoa           198414         0.67%        1317   \n",
       "189  190               Saint Lucia           183627         0.46%         837   \n",
       "190  191           Channel Islands           173863         0.93%        1604   \n",
       "191  192                      Guam           168775         0.89%        1481   \n",
       "192  193                   Curaçao           164093         0.41%         669   \n",
       "193  194                  Kiribati           119449         1.57%        1843   \n",
       "194  195                   Grenada           112523         0.46%         520   \n",
       "195  196  St. Vincent & Grenadines           110940         0.32%         351   \n",
       "196  197                     Aruba           106766         0.43%         452   \n",
       "197  198                     Tonga           105695         1.15%        1201   \n",
       "198  199       U.S. Virgin Islands           104425        -0.15%        -153   \n",
       "199  200                Seychelles            98347         0.62%         608   \n",
       "200  201       Antigua and Barbuda            97929         0.84%         811   \n",
       "201  202               Isle of Man            85033         0.53%         449   \n",
       "202  203                   Andorra            77265         0.16%         123   \n",
       "203  204                  Dominica            71986         0.25%         178   \n",
       "204  205            Cayman Islands            65722         1.19%         774   \n",
       "205  206                   Bermuda            62278        -0.36%        -228   \n",
       "206  207          Marshall Islands            59190         0.68%         399   \n",
       "207  208  Northern Mariana Islands            57559         0.60%         343   \n",
       "208  209                 Greenland            56770         0.17%          98   \n",
       "209  210            American Samoa            55191        -0.22%        -121   \n",
       "210  211       Saint Kitts & Nevis            53199         0.71%         376   \n",
       "211  212            Faeroe Islands            48863         0.38%         185   \n",
       "212  213              Sint Maarten            42876         1.15%         488   \n",
       "213  214                    Monaco            39242         0.71%         278   \n",
       "214  215          Turks and Caicos            38717         1.38%         526   \n",
       "215  216              Saint Martin            38666         1.75%         664   \n",
       "216  217             Liechtenstein            38128         0.29%         109   \n",
       "217  218                San Marino            33931         0.21%          71   \n",
       "218  219                 Gibraltar            33691        -0.03%         -10   \n",
       "219  220    British Virgin Islands            30231         0.67%         201   \n",
       "220  221     Caribbean Netherlands            26223         0.94%         244   \n",
       "221  222                     Palau            18094         0.48%          86   \n",
       "222  223              Cook Islands            17564         0.09%          16   \n",
       "223  224                  Anguilla            15003         0.90%         134   \n",
       "224  225                    Tuvalu            11792         1.25%         146   \n",
       "225  226           Wallis & Futuna            11239        -1.69%        -193   \n",
       "226  227                     Nauru            10824         0.63%          68   \n",
       "227  228          Saint Barthelemy             9877         0.30%          30   \n",
       "228  229              Saint Helena             6077         0.30%          18   \n",
       "229  230   Saint Pierre & Miquelon             5794        -0.48%         -28   \n",
       "230  231                Montserrat             4992         0.06%           3   \n",
       "231  232          Falkland Islands             3480         3.05%         103   \n",
       "232  233                      Niue             1626         0.68%          11   \n",
       "233  234                   Tokelau             1357         1.27%          17   \n",
       "234  235                  Holy See              801         0.25%           2   \n",
       "\n",
       "     Density  (P/Km²)  Land Area (Km²)  Migrants (net) Fert. Rate Med. Age  \\\n",
       "185                77             3660         -1000.0          2       34   \n",
       "186               728              375             0.0        3.7       20   \n",
       "187               228              960         -1680.0        4.4       19   \n",
       "188                70             2830         -2803.0        3.9       22   \n",
       "189               301              610             0.0        1.4       34   \n",
       "190               915              190          1351.0        1.5       43   \n",
       "191               313              540          -506.0        2.3       31   \n",
       "192               370              444           515.0        1.8       42   \n",
       "193               147              810          -800.0        3.6       23   \n",
       "194               331              340          -200.0        2.1       32   \n",
       "195               284              390          -200.0        1.9       33   \n",
       "196               593              180           201.0        1.9       41   \n",
       "197               147              720          -800.0        3.6       22   \n",
       "198               298              350          -451.0          2       43   \n",
       "199               214              460          -200.0        2.5       34   \n",
       "200               223              440             0.0          2       34   \n",
       "201               149              570             NaN       N.A.     N.A.   \n",
       "202               164              470             NaN       N.A.     N.A.   \n",
       "203                96              750             NaN       N.A.     N.A.   \n",
       "204               274              240             NaN       N.A.     N.A.   \n",
       "205              1246               50             NaN       N.A.     N.A.   \n",
       "206               329              180             NaN       N.A.     N.A.   \n",
       "207               125              460             NaN       N.A.     N.A.   \n",
       "208                 0           410450             NaN       N.A.     N.A.   \n",
       "209               276              200             NaN       N.A.     N.A.   \n",
       "210               205              260             NaN       N.A.     N.A.   \n",
       "211                35             1396             NaN       N.A.     N.A.   \n",
       "212              1261               34             NaN       N.A.     N.A.   \n",
       "213             26337                1             NaN       N.A.     N.A.   \n",
       "214                41              950             NaN       N.A.     N.A.   \n",
       "215               730               53             NaN       N.A.     N.A.   \n",
       "216               238              160             NaN       N.A.     N.A.   \n",
       "217               566               60             NaN       N.A.     N.A.   \n",
       "218              3369               10             NaN       N.A.     N.A.   \n",
       "219               202              150             NaN       N.A.     N.A.   \n",
       "220                80              328             NaN       N.A.     N.A.   \n",
       "221                39              460             NaN       N.A.     N.A.   \n",
       "222                73              240             NaN       N.A.     N.A.   \n",
       "223               167               90             NaN       N.A.     N.A.   \n",
       "224               393               30             NaN       N.A.     N.A.   \n",
       "225                80              140             NaN       N.A.     N.A.   \n",
       "226               541               20             NaN       N.A.     N.A.   \n",
       "227               470               21             NaN       N.A.     N.A.   \n",
       "228                16              390             NaN       N.A.     N.A.   \n",
       "229                25              230             NaN       N.A.     N.A.   \n",
       "230                50              100             NaN       N.A.     N.A.   \n",
       "231                 0            12170             NaN       N.A.     N.A.   \n",
       "232                 6              260             NaN       N.A.     N.A.   \n",
       "233               136               10             NaN       N.A.     N.A.   \n",
       "234              2003                0             NaN       N.A.     N.A.   \n",
       "\n",
       "    Urban Pop % World Share  \n",
       "185         64%       0.00%  \n",
       "186         46%       0.00%  \n",
       "187         74%       0.00%  \n",
       "188         18%       0.00%  \n",
       "189         19%       0.00%  \n",
       "190         30%       0.00%  \n",
       "191         95%       0.00%  \n",
       "192         89%       0.00%  \n",
       "193         57%       0.00%  \n",
       "194         35%       0.00%  \n",
       "195         53%       0.00%  \n",
       "196         44%       0.00%  \n",
       "197         24%       0.00%  \n",
       "198         96%       0.00%  \n",
       "199         56%       0.00%  \n",
       "200         26%       0.00%  \n",
       "201         53%       0.00%  \n",
       "202         88%       0.00%  \n",
       "203         74%       0.00%  \n",
       "204         97%       0.00%  \n",
       "205         97%       0.00%  \n",
       "206         70%       0.00%  \n",
       "207         88%       0.00%  \n",
       "208         87%       0.00%  \n",
       "209         88%       0.00%  \n",
       "210         33%       0.00%  \n",
       "211         43%       0.00%  \n",
       "212         96%       0.00%  \n",
       "213        N.A.       0.00%  \n",
       "214         89%       0.00%  \n",
       "215          0%       0.00%  \n",
       "216         15%       0.00%  \n",
       "217         97%       0.00%  \n",
       "218        N.A.       0.00%  \n",
       "219         52%       0.00%  \n",
       "220         75%       0.00%  \n",
       "221        N.A.       0.00%  \n",
       "222         75%       0.00%  \n",
       "223        N.A.       0.00%  \n",
       "224         62%       0.00%  \n",
       "225          0%       0.00%  \n",
       "226        N.A.       0.00%  \n",
       "227          0%       0.00%  \n",
       "228         27%       0.00%  \n",
       "229        100%       0.00%  \n",
       "230         10%       0.00%  \n",
       "231         66%       0.00%  \n",
       "232         46%       0.00%  \n",
       "233          0%       0.00%  \n",
       "234        N.A.       0.00%  "
      ]
     },
     "execution_count": 113,
     "metadata": {},
     "output_type": "execute_result"
    }
   ],
   "source": [
    "df.tail(50)"
   ]
  },
  {
   "cell_type": "code",
   "execution_count": 114,
   "id": "9bfd0ef6",
   "metadata": {},
   "outputs": [
    {
     "data": {
      "text/plain": [
       "no                          0\n",
       "Country (or dependency)     0\n",
       "Population 2020             0\n",
       "Yearly Change               0\n",
       "Net Change                  0\n",
       "Density  (P/Km²)            0\n",
       "Land Area (Km²)             0\n",
       "Migrants (net)             34\n",
       "Fert. Rate                  0\n",
       "Med. Age                    0\n",
       "Urban Pop %                 0\n",
       "World Share                 0\n",
       "dtype: int64"
      ]
     },
     "execution_count": 114,
     "metadata": {},
     "output_type": "execute_result"
    }
   ],
   "source": [
    "df.isnull().sum()  # I want to remove N.A's from columns instead of deleting them with dropna."
   ]
  },
  {
   "cell_type": "code",
   "execution_count": 115,
   "id": "46492983",
   "metadata": {},
   "outputs": [],
   "source": [
    "df.drop(df.index[df['Fert. Rate'] == 'N.A.'], inplace = True)\n",
    "df.drop(df.index[df['Med. Age'] == 'N.A.'], inplace = True)"
   ]
  },
  {
   "cell_type": "code",
   "execution_count": 116,
   "id": "820b1201",
   "metadata": {},
   "outputs": [
    {
     "data": {
      "text/html": [
       "<div>\n",
       "<style scoped>\n",
       "    .dataframe tbody tr th:only-of-type {\n",
       "        vertical-align: middle;\n",
       "    }\n",
       "\n",
       "    .dataframe tbody tr th {\n",
       "        vertical-align: top;\n",
       "    }\n",
       "\n",
       "    .dataframe thead th {\n",
       "        text-align: right;\n",
       "    }\n",
       "</style>\n",
       "<table border=\"1\" class=\"dataframe\">\n",
       "  <thead>\n",
       "    <tr style=\"text-align: right;\">\n",
       "      <th></th>\n",
       "      <th>no</th>\n",
       "      <th>Country (or dependency)</th>\n",
       "      <th>Population 2020</th>\n",
       "      <th>Yearly Change</th>\n",
       "      <th>Net Change</th>\n",
       "      <th>Density  (P/Km²)</th>\n",
       "      <th>Land Area (Km²)</th>\n",
       "      <th>Migrants (net)</th>\n",
       "      <th>Fert. Rate</th>\n",
       "      <th>Med. Age</th>\n",
       "      <th>Urban Pop %</th>\n",
       "      <th>World Share</th>\n",
       "    </tr>\n",
       "  </thead>\n",
       "  <tbody>\n",
       "    <tr>\n",
       "      <th>151</th>\n",
       "      <td>152</td>\n",
       "      <td>Bahrain</td>\n",
       "      <td>1701575</td>\n",
       "      <td>3.68%</td>\n",
       "      <td>60403</td>\n",
       "      <td>2239</td>\n",
       "      <td>760</td>\n",
       "      <td>47800.0</td>\n",
       "      <td>2</td>\n",
       "      <td>32</td>\n",
       "      <td>89%</td>\n",
       "      <td>0.02%</td>\n",
       "    </tr>\n",
       "    <tr>\n",
       "      <th>152</th>\n",
       "      <td>153</td>\n",
       "      <td>Equatorial Guinea</td>\n",
       "      <td>1402985</td>\n",
       "      <td>3.47%</td>\n",
       "      <td>46999</td>\n",
       "      <td>50</td>\n",
       "      <td>28050</td>\n",
       "      <td>16000.0</td>\n",
       "      <td>4.6</td>\n",
       "      <td>22</td>\n",
       "      <td>73%</td>\n",
       "      <td>0.02%</td>\n",
       "    </tr>\n",
       "    <tr>\n",
       "      <th>153</th>\n",
       "      <td>154</td>\n",
       "      <td>Trinidad and Tobago</td>\n",
       "      <td>1399488</td>\n",
       "      <td>0.32%</td>\n",
       "      <td>4515</td>\n",
       "      <td>273</td>\n",
       "      <td>5130</td>\n",
       "      <td>-800.0</td>\n",
       "      <td>1.7</td>\n",
       "      <td>36</td>\n",
       "      <td>52%</td>\n",
       "      <td>0.02%</td>\n",
       "    </tr>\n",
       "    <tr>\n",
       "      <th>154</th>\n",
       "      <td>155</td>\n",
       "      <td>Estonia</td>\n",
       "      <td>1326535</td>\n",
       "      <td>0.07%</td>\n",
       "      <td>887</td>\n",
       "      <td>31</td>\n",
       "      <td>42390</td>\n",
       "      <td>3911.0</td>\n",
       "      <td>1.6</td>\n",
       "      <td>42</td>\n",
       "      <td>68%</td>\n",
       "      <td>0.02%</td>\n",
       "    </tr>\n",
       "    <tr>\n",
       "      <th>155</th>\n",
       "      <td>156</td>\n",
       "      <td>Timor-Leste</td>\n",
       "      <td>1318445</td>\n",
       "      <td>1.96%</td>\n",
       "      <td>25326</td>\n",
       "      <td>89</td>\n",
       "      <td>14870</td>\n",
       "      <td>-5385.0</td>\n",
       "      <td>4.1</td>\n",
       "      <td>21</td>\n",
       "      <td>33%</td>\n",
       "      <td>0.02%</td>\n",
       "    </tr>\n",
       "    <tr>\n",
       "      <th>156</th>\n",
       "      <td>157</td>\n",
       "      <td>Mauritius</td>\n",
       "      <td>1271768</td>\n",
       "      <td>0.17%</td>\n",
       "      <td>2100</td>\n",
       "      <td>626</td>\n",
       "      <td>2030</td>\n",
       "      <td>0.0</td>\n",
       "      <td>1.4</td>\n",
       "      <td>37</td>\n",
       "      <td>41%</td>\n",
       "      <td>0.02%</td>\n",
       "    </tr>\n",
       "    <tr>\n",
       "      <th>157</th>\n",
       "      <td>158</td>\n",
       "      <td>Cyprus</td>\n",
       "      <td>1207359</td>\n",
       "      <td>0.73%</td>\n",
       "      <td>8784</td>\n",
       "      <td>131</td>\n",
       "      <td>9240</td>\n",
       "      <td>5000.0</td>\n",
       "      <td>1.3</td>\n",
       "      <td>37</td>\n",
       "      <td>67%</td>\n",
       "      <td>0.02%</td>\n",
       "    </tr>\n",
       "    <tr>\n",
       "      <th>158</th>\n",
       "      <td>159</td>\n",
       "      <td>Eswatini</td>\n",
       "      <td>1160164</td>\n",
       "      <td>1.05%</td>\n",
       "      <td>12034</td>\n",
       "      <td>67</td>\n",
       "      <td>17200</td>\n",
       "      <td>-8353.0</td>\n",
       "      <td>3</td>\n",
       "      <td>21</td>\n",
       "      <td>30%</td>\n",
       "      <td>0.01%</td>\n",
       "    </tr>\n",
       "    <tr>\n",
       "      <th>159</th>\n",
       "      <td>160</td>\n",
       "      <td>Djibouti</td>\n",
       "      <td>988000</td>\n",
       "      <td>1.48%</td>\n",
       "      <td>14440</td>\n",
       "      <td>43</td>\n",
       "      <td>23180</td>\n",
       "      <td>900.0</td>\n",
       "      <td>2.8</td>\n",
       "      <td>27</td>\n",
       "      <td>79%</td>\n",
       "      <td>0.01%</td>\n",
       "    </tr>\n",
       "    <tr>\n",
       "      <th>160</th>\n",
       "      <td>161</td>\n",
       "      <td>Fiji</td>\n",
       "      <td>896445</td>\n",
       "      <td>0.73%</td>\n",
       "      <td>6492</td>\n",
       "      <td>49</td>\n",
       "      <td>18270</td>\n",
       "      <td>-6202.0</td>\n",
       "      <td>2.8</td>\n",
       "      <td>28</td>\n",
       "      <td>59%</td>\n",
       "      <td>0.01%</td>\n",
       "    </tr>\n",
       "    <tr>\n",
       "      <th>161</th>\n",
       "      <td>162</td>\n",
       "      <td>Réunion</td>\n",
       "      <td>895312</td>\n",
       "      <td>0.72%</td>\n",
       "      <td>6385</td>\n",
       "      <td>358</td>\n",
       "      <td>2500</td>\n",
       "      <td>-1256.0</td>\n",
       "      <td>2.3</td>\n",
       "      <td>36</td>\n",
       "      <td>100%</td>\n",
       "      <td>0.01%</td>\n",
       "    </tr>\n",
       "    <tr>\n",
       "      <th>162</th>\n",
       "      <td>163</td>\n",
       "      <td>Comoros</td>\n",
       "      <td>869601</td>\n",
       "      <td>2.20%</td>\n",
       "      <td>18715</td>\n",
       "      <td>467</td>\n",
       "      <td>1861</td>\n",
       "      <td>-2000.0</td>\n",
       "      <td>4.2</td>\n",
       "      <td>20</td>\n",
       "      <td>29%</td>\n",
       "      <td>0.01%</td>\n",
       "    </tr>\n",
       "    <tr>\n",
       "      <th>163</th>\n",
       "      <td>164</td>\n",
       "      <td>Guyana</td>\n",
       "      <td>786552</td>\n",
       "      <td>0.48%</td>\n",
       "      <td>3786</td>\n",
       "      <td>4</td>\n",
       "      <td>196850</td>\n",
       "      <td>-6000.0</td>\n",
       "      <td>2.5</td>\n",
       "      <td>27</td>\n",
       "      <td>27%</td>\n",
       "      <td>0.01%</td>\n",
       "    </tr>\n",
       "    <tr>\n",
       "      <th>164</th>\n",
       "      <td>165</td>\n",
       "      <td>Bhutan</td>\n",
       "      <td>771608</td>\n",
       "      <td>1.12%</td>\n",
       "      <td>8516</td>\n",
       "      <td>20</td>\n",
       "      <td>38117</td>\n",
       "      <td>320.0</td>\n",
       "      <td>2</td>\n",
       "      <td>28</td>\n",
       "      <td>46%</td>\n",
       "      <td>0.01%</td>\n",
       "    </tr>\n",
       "    <tr>\n",
       "      <th>165</th>\n",
       "      <td>166</td>\n",
       "      <td>Solomon Islands</td>\n",
       "      <td>686884</td>\n",
       "      <td>2.55%</td>\n",
       "      <td>17061</td>\n",
       "      <td>25</td>\n",
       "      <td>27990</td>\n",
       "      <td>-1600.0</td>\n",
       "      <td>4.4</td>\n",
       "      <td>20</td>\n",
       "      <td>23%</td>\n",
       "      <td>0.01%</td>\n",
       "    </tr>\n",
       "    <tr>\n",
       "      <th>166</th>\n",
       "      <td>167</td>\n",
       "      <td>Macao</td>\n",
       "      <td>649335</td>\n",
       "      <td>1.39%</td>\n",
       "      <td>8890</td>\n",
       "      <td>21645</td>\n",
       "      <td>30</td>\n",
       "      <td>5000.0</td>\n",
       "      <td>1.2</td>\n",
       "      <td>39</td>\n",
       "      <td>N.A.</td>\n",
       "      <td>0.01%</td>\n",
       "    </tr>\n",
       "    <tr>\n",
       "      <th>167</th>\n",
       "      <td>168</td>\n",
       "      <td>Montenegro</td>\n",
       "      <td>628066</td>\n",
       "      <td>0.01%</td>\n",
       "      <td>79</td>\n",
       "      <td>47</td>\n",
       "      <td>13450</td>\n",
       "      <td>-480.0</td>\n",
       "      <td>1.8</td>\n",
       "      <td>39</td>\n",
       "      <td>68%</td>\n",
       "      <td>0.01%</td>\n",
       "    </tr>\n",
       "    <tr>\n",
       "      <th>168</th>\n",
       "      <td>169</td>\n",
       "      <td>Luxembourg</td>\n",
       "      <td>625978</td>\n",
       "      <td>1.66%</td>\n",
       "      <td>10249</td>\n",
       "      <td>242</td>\n",
       "      <td>2590</td>\n",
       "      <td>9741.0</td>\n",
       "      <td>1.5</td>\n",
       "      <td>40</td>\n",
       "      <td>88%</td>\n",
       "      <td>0.01%</td>\n",
       "    </tr>\n",
       "    <tr>\n",
       "      <th>169</th>\n",
       "      <td>170</td>\n",
       "      <td>Western Sahara</td>\n",
       "      <td>597339</td>\n",
       "      <td>2.55%</td>\n",
       "      <td>14876</td>\n",
       "      <td>2</td>\n",
       "      <td>266000</td>\n",
       "      <td>5582.0</td>\n",
       "      <td>2.4</td>\n",
       "      <td>28</td>\n",
       "      <td>87%</td>\n",
       "      <td>0.01%</td>\n",
       "    </tr>\n",
       "    <tr>\n",
       "      <th>170</th>\n",
       "      <td>171</td>\n",
       "      <td>Suriname</td>\n",
       "      <td>586632</td>\n",
       "      <td>0.90%</td>\n",
       "      <td>5260</td>\n",
       "      <td>4</td>\n",
       "      <td>156000</td>\n",
       "      <td>-1000.0</td>\n",
       "      <td>2.4</td>\n",
       "      <td>29</td>\n",
       "      <td>65%</td>\n",
       "      <td>0.01%</td>\n",
       "    </tr>\n",
       "    <tr>\n",
       "      <th>171</th>\n",
       "      <td>172</td>\n",
       "      <td>Cabo Verde</td>\n",
       "      <td>555987</td>\n",
       "      <td>1.10%</td>\n",
       "      <td>6052</td>\n",
       "      <td>138</td>\n",
       "      <td>4030</td>\n",
       "      <td>-1342.0</td>\n",
       "      <td>2.3</td>\n",
       "      <td>28</td>\n",
       "      <td>68%</td>\n",
       "      <td>0.01%</td>\n",
       "    </tr>\n",
       "    <tr>\n",
       "      <th>172</th>\n",
       "      <td>173</td>\n",
       "      <td>Micronesia</td>\n",
       "      <td>548914</td>\n",
       "      <td>1.00%</td>\n",
       "      <td>5428</td>\n",
       "      <td>784</td>\n",
       "      <td>700</td>\n",
       "      <td>-2957.0</td>\n",
       "      <td>2.9</td>\n",
       "      <td>27</td>\n",
       "      <td>68%</td>\n",
       "      <td>0.01%</td>\n",
       "    </tr>\n",
       "    <tr>\n",
       "      <th>173</th>\n",
       "      <td>174</td>\n",
       "      <td>Maldives</td>\n",
       "      <td>540544</td>\n",
       "      <td>1.81%</td>\n",
       "      <td>9591</td>\n",
       "      <td>1802</td>\n",
       "      <td>300</td>\n",
       "      <td>11370.0</td>\n",
       "      <td>1.9</td>\n",
       "      <td>30</td>\n",
       "      <td>35%</td>\n",
       "      <td>0.01%</td>\n",
       "    </tr>\n",
       "    <tr>\n",
       "      <th>174</th>\n",
       "      <td>175</td>\n",
       "      <td>Malta</td>\n",
       "      <td>441543</td>\n",
       "      <td>0.27%</td>\n",
       "      <td>1171</td>\n",
       "      <td>1380</td>\n",
       "      <td>320</td>\n",
       "      <td>900.0</td>\n",
       "      <td>1.5</td>\n",
       "      <td>43</td>\n",
       "      <td>93%</td>\n",
       "      <td>0.01%</td>\n",
       "    </tr>\n",
       "    <tr>\n",
       "      <th>175</th>\n",
       "      <td>176</td>\n",
       "      <td>Brunei</td>\n",
       "      <td>437479</td>\n",
       "      <td>0.97%</td>\n",
       "      <td>4194</td>\n",
       "      <td>83</td>\n",
       "      <td>5270</td>\n",
       "      <td>0.0</td>\n",
       "      <td>1.8</td>\n",
       "      <td>32</td>\n",
       "      <td>80%</td>\n",
       "      <td>0.01%</td>\n",
       "    </tr>\n",
       "    <tr>\n",
       "      <th>176</th>\n",
       "      <td>177</td>\n",
       "      <td>Guadeloupe</td>\n",
       "      <td>400124</td>\n",
       "      <td>0.02%</td>\n",
       "      <td>68</td>\n",
       "      <td>237</td>\n",
       "      <td>1690</td>\n",
       "      <td>-1440.0</td>\n",
       "      <td>2.2</td>\n",
       "      <td>44</td>\n",
       "      <td>N.A.</td>\n",
       "      <td>0.01%</td>\n",
       "    </tr>\n",
       "    <tr>\n",
       "      <th>177</th>\n",
       "      <td>178</td>\n",
       "      <td>Belize</td>\n",
       "      <td>397628</td>\n",
       "      <td>1.86%</td>\n",
       "      <td>7275</td>\n",
       "      <td>17</td>\n",
       "      <td>22810</td>\n",
       "      <td>1200.0</td>\n",
       "      <td>2.3</td>\n",
       "      <td>25</td>\n",
       "      <td>46%</td>\n",
       "      <td>0.01%</td>\n",
       "    </tr>\n",
       "    <tr>\n",
       "      <th>178</th>\n",
       "      <td>179</td>\n",
       "      <td>Bahamas</td>\n",
       "      <td>393244</td>\n",
       "      <td>0.97%</td>\n",
       "      <td>3762</td>\n",
       "      <td>39</td>\n",
       "      <td>10010</td>\n",
       "      <td>1000.0</td>\n",
       "      <td>1.8</td>\n",
       "      <td>32</td>\n",
       "      <td>86%</td>\n",
       "      <td>0.01%</td>\n",
       "    </tr>\n",
       "    <tr>\n",
       "      <th>179</th>\n",
       "      <td>180</td>\n",
       "      <td>Martinique</td>\n",
       "      <td>375265</td>\n",
       "      <td>-0.08%</td>\n",
       "      <td>-289</td>\n",
       "      <td>354</td>\n",
       "      <td>1060</td>\n",
       "      <td>-960.0</td>\n",
       "      <td>1.9</td>\n",
       "      <td>47</td>\n",
       "      <td>92%</td>\n",
       "      <td>0.00%</td>\n",
       "    </tr>\n",
       "    <tr>\n",
       "      <th>180</th>\n",
       "      <td>181</td>\n",
       "      <td>Iceland</td>\n",
       "      <td>341243</td>\n",
       "      <td>0.65%</td>\n",
       "      <td>2212</td>\n",
       "      <td>3</td>\n",
       "      <td>100250</td>\n",
       "      <td>380.0</td>\n",
       "      <td>1.8</td>\n",
       "      <td>37</td>\n",
       "      <td>94%</td>\n",
       "      <td>0.00%</td>\n",
       "    </tr>\n",
       "    <tr>\n",
       "      <th>181</th>\n",
       "      <td>182</td>\n",
       "      <td>Vanuatu</td>\n",
       "      <td>307145</td>\n",
       "      <td>2.42%</td>\n",
       "      <td>7263</td>\n",
       "      <td>25</td>\n",
       "      <td>12190</td>\n",
       "      <td>120.0</td>\n",
       "      <td>3.8</td>\n",
       "      <td>21</td>\n",
       "      <td>24%</td>\n",
       "      <td>0.00%</td>\n",
       "    </tr>\n",
       "    <tr>\n",
       "      <th>182</th>\n",
       "      <td>183</td>\n",
       "      <td>French Guiana</td>\n",
       "      <td>298682</td>\n",
       "      <td>2.70%</td>\n",
       "      <td>7850</td>\n",
       "      <td>4</td>\n",
       "      <td>82200</td>\n",
       "      <td>1200.0</td>\n",
       "      <td>3.4</td>\n",
       "      <td>25</td>\n",
       "      <td>87%</td>\n",
       "      <td>0.00%</td>\n",
       "    </tr>\n",
       "    <tr>\n",
       "      <th>183</th>\n",
       "      <td>184</td>\n",
       "      <td>Barbados</td>\n",
       "      <td>287375</td>\n",
       "      <td>0.12%</td>\n",
       "      <td>350</td>\n",
       "      <td>668</td>\n",
       "      <td>430</td>\n",
       "      <td>-79.0</td>\n",
       "      <td>1.6</td>\n",
       "      <td>40</td>\n",
       "      <td>31%</td>\n",
       "      <td>0.00%</td>\n",
       "    </tr>\n",
       "    <tr>\n",
       "      <th>184</th>\n",
       "      <td>185</td>\n",
       "      <td>New Caledonia</td>\n",
       "      <td>285498</td>\n",
       "      <td>0.97%</td>\n",
       "      <td>2748</td>\n",
       "      <td>16</td>\n",
       "      <td>18280</td>\n",
       "      <td>502.0</td>\n",
       "      <td>2</td>\n",
       "      <td>34</td>\n",
       "      <td>72%</td>\n",
       "      <td>0.00%</td>\n",
       "    </tr>\n",
       "    <tr>\n",
       "      <th>185</th>\n",
       "      <td>186</td>\n",
       "      <td>French Polynesia</td>\n",
       "      <td>280908</td>\n",
       "      <td>0.58%</td>\n",
       "      <td>1621</td>\n",
       "      <td>77</td>\n",
       "      <td>3660</td>\n",
       "      <td>-1000.0</td>\n",
       "      <td>2</td>\n",
       "      <td>34</td>\n",
       "      <td>64%</td>\n",
       "      <td>0.00%</td>\n",
       "    </tr>\n",
       "    <tr>\n",
       "      <th>186</th>\n",
       "      <td>187</td>\n",
       "      <td>Mayotte</td>\n",
       "      <td>272815</td>\n",
       "      <td>2.50%</td>\n",
       "      <td>6665</td>\n",
       "      <td>728</td>\n",
       "      <td>375</td>\n",
       "      <td>0.0</td>\n",
       "      <td>3.7</td>\n",
       "      <td>20</td>\n",
       "      <td>46%</td>\n",
       "      <td>0.00%</td>\n",
       "    </tr>\n",
       "    <tr>\n",
       "      <th>187</th>\n",
       "      <td>188</td>\n",
       "      <td>Sao Tome &amp; Principe</td>\n",
       "      <td>219159</td>\n",
       "      <td>1.91%</td>\n",
       "      <td>4103</td>\n",
       "      <td>228</td>\n",
       "      <td>960</td>\n",
       "      <td>-1680.0</td>\n",
       "      <td>4.4</td>\n",
       "      <td>19</td>\n",
       "      <td>74%</td>\n",
       "      <td>0.00%</td>\n",
       "    </tr>\n",
       "    <tr>\n",
       "      <th>188</th>\n",
       "      <td>189</td>\n",
       "      <td>Samoa</td>\n",
       "      <td>198414</td>\n",
       "      <td>0.67%</td>\n",
       "      <td>1317</td>\n",
       "      <td>70</td>\n",
       "      <td>2830</td>\n",
       "      <td>-2803.0</td>\n",
       "      <td>3.9</td>\n",
       "      <td>22</td>\n",
       "      <td>18%</td>\n",
       "      <td>0.00%</td>\n",
       "    </tr>\n",
       "    <tr>\n",
       "      <th>189</th>\n",
       "      <td>190</td>\n",
       "      <td>Saint Lucia</td>\n",
       "      <td>183627</td>\n",
       "      <td>0.46%</td>\n",
       "      <td>837</td>\n",
       "      <td>301</td>\n",
       "      <td>610</td>\n",
       "      <td>0.0</td>\n",
       "      <td>1.4</td>\n",
       "      <td>34</td>\n",
       "      <td>19%</td>\n",
       "      <td>0.00%</td>\n",
       "    </tr>\n",
       "    <tr>\n",
       "      <th>190</th>\n",
       "      <td>191</td>\n",
       "      <td>Channel Islands</td>\n",
       "      <td>173863</td>\n",
       "      <td>0.93%</td>\n",
       "      <td>1604</td>\n",
       "      <td>915</td>\n",
       "      <td>190</td>\n",
       "      <td>1351.0</td>\n",
       "      <td>1.5</td>\n",
       "      <td>43</td>\n",
       "      <td>30%</td>\n",
       "      <td>0.00%</td>\n",
       "    </tr>\n",
       "    <tr>\n",
       "      <th>191</th>\n",
       "      <td>192</td>\n",
       "      <td>Guam</td>\n",
       "      <td>168775</td>\n",
       "      <td>0.89%</td>\n",
       "      <td>1481</td>\n",
       "      <td>313</td>\n",
       "      <td>540</td>\n",
       "      <td>-506.0</td>\n",
       "      <td>2.3</td>\n",
       "      <td>31</td>\n",
       "      <td>95%</td>\n",
       "      <td>0.00%</td>\n",
       "    </tr>\n",
       "    <tr>\n",
       "      <th>192</th>\n",
       "      <td>193</td>\n",
       "      <td>Curaçao</td>\n",
       "      <td>164093</td>\n",
       "      <td>0.41%</td>\n",
       "      <td>669</td>\n",
       "      <td>370</td>\n",
       "      <td>444</td>\n",
       "      <td>515.0</td>\n",
       "      <td>1.8</td>\n",
       "      <td>42</td>\n",
       "      <td>89%</td>\n",
       "      <td>0.00%</td>\n",
       "    </tr>\n",
       "    <tr>\n",
       "      <th>193</th>\n",
       "      <td>194</td>\n",
       "      <td>Kiribati</td>\n",
       "      <td>119449</td>\n",
       "      <td>1.57%</td>\n",
       "      <td>1843</td>\n",
       "      <td>147</td>\n",
       "      <td>810</td>\n",
       "      <td>-800.0</td>\n",
       "      <td>3.6</td>\n",
       "      <td>23</td>\n",
       "      <td>57%</td>\n",
       "      <td>0.00%</td>\n",
       "    </tr>\n",
       "    <tr>\n",
       "      <th>194</th>\n",
       "      <td>195</td>\n",
       "      <td>Grenada</td>\n",
       "      <td>112523</td>\n",
       "      <td>0.46%</td>\n",
       "      <td>520</td>\n",
       "      <td>331</td>\n",
       "      <td>340</td>\n",
       "      <td>-200.0</td>\n",
       "      <td>2.1</td>\n",
       "      <td>32</td>\n",
       "      <td>35%</td>\n",
       "      <td>0.00%</td>\n",
       "    </tr>\n",
       "    <tr>\n",
       "      <th>195</th>\n",
       "      <td>196</td>\n",
       "      <td>St. Vincent &amp; Grenadines</td>\n",
       "      <td>110940</td>\n",
       "      <td>0.32%</td>\n",
       "      <td>351</td>\n",
       "      <td>284</td>\n",
       "      <td>390</td>\n",
       "      <td>-200.0</td>\n",
       "      <td>1.9</td>\n",
       "      <td>33</td>\n",
       "      <td>53%</td>\n",
       "      <td>0.00%</td>\n",
       "    </tr>\n",
       "    <tr>\n",
       "      <th>196</th>\n",
       "      <td>197</td>\n",
       "      <td>Aruba</td>\n",
       "      <td>106766</td>\n",
       "      <td>0.43%</td>\n",
       "      <td>452</td>\n",
       "      <td>593</td>\n",
       "      <td>180</td>\n",
       "      <td>201.0</td>\n",
       "      <td>1.9</td>\n",
       "      <td>41</td>\n",
       "      <td>44%</td>\n",
       "      <td>0.00%</td>\n",
       "    </tr>\n",
       "    <tr>\n",
       "      <th>197</th>\n",
       "      <td>198</td>\n",
       "      <td>Tonga</td>\n",
       "      <td>105695</td>\n",
       "      <td>1.15%</td>\n",
       "      <td>1201</td>\n",
       "      <td>147</td>\n",
       "      <td>720</td>\n",
       "      <td>-800.0</td>\n",
       "      <td>3.6</td>\n",
       "      <td>22</td>\n",
       "      <td>24%</td>\n",
       "      <td>0.00%</td>\n",
       "    </tr>\n",
       "    <tr>\n",
       "      <th>198</th>\n",
       "      <td>199</td>\n",
       "      <td>U.S. Virgin Islands</td>\n",
       "      <td>104425</td>\n",
       "      <td>-0.15%</td>\n",
       "      <td>-153</td>\n",
       "      <td>298</td>\n",
       "      <td>350</td>\n",
       "      <td>-451.0</td>\n",
       "      <td>2</td>\n",
       "      <td>43</td>\n",
       "      <td>96%</td>\n",
       "      <td>0.00%</td>\n",
       "    </tr>\n",
       "    <tr>\n",
       "      <th>199</th>\n",
       "      <td>200</td>\n",
       "      <td>Seychelles</td>\n",
       "      <td>98347</td>\n",
       "      <td>0.62%</td>\n",
       "      <td>608</td>\n",
       "      <td>214</td>\n",
       "      <td>460</td>\n",
       "      <td>-200.0</td>\n",
       "      <td>2.5</td>\n",
       "      <td>34</td>\n",
       "      <td>56%</td>\n",
       "      <td>0.00%</td>\n",
       "    </tr>\n",
       "    <tr>\n",
       "      <th>200</th>\n",
       "      <td>201</td>\n",
       "      <td>Antigua and Barbuda</td>\n",
       "      <td>97929</td>\n",
       "      <td>0.84%</td>\n",
       "      <td>811</td>\n",
       "      <td>223</td>\n",
       "      <td>440</td>\n",
       "      <td>0.0</td>\n",
       "      <td>2</td>\n",
       "      <td>34</td>\n",
       "      <td>26%</td>\n",
       "      <td>0.00%</td>\n",
       "    </tr>\n",
       "  </tbody>\n",
       "</table>\n",
       "</div>"
      ],
      "text/plain": [
       "      no   Country (or dependency)  Population 2020 Yearly Change  Net Change  \\\n",
       "151  152                   Bahrain          1701575         3.68%       60403   \n",
       "152  153         Equatorial Guinea          1402985         3.47%       46999   \n",
       "153  154       Trinidad and Tobago          1399488         0.32%        4515   \n",
       "154  155                   Estonia          1326535         0.07%         887   \n",
       "155  156               Timor-Leste          1318445         1.96%       25326   \n",
       "156  157                 Mauritius          1271768         0.17%        2100   \n",
       "157  158                    Cyprus          1207359         0.73%        8784   \n",
       "158  159                  Eswatini          1160164         1.05%       12034   \n",
       "159  160                  Djibouti           988000         1.48%       14440   \n",
       "160  161                      Fiji           896445         0.73%        6492   \n",
       "161  162                   Réunion           895312         0.72%        6385   \n",
       "162  163                   Comoros           869601         2.20%       18715   \n",
       "163  164                    Guyana           786552         0.48%        3786   \n",
       "164  165                    Bhutan           771608         1.12%        8516   \n",
       "165  166           Solomon Islands           686884         2.55%       17061   \n",
       "166  167                     Macao           649335         1.39%        8890   \n",
       "167  168                Montenegro           628066         0.01%          79   \n",
       "168  169                Luxembourg           625978         1.66%       10249   \n",
       "169  170            Western Sahara           597339         2.55%       14876   \n",
       "170  171                  Suriname           586632         0.90%        5260   \n",
       "171  172                Cabo Verde           555987         1.10%        6052   \n",
       "172  173                Micronesia           548914         1.00%        5428   \n",
       "173  174                  Maldives           540544         1.81%        9591   \n",
       "174  175                     Malta           441543         0.27%        1171   \n",
       "175  176                    Brunei           437479         0.97%        4194   \n",
       "176  177                Guadeloupe           400124         0.02%          68   \n",
       "177  178                    Belize           397628         1.86%        7275   \n",
       "178  179                   Bahamas           393244         0.97%        3762   \n",
       "179  180                Martinique           375265        -0.08%        -289   \n",
       "180  181                   Iceland           341243         0.65%        2212   \n",
       "181  182                   Vanuatu           307145         2.42%        7263   \n",
       "182  183             French Guiana           298682         2.70%        7850   \n",
       "183  184                  Barbados           287375         0.12%         350   \n",
       "184  185             New Caledonia           285498         0.97%        2748   \n",
       "185  186          French Polynesia           280908         0.58%        1621   \n",
       "186  187                   Mayotte           272815         2.50%        6665   \n",
       "187  188       Sao Tome & Principe           219159         1.91%        4103   \n",
       "188  189                     Samoa           198414         0.67%        1317   \n",
       "189  190               Saint Lucia           183627         0.46%         837   \n",
       "190  191           Channel Islands           173863         0.93%        1604   \n",
       "191  192                      Guam           168775         0.89%        1481   \n",
       "192  193                   Curaçao           164093         0.41%         669   \n",
       "193  194                  Kiribati           119449         1.57%        1843   \n",
       "194  195                   Grenada           112523         0.46%         520   \n",
       "195  196  St. Vincent & Grenadines           110940         0.32%         351   \n",
       "196  197                     Aruba           106766         0.43%         452   \n",
       "197  198                     Tonga           105695         1.15%        1201   \n",
       "198  199       U.S. Virgin Islands           104425        -0.15%        -153   \n",
       "199  200                Seychelles            98347         0.62%         608   \n",
       "200  201       Antigua and Barbuda            97929         0.84%         811   \n",
       "\n",
       "     Density  (P/Km²)  Land Area (Km²)  Migrants (net) Fert. Rate Med. Age  \\\n",
       "151              2239              760         47800.0          2       32   \n",
       "152                50            28050         16000.0        4.6       22   \n",
       "153               273             5130          -800.0        1.7       36   \n",
       "154                31            42390          3911.0        1.6       42   \n",
       "155                89            14870         -5385.0        4.1       21   \n",
       "156               626             2030             0.0        1.4       37   \n",
       "157               131             9240          5000.0        1.3       37   \n",
       "158                67            17200         -8353.0          3       21   \n",
       "159                43            23180           900.0        2.8       27   \n",
       "160                49            18270         -6202.0        2.8       28   \n",
       "161               358             2500         -1256.0        2.3       36   \n",
       "162               467             1861         -2000.0        4.2       20   \n",
       "163                 4           196850         -6000.0        2.5       27   \n",
       "164                20            38117           320.0          2       28   \n",
       "165                25            27990         -1600.0        4.4       20   \n",
       "166             21645               30          5000.0        1.2       39   \n",
       "167                47            13450          -480.0        1.8       39   \n",
       "168               242             2590          9741.0        1.5       40   \n",
       "169                 2           266000          5582.0        2.4       28   \n",
       "170                 4           156000         -1000.0        2.4       29   \n",
       "171               138             4030         -1342.0        2.3       28   \n",
       "172               784              700         -2957.0        2.9       27   \n",
       "173              1802              300         11370.0        1.9       30   \n",
       "174              1380              320           900.0        1.5       43   \n",
       "175                83             5270             0.0        1.8       32   \n",
       "176               237             1690         -1440.0        2.2       44   \n",
       "177                17            22810          1200.0        2.3       25   \n",
       "178                39            10010          1000.0        1.8       32   \n",
       "179               354             1060          -960.0        1.9       47   \n",
       "180                 3           100250           380.0        1.8       37   \n",
       "181                25            12190           120.0        3.8       21   \n",
       "182                 4            82200          1200.0        3.4       25   \n",
       "183               668              430           -79.0        1.6       40   \n",
       "184                16            18280           502.0          2       34   \n",
       "185                77             3660         -1000.0          2       34   \n",
       "186               728              375             0.0        3.7       20   \n",
       "187               228              960         -1680.0        4.4       19   \n",
       "188                70             2830         -2803.0        3.9       22   \n",
       "189               301              610             0.0        1.4       34   \n",
       "190               915              190          1351.0        1.5       43   \n",
       "191               313              540          -506.0        2.3       31   \n",
       "192               370              444           515.0        1.8       42   \n",
       "193               147              810          -800.0        3.6       23   \n",
       "194               331              340          -200.0        2.1       32   \n",
       "195               284              390          -200.0        1.9       33   \n",
       "196               593              180           201.0        1.9       41   \n",
       "197               147              720          -800.0        3.6       22   \n",
       "198               298              350          -451.0          2       43   \n",
       "199               214              460          -200.0        2.5       34   \n",
       "200               223              440             0.0          2       34   \n",
       "\n",
       "    Urban Pop % World Share  \n",
       "151         89%       0.02%  \n",
       "152         73%       0.02%  \n",
       "153         52%       0.02%  \n",
       "154         68%       0.02%  \n",
       "155         33%       0.02%  \n",
       "156         41%       0.02%  \n",
       "157         67%       0.02%  \n",
       "158         30%       0.01%  \n",
       "159         79%       0.01%  \n",
       "160         59%       0.01%  \n",
       "161        100%       0.01%  \n",
       "162         29%       0.01%  \n",
       "163         27%       0.01%  \n",
       "164         46%       0.01%  \n",
       "165         23%       0.01%  \n",
       "166        N.A.       0.01%  \n",
       "167         68%       0.01%  \n",
       "168         88%       0.01%  \n",
       "169         87%       0.01%  \n",
       "170         65%       0.01%  \n",
       "171         68%       0.01%  \n",
       "172         68%       0.01%  \n",
       "173         35%       0.01%  \n",
       "174         93%       0.01%  \n",
       "175         80%       0.01%  \n",
       "176        N.A.       0.01%  \n",
       "177         46%       0.01%  \n",
       "178         86%       0.01%  \n",
       "179         92%       0.00%  \n",
       "180         94%       0.00%  \n",
       "181         24%       0.00%  \n",
       "182         87%       0.00%  \n",
       "183         31%       0.00%  \n",
       "184         72%       0.00%  \n",
       "185         64%       0.00%  \n",
       "186         46%       0.00%  \n",
       "187         74%       0.00%  \n",
       "188         18%       0.00%  \n",
       "189         19%       0.00%  \n",
       "190         30%       0.00%  \n",
       "191         95%       0.00%  \n",
       "192         89%       0.00%  \n",
       "193         57%       0.00%  \n",
       "194         35%       0.00%  \n",
       "195         53%       0.00%  \n",
       "196         44%       0.00%  \n",
       "197         24%       0.00%  \n",
       "198         96%       0.00%  \n",
       "199         56%       0.00%  \n",
       "200         26%       0.00%  "
      ]
     },
     "execution_count": 116,
     "metadata": {},
     "output_type": "execute_result"
    }
   ],
   "source": [
    "df.tail(50)"
   ]
  },
  {
   "cell_type": "code",
   "execution_count": 117,
   "id": "935f9491",
   "metadata": {},
   "outputs": [
    {
     "data": {
      "text/plain": [
       "no                         0\n",
       "Country (or dependency)    0\n",
       "Population 2020            0\n",
       "Yearly Change              0\n",
       "Net Change                 0\n",
       "Density  (P/Km²)           0\n",
       "Land Area (Km²)            0\n",
       "Migrants (net)             0\n",
       "Fert. Rate                 0\n",
       "Med. Age                   0\n",
       "Urban Pop %                0\n",
       "World Share                0\n",
       "dtype: int64"
      ]
     },
     "execution_count": 117,
     "metadata": {},
     "output_type": "execute_result"
    }
   ],
   "source": [
    "df.isnull().sum()"
   ]
  },
  {
   "cell_type": "code",
   "execution_count": 118,
   "id": "560daac1",
   "metadata": {},
   "outputs": [
    {
     "name": "stdout",
     "output_type": "stream",
     "text": [
      "<class 'pandas.core.frame.DataFrame'>\n",
      "Int64Index: 201 entries, 0 to 200\n",
      "Data columns (total 12 columns):\n",
      " #   Column                   Non-Null Count  Dtype  \n",
      "---  ------                   --------------  -----  \n",
      " 0   no                       201 non-null    int64  \n",
      " 1   Country (or dependency)  201 non-null    object \n",
      " 2   Population 2020          201 non-null    int64  \n",
      " 3   Yearly Change            201 non-null    object \n",
      " 4   Net Change               201 non-null    int64  \n",
      " 5   Density  (P/Km²)         201 non-null    int64  \n",
      " 6   Land Area (Km²)          201 non-null    int64  \n",
      " 7   Migrants (net)           201 non-null    float64\n",
      " 8   Fert. Rate               201 non-null    object \n",
      " 9   Med. Age                 201 non-null    object \n",
      " 10  Urban Pop %              201 non-null    object \n",
      " 11  World Share              201 non-null    object \n",
      "dtypes: float64(1), int64(5), object(6)\n",
      "memory usage: 28.5+ KB\n"
     ]
    }
   ],
   "source": [
    "df.info()"
   ]
  },
  {
   "cell_type": "code",
   "execution_count": 119,
   "id": "0e8467ff",
   "metadata": {},
   "outputs": [
    {
     "ename": "ValueError",
     "evalue": "could not convert string to float: 'N.A.'",
     "output_type": "error",
     "traceback": [
      "\u001b[1;31m---------------------------------------------------------------------------\u001b[0m",
      "\u001b[1;31mValueError\u001b[0m                                Traceback (most recent call last)",
      "\u001b[1;32m~\\AppData\\Local\\Temp/ipykernel_716/3247769770.py\u001b[0m in \u001b[0;36m<module>\u001b[1;34m\u001b[0m\n\u001b[0;32m      2\u001b[0m \u001b[0mdf\u001b[0m\u001b[1;33m[\u001b[0m\u001b[1;34m'Fert. Rate'\u001b[0m\u001b[1;33m]\u001b[0m \u001b[1;33m=\u001b[0m \u001b[0mdf\u001b[0m\u001b[1;33m[\u001b[0m\u001b[1;34m'Fert. Rate'\u001b[0m\u001b[1;33m]\u001b[0m\u001b[1;33m.\u001b[0m\u001b[0mapply\u001b[0m\u001b[1;33m(\u001b[0m\u001b[1;32mlambda\u001b[0m \u001b[0mn\u001b[0m\u001b[1;33m:\u001b[0m \u001b[0mfloat\u001b[0m\u001b[1;33m(\u001b[0m\u001b[0mn\u001b[0m\u001b[1;33m.\u001b[0m\u001b[0mreplace\u001b[0m\u001b[1;33m(\u001b[0m\u001b[1;34m\"%\"\u001b[0m\u001b[1;33m,\u001b[0m\u001b[1;34m\"\"\u001b[0m\u001b[1;33m)\u001b[0m\u001b[1;33m)\u001b[0m\u001b[1;33m)\u001b[0m\u001b[1;33m\u001b[0m\u001b[1;33m\u001b[0m\u001b[0m\n\u001b[0;32m      3\u001b[0m \u001b[0mdf\u001b[0m\u001b[1;33m[\u001b[0m\u001b[1;34m'Med. Age'\u001b[0m\u001b[1;33m]\u001b[0m \u001b[1;33m=\u001b[0m \u001b[0mdf\u001b[0m\u001b[1;33m[\u001b[0m\u001b[1;34m'Med. Age'\u001b[0m\u001b[1;33m]\u001b[0m\u001b[1;33m.\u001b[0m\u001b[0mapply\u001b[0m\u001b[1;33m(\u001b[0m\u001b[1;32mlambda\u001b[0m \u001b[0mn\u001b[0m\u001b[1;33m:\u001b[0m \u001b[0mint\u001b[0m\u001b[1;33m(\u001b[0m\u001b[0mn\u001b[0m\u001b[1;33m.\u001b[0m\u001b[0mreplace\u001b[0m\u001b[1;33m(\u001b[0m\u001b[1;34m\",\"\u001b[0m\u001b[1;33m,\u001b[0m\u001b[1;34m\"\"\u001b[0m\u001b[1;33m)\u001b[0m\u001b[1;33m)\u001b[0m\u001b[1;33m)\u001b[0m\u001b[1;33m\u001b[0m\u001b[1;33m\u001b[0m\u001b[0m\n\u001b[1;32m----> 4\u001b[1;33m \u001b[0mdf\u001b[0m\u001b[1;33m[\u001b[0m\u001b[1;34m'Urban Pop %'\u001b[0m\u001b[1;33m]\u001b[0m \u001b[1;33m=\u001b[0m \u001b[0mdf\u001b[0m\u001b[1;33m[\u001b[0m\u001b[1;34m'Urban Pop %'\u001b[0m\u001b[1;33m]\u001b[0m\u001b[1;33m.\u001b[0m\u001b[0mapply\u001b[0m\u001b[1;33m(\u001b[0m\u001b[1;32mlambda\u001b[0m \u001b[0mn\u001b[0m\u001b[1;33m:\u001b[0m \u001b[0mfloat\u001b[0m\u001b[1;33m(\u001b[0m\u001b[0mn\u001b[0m\u001b[1;33m.\u001b[0m\u001b[0mreplace\u001b[0m\u001b[1;33m(\u001b[0m\u001b[1;34m\"%\"\u001b[0m\u001b[1;33m,\u001b[0m\u001b[1;34m\"\"\u001b[0m\u001b[1;33m)\u001b[0m\u001b[1;33m)\u001b[0m\u001b[1;33m)\u001b[0m\u001b[1;33m\u001b[0m\u001b[1;33m\u001b[0m\u001b[0m\n\u001b[0m\u001b[0;32m      5\u001b[0m \u001b[0mdf\u001b[0m\u001b[1;33m[\u001b[0m\u001b[1;34m'World Share'\u001b[0m\u001b[1;33m]\u001b[0m \u001b[1;33m=\u001b[0m \u001b[0mdf\u001b[0m\u001b[1;33m[\u001b[0m\u001b[1;34m'World Share'\u001b[0m\u001b[1;33m]\u001b[0m\u001b[1;33m.\u001b[0m\u001b[0mapply\u001b[0m\u001b[1;33m(\u001b[0m\u001b[1;32mlambda\u001b[0m \u001b[0mn\u001b[0m\u001b[1;33m:\u001b[0m \u001b[0mfloat\u001b[0m\u001b[1;33m(\u001b[0m\u001b[0mn\u001b[0m\u001b[1;33m.\u001b[0m\u001b[0mreplace\u001b[0m\u001b[1;33m(\u001b[0m\u001b[1;34m\"%\"\u001b[0m\u001b[1;33m,\u001b[0m\u001b[1;34m\"\"\u001b[0m\u001b[1;33m)\u001b[0m\u001b[1;33m)\u001b[0m\u001b[1;33m)\u001b[0m\u001b[1;33m\u001b[0m\u001b[1;33m\u001b[0m\u001b[0m\n\u001b[0;32m      6\u001b[0m \u001b[0mdf\u001b[0m\u001b[1;33m.\u001b[0m\u001b[0minfo\u001b[0m\u001b[1;33m(\u001b[0m\u001b[1;33m)\u001b[0m\u001b[1;33m\u001b[0m\u001b[1;33m\u001b[0m\u001b[0m\n",
      "\u001b[1;32m~\\.conda\\lib\\site-packages\\pandas\\core\\series.py\u001b[0m in \u001b[0;36mapply\u001b[1;34m(self, func, convert_dtype, args, **kwargs)\u001b[0m\n\u001b[0;32m   4355\u001b[0m         \u001b[0mdtype\u001b[0m\u001b[1;33m:\u001b[0m \u001b[0mfloat64\u001b[0m\u001b[1;33m\u001b[0m\u001b[1;33m\u001b[0m\u001b[0m\n\u001b[0;32m   4356\u001b[0m         \"\"\"\n\u001b[1;32m-> 4357\u001b[1;33m         \u001b[1;32mreturn\u001b[0m \u001b[0mSeriesApply\u001b[0m\u001b[1;33m(\u001b[0m\u001b[0mself\u001b[0m\u001b[1;33m,\u001b[0m \u001b[0mfunc\u001b[0m\u001b[1;33m,\u001b[0m \u001b[0mconvert_dtype\u001b[0m\u001b[1;33m,\u001b[0m \u001b[0margs\u001b[0m\u001b[1;33m,\u001b[0m \u001b[0mkwargs\u001b[0m\u001b[1;33m)\u001b[0m\u001b[1;33m.\u001b[0m\u001b[0mapply\u001b[0m\u001b[1;33m(\u001b[0m\u001b[1;33m)\u001b[0m\u001b[1;33m\u001b[0m\u001b[1;33m\u001b[0m\u001b[0m\n\u001b[0m\u001b[0;32m   4358\u001b[0m \u001b[1;33m\u001b[0m\u001b[0m\n\u001b[0;32m   4359\u001b[0m     def _reduce(\n",
      "\u001b[1;32m~\\.conda\\lib\\site-packages\\pandas\\core\\apply.py\u001b[0m in \u001b[0;36mapply\u001b[1;34m(self)\u001b[0m\n\u001b[0;32m   1041\u001b[0m             \u001b[1;32mreturn\u001b[0m \u001b[0mself\u001b[0m\u001b[1;33m.\u001b[0m\u001b[0mapply_str\u001b[0m\u001b[1;33m(\u001b[0m\u001b[1;33m)\u001b[0m\u001b[1;33m\u001b[0m\u001b[1;33m\u001b[0m\u001b[0m\n\u001b[0;32m   1042\u001b[0m \u001b[1;33m\u001b[0m\u001b[0m\n\u001b[1;32m-> 1043\u001b[1;33m         \u001b[1;32mreturn\u001b[0m \u001b[0mself\u001b[0m\u001b[1;33m.\u001b[0m\u001b[0mapply_standard\u001b[0m\u001b[1;33m(\u001b[0m\u001b[1;33m)\u001b[0m\u001b[1;33m\u001b[0m\u001b[1;33m\u001b[0m\u001b[0m\n\u001b[0m\u001b[0;32m   1044\u001b[0m \u001b[1;33m\u001b[0m\u001b[0m\n\u001b[0;32m   1045\u001b[0m     \u001b[1;32mdef\u001b[0m \u001b[0magg\u001b[0m\u001b[1;33m(\u001b[0m\u001b[0mself\u001b[0m\u001b[1;33m)\u001b[0m\u001b[1;33m:\u001b[0m\u001b[1;33m\u001b[0m\u001b[1;33m\u001b[0m\u001b[0m\n",
      "\u001b[1;32m~\\.conda\\lib\\site-packages\\pandas\\core\\apply.py\u001b[0m in \u001b[0;36mapply_standard\u001b[1;34m(self)\u001b[0m\n\u001b[0;32m   1096\u001b[0m                 \u001b[1;31m# List[Union[Callable[..., Any], str]]]]]\"; expected\u001b[0m\u001b[1;33m\u001b[0m\u001b[1;33m\u001b[0m\u001b[0m\n\u001b[0;32m   1097\u001b[0m                 \u001b[1;31m# \"Callable[[Any], Any]\"\u001b[0m\u001b[1;33m\u001b[0m\u001b[1;33m\u001b[0m\u001b[0m\n\u001b[1;32m-> 1098\u001b[1;33m                 mapped = lib.map_infer(\n\u001b[0m\u001b[0;32m   1099\u001b[0m                     \u001b[0mvalues\u001b[0m\u001b[1;33m,\u001b[0m\u001b[1;33m\u001b[0m\u001b[1;33m\u001b[0m\u001b[0m\n\u001b[0;32m   1100\u001b[0m                     \u001b[0mf\u001b[0m\u001b[1;33m,\u001b[0m  \u001b[1;31m# type: ignore[arg-type]\u001b[0m\u001b[1;33m\u001b[0m\u001b[1;33m\u001b[0m\u001b[0m\n",
      "\u001b[1;32m~\\.conda\\lib\\site-packages\\pandas\\_libs\\lib.pyx\u001b[0m in \u001b[0;36mpandas._libs.lib.map_infer\u001b[1;34m()\u001b[0m\n",
      "\u001b[1;32m~\\AppData\\Local\\Temp/ipykernel_716/3247769770.py\u001b[0m in \u001b[0;36m<lambda>\u001b[1;34m(n)\u001b[0m\n\u001b[0;32m      2\u001b[0m \u001b[0mdf\u001b[0m\u001b[1;33m[\u001b[0m\u001b[1;34m'Fert. Rate'\u001b[0m\u001b[1;33m]\u001b[0m \u001b[1;33m=\u001b[0m \u001b[0mdf\u001b[0m\u001b[1;33m[\u001b[0m\u001b[1;34m'Fert. Rate'\u001b[0m\u001b[1;33m]\u001b[0m\u001b[1;33m.\u001b[0m\u001b[0mapply\u001b[0m\u001b[1;33m(\u001b[0m\u001b[1;32mlambda\u001b[0m \u001b[0mn\u001b[0m\u001b[1;33m:\u001b[0m \u001b[0mfloat\u001b[0m\u001b[1;33m(\u001b[0m\u001b[0mn\u001b[0m\u001b[1;33m.\u001b[0m\u001b[0mreplace\u001b[0m\u001b[1;33m(\u001b[0m\u001b[1;34m\"%\"\u001b[0m\u001b[1;33m,\u001b[0m\u001b[1;34m\"\"\u001b[0m\u001b[1;33m)\u001b[0m\u001b[1;33m)\u001b[0m\u001b[1;33m)\u001b[0m\u001b[1;33m\u001b[0m\u001b[1;33m\u001b[0m\u001b[0m\n\u001b[0;32m      3\u001b[0m \u001b[0mdf\u001b[0m\u001b[1;33m[\u001b[0m\u001b[1;34m'Med. Age'\u001b[0m\u001b[1;33m]\u001b[0m \u001b[1;33m=\u001b[0m \u001b[0mdf\u001b[0m\u001b[1;33m[\u001b[0m\u001b[1;34m'Med. Age'\u001b[0m\u001b[1;33m]\u001b[0m\u001b[1;33m.\u001b[0m\u001b[0mapply\u001b[0m\u001b[1;33m(\u001b[0m\u001b[1;32mlambda\u001b[0m \u001b[0mn\u001b[0m\u001b[1;33m:\u001b[0m \u001b[0mint\u001b[0m\u001b[1;33m(\u001b[0m\u001b[0mn\u001b[0m\u001b[1;33m.\u001b[0m\u001b[0mreplace\u001b[0m\u001b[1;33m(\u001b[0m\u001b[1;34m\",\"\u001b[0m\u001b[1;33m,\u001b[0m\u001b[1;34m\"\"\u001b[0m\u001b[1;33m)\u001b[0m\u001b[1;33m)\u001b[0m\u001b[1;33m)\u001b[0m\u001b[1;33m\u001b[0m\u001b[1;33m\u001b[0m\u001b[0m\n\u001b[1;32m----> 4\u001b[1;33m \u001b[0mdf\u001b[0m\u001b[1;33m[\u001b[0m\u001b[1;34m'Urban Pop %'\u001b[0m\u001b[1;33m]\u001b[0m \u001b[1;33m=\u001b[0m \u001b[0mdf\u001b[0m\u001b[1;33m[\u001b[0m\u001b[1;34m'Urban Pop %'\u001b[0m\u001b[1;33m]\u001b[0m\u001b[1;33m.\u001b[0m\u001b[0mapply\u001b[0m\u001b[1;33m(\u001b[0m\u001b[1;32mlambda\u001b[0m \u001b[0mn\u001b[0m\u001b[1;33m:\u001b[0m \u001b[0mfloat\u001b[0m\u001b[1;33m(\u001b[0m\u001b[0mn\u001b[0m\u001b[1;33m.\u001b[0m\u001b[0mreplace\u001b[0m\u001b[1;33m(\u001b[0m\u001b[1;34m\"%\"\u001b[0m\u001b[1;33m,\u001b[0m\u001b[1;34m\"\"\u001b[0m\u001b[1;33m)\u001b[0m\u001b[1;33m)\u001b[0m\u001b[1;33m)\u001b[0m\u001b[1;33m\u001b[0m\u001b[1;33m\u001b[0m\u001b[0m\n\u001b[0m\u001b[0;32m      5\u001b[0m \u001b[0mdf\u001b[0m\u001b[1;33m[\u001b[0m\u001b[1;34m'World Share'\u001b[0m\u001b[1;33m]\u001b[0m \u001b[1;33m=\u001b[0m \u001b[0mdf\u001b[0m\u001b[1;33m[\u001b[0m\u001b[1;34m'World Share'\u001b[0m\u001b[1;33m]\u001b[0m\u001b[1;33m.\u001b[0m\u001b[0mapply\u001b[0m\u001b[1;33m(\u001b[0m\u001b[1;32mlambda\u001b[0m \u001b[0mn\u001b[0m\u001b[1;33m:\u001b[0m \u001b[0mfloat\u001b[0m\u001b[1;33m(\u001b[0m\u001b[0mn\u001b[0m\u001b[1;33m.\u001b[0m\u001b[0mreplace\u001b[0m\u001b[1;33m(\u001b[0m\u001b[1;34m\"%\"\u001b[0m\u001b[1;33m,\u001b[0m\u001b[1;34m\"\"\u001b[0m\u001b[1;33m)\u001b[0m\u001b[1;33m)\u001b[0m\u001b[1;33m)\u001b[0m\u001b[1;33m\u001b[0m\u001b[1;33m\u001b[0m\u001b[0m\n\u001b[0;32m      6\u001b[0m \u001b[0mdf\u001b[0m\u001b[1;33m.\u001b[0m\u001b[0minfo\u001b[0m\u001b[1;33m(\u001b[0m\u001b[1;33m)\u001b[0m\u001b[1;33m\u001b[0m\u001b[1;33m\u001b[0m\u001b[0m\n",
      "\u001b[1;31mValueError\u001b[0m: could not convert string to float: 'N.A.'"
     ]
    }
   ],
   "source": [
    "df[\"Yearly Change\"] = df[\"Yearly Change\"].apply(lambda x : float(x.replace(\"%\",\"\")))\n",
    "df['Fert. Rate'] = df['Fert. Rate'].apply(lambda n: float(n.replace(\"%\",\"\")))\n",
    "df['Med. Age'] = df['Med. Age'].apply(lambda n: int(n.replace(\",\",\"\")))\n",
    "df['Urban Pop %'] = df['Urban Pop %'].apply(lambda n: float(n.replace(\"%\",\"\")))\n",
    "df['World Share'] = df['World Share'].apply(lambda n: float(n.replace(\"%\",\"\")))\n",
    "df.info()"
   ]
  },
  {
   "cell_type": "code",
   "execution_count": 120,
   "id": "278d85a6",
   "metadata": {},
   "outputs": [
    {
     "name": "stdout",
     "output_type": "stream",
     "text": [
      "<class 'pandas.core.frame.DataFrame'>\n",
      "Int64Index: 201 entries, 0 to 200\n",
      "Data columns (total 12 columns):\n",
      " #   Column                   Non-Null Count  Dtype  \n",
      "---  ------                   --------------  -----  \n",
      " 0   no                       201 non-null    int64  \n",
      " 1   Country (or dependency)  201 non-null    object \n",
      " 2   Population 2020          201 non-null    int64  \n",
      " 3   Yearly Change            201 non-null    float64\n",
      " 4   Net Change               201 non-null    int64  \n",
      " 5   Density  (P/Km²)         201 non-null    int64  \n",
      " 6   Land Area (Km²)          201 non-null    int64  \n",
      " 7   Migrants (net)           201 non-null    float64\n",
      " 8   Fert. Rate               201 non-null    float64\n",
      " 9   Med. Age                 201 non-null    int64  \n",
      " 10  Urban Pop %              201 non-null    object \n",
      " 11  World Share              201 non-null    object \n",
      "dtypes: float64(3), int64(6), object(3)\n",
      "memory usage: 28.5+ KB\n"
     ]
    }
   ],
   "source": [
    "df.info()"
   ]
  },
  {
   "cell_type": "code",
   "execution_count": 121,
   "id": "d5c464f9",
   "metadata": {},
   "outputs": [],
   "source": [
    "df.drop(df.index[df['Urban Pop %'] == 'N.A.'], inplace = True)"
   ]
  },
  {
   "cell_type": "code",
   "execution_count": 122,
   "id": "dc511617",
   "metadata": {},
   "outputs": [
    {
     "name": "stdout",
     "output_type": "stream",
     "text": [
      "<class 'pandas.core.frame.DataFrame'>\n",
      "Int64Index: 194 entries, 0 to 200\n",
      "Data columns (total 12 columns):\n",
      " #   Column                   Non-Null Count  Dtype  \n",
      "---  ------                   --------------  -----  \n",
      " 0   no                       194 non-null    int64  \n",
      " 1   Country (or dependency)  194 non-null    object \n",
      " 2   Population 2020          194 non-null    int64  \n",
      " 3   Yearly Change            194 non-null    float64\n",
      " 4   Net Change               194 non-null    int64  \n",
      " 5   Density  (P/Km²)         194 non-null    int64  \n",
      " 6   Land Area (Km²)          194 non-null    int64  \n",
      " 7   Migrants (net)           194 non-null    float64\n",
      " 8   Fert. Rate               194 non-null    float64\n",
      " 9   Med. Age                 194 non-null    int64  \n",
      " 10  Urban Pop %              194 non-null    float64\n",
      " 11  World Share              194 non-null    float64\n",
      "dtypes: float64(5), int64(6), object(1)\n",
      "memory usage: 19.7+ KB\n"
     ]
    }
   ],
   "source": [
    "df['Urban Pop %'] = df['Urban Pop %'].apply(lambda n: float(n.replace(\"%\",\"\")))\n",
    "df['World Share'] = df['World Share'].apply(lambda n: float(n.replace(\"%\",\"\")))\n",
    "df.info()"
   ]
  },
  {
   "cell_type": "code",
   "execution_count": 123,
   "id": "1d27a956",
   "metadata": {},
   "outputs": [
    {
     "data": {
      "text/html": [
       "<div>\n",
       "<style scoped>\n",
       "    .dataframe tbody tr th:only-of-type {\n",
       "        vertical-align: middle;\n",
       "    }\n",
       "\n",
       "    .dataframe tbody tr th {\n",
       "        vertical-align: top;\n",
       "    }\n",
       "\n",
       "    .dataframe thead th {\n",
       "        text-align: right;\n",
       "    }\n",
       "</style>\n",
       "<table border=\"1\" class=\"dataframe\">\n",
       "  <thead>\n",
       "    <tr style=\"text-align: right;\">\n",
       "      <th></th>\n",
       "      <th>no</th>\n",
       "      <th>Country (or dependency)</th>\n",
       "      <th>Population 2020</th>\n",
       "      <th>Yearly Change</th>\n",
       "      <th>Net Change</th>\n",
       "      <th>Density  (P/Km²)</th>\n",
       "      <th>Land Area (Km²)</th>\n",
       "      <th>Migrants (net)</th>\n",
       "      <th>Fert. Rate</th>\n",
       "      <th>Med. Age</th>\n",
       "      <th>Urban Pop %</th>\n",
       "      <th>World Share</th>\n",
       "    </tr>\n",
       "  </thead>\n",
       "  <tbody>\n",
       "    <tr>\n",
       "      <th>0</th>\n",
       "      <td>1</td>\n",
       "      <td>China</td>\n",
       "      <td>1439323776</td>\n",
       "      <td>0.39</td>\n",
       "      <td>5540090</td>\n",
       "      <td>153</td>\n",
       "      <td>9388211</td>\n",
       "      <td>-348399.0</td>\n",
       "      <td>1.7</td>\n",
       "      <td>38</td>\n",
       "      <td>61.0</td>\n",
       "      <td>18.47</td>\n",
       "    </tr>\n",
       "    <tr>\n",
       "      <th>1</th>\n",
       "      <td>2</td>\n",
       "      <td>India</td>\n",
       "      <td>1380004385</td>\n",
       "      <td>0.99</td>\n",
       "      <td>13586631</td>\n",
       "      <td>464</td>\n",
       "      <td>2973190</td>\n",
       "      <td>-532687.0</td>\n",
       "      <td>2.2</td>\n",
       "      <td>28</td>\n",
       "      <td>35.0</td>\n",
       "      <td>17.70</td>\n",
       "    </tr>\n",
       "    <tr>\n",
       "      <th>2</th>\n",
       "      <td>3</td>\n",
       "      <td>United States</td>\n",
       "      <td>331002651</td>\n",
       "      <td>0.59</td>\n",
       "      <td>1937734</td>\n",
       "      <td>36</td>\n",
       "      <td>9147420</td>\n",
       "      <td>954806.0</td>\n",
       "      <td>1.8</td>\n",
       "      <td>38</td>\n",
       "      <td>83.0</td>\n",
       "      <td>4.25</td>\n",
       "    </tr>\n",
       "    <tr>\n",
       "      <th>3</th>\n",
       "      <td>4</td>\n",
       "      <td>Indonesia</td>\n",
       "      <td>273523615</td>\n",
       "      <td>1.07</td>\n",
       "      <td>2898047</td>\n",
       "      <td>151</td>\n",
       "      <td>1811570</td>\n",
       "      <td>-98955.0</td>\n",
       "      <td>2.3</td>\n",
       "      <td>30</td>\n",
       "      <td>56.0</td>\n",
       "      <td>3.51</td>\n",
       "    </tr>\n",
       "    <tr>\n",
       "      <th>4</th>\n",
       "      <td>5</td>\n",
       "      <td>Pakistan</td>\n",
       "      <td>220892340</td>\n",
       "      <td>2.00</td>\n",
       "      <td>4327022</td>\n",
       "      <td>287</td>\n",
       "      <td>770880</td>\n",
       "      <td>-233379.0</td>\n",
       "      <td>3.6</td>\n",
       "      <td>23</td>\n",
       "      <td>35.0</td>\n",
       "      <td>2.83</td>\n",
       "    </tr>\n",
       "    <tr>\n",
       "      <th>5</th>\n",
       "      <td>6</td>\n",
       "      <td>Brazil</td>\n",
       "      <td>212559417</td>\n",
       "      <td>0.72</td>\n",
       "      <td>1509890</td>\n",
       "      <td>25</td>\n",
       "      <td>8358140</td>\n",
       "      <td>21200.0</td>\n",
       "      <td>1.7</td>\n",
       "      <td>33</td>\n",
       "      <td>88.0</td>\n",
       "      <td>2.73</td>\n",
       "    </tr>\n",
       "    <tr>\n",
       "      <th>6</th>\n",
       "      <td>7</td>\n",
       "      <td>Nigeria</td>\n",
       "      <td>206139589</td>\n",
       "      <td>2.58</td>\n",
       "      <td>5175990</td>\n",
       "      <td>226</td>\n",
       "      <td>910770</td>\n",
       "      <td>-60000.0</td>\n",
       "      <td>5.4</td>\n",
       "      <td>18</td>\n",
       "      <td>52.0</td>\n",
       "      <td>2.64</td>\n",
       "    </tr>\n",
       "    <tr>\n",
       "      <th>7</th>\n",
       "      <td>8</td>\n",
       "      <td>Bangladesh</td>\n",
       "      <td>164689383</td>\n",
       "      <td>1.01</td>\n",
       "      <td>1643222</td>\n",
       "      <td>1265</td>\n",
       "      <td>130170</td>\n",
       "      <td>-369501.0</td>\n",
       "      <td>2.1</td>\n",
       "      <td>28</td>\n",
       "      <td>39.0</td>\n",
       "      <td>2.11</td>\n",
       "    </tr>\n",
       "    <tr>\n",
       "      <th>8</th>\n",
       "      <td>9</td>\n",
       "      <td>Russia</td>\n",
       "      <td>145934462</td>\n",
       "      <td>0.04</td>\n",
       "      <td>62206</td>\n",
       "      <td>9</td>\n",
       "      <td>16376870</td>\n",
       "      <td>182456.0</td>\n",
       "      <td>1.8</td>\n",
       "      <td>40</td>\n",
       "      <td>74.0</td>\n",
       "      <td>1.87</td>\n",
       "    </tr>\n",
       "    <tr>\n",
       "      <th>9</th>\n",
       "      <td>10</td>\n",
       "      <td>Mexico</td>\n",
       "      <td>128932753</td>\n",
       "      <td>1.06</td>\n",
       "      <td>1357224</td>\n",
       "      <td>66</td>\n",
       "      <td>1943950</td>\n",
       "      <td>-60000.0</td>\n",
       "      <td>2.1</td>\n",
       "      <td>29</td>\n",
       "      <td>84.0</td>\n",
       "      <td>1.65</td>\n",
       "    </tr>\n",
       "    <tr>\n",
       "      <th>10</th>\n",
       "      <td>11</td>\n",
       "      <td>Japan</td>\n",
       "      <td>126476461</td>\n",
       "      <td>-0.30</td>\n",
       "      <td>-383840</td>\n",
       "      <td>347</td>\n",
       "      <td>364555</td>\n",
       "      <td>71560.0</td>\n",
       "      <td>1.4</td>\n",
       "      <td>48</td>\n",
       "      <td>92.0</td>\n",
       "      <td>1.62</td>\n",
       "    </tr>\n",
       "    <tr>\n",
       "      <th>11</th>\n",
       "      <td>12</td>\n",
       "      <td>Ethiopia</td>\n",
       "      <td>114963588</td>\n",
       "      <td>2.57</td>\n",
       "      <td>2884858</td>\n",
       "      <td>115</td>\n",
       "      <td>1000000</td>\n",
       "      <td>30000.0</td>\n",
       "      <td>4.3</td>\n",
       "      <td>19</td>\n",
       "      <td>21.0</td>\n",
       "      <td>1.47</td>\n",
       "    </tr>\n",
       "    <tr>\n",
       "      <th>12</th>\n",
       "      <td>13</td>\n",
       "      <td>Philippines</td>\n",
       "      <td>109581078</td>\n",
       "      <td>1.35</td>\n",
       "      <td>1464463</td>\n",
       "      <td>368</td>\n",
       "      <td>298170</td>\n",
       "      <td>-67152.0</td>\n",
       "      <td>2.6</td>\n",
       "      <td>26</td>\n",
       "      <td>47.0</td>\n",
       "      <td>1.41</td>\n",
       "    </tr>\n",
       "    <tr>\n",
       "      <th>13</th>\n",
       "      <td>14</td>\n",
       "      <td>Egypt</td>\n",
       "      <td>102334404</td>\n",
       "      <td>1.94</td>\n",
       "      <td>1946331</td>\n",
       "      <td>103</td>\n",
       "      <td>995450</td>\n",
       "      <td>-38033.0</td>\n",
       "      <td>3.3</td>\n",
       "      <td>25</td>\n",
       "      <td>43.0</td>\n",
       "      <td>1.31</td>\n",
       "    </tr>\n",
       "    <tr>\n",
       "      <th>14</th>\n",
       "      <td>15</td>\n",
       "      <td>Vietnam</td>\n",
       "      <td>97338579</td>\n",
       "      <td>0.91</td>\n",
       "      <td>876473</td>\n",
       "      <td>314</td>\n",
       "      <td>310070</td>\n",
       "      <td>-80000.0</td>\n",
       "      <td>2.1</td>\n",
       "      <td>32</td>\n",
       "      <td>38.0</td>\n",
       "      <td>1.25</td>\n",
       "    </tr>\n",
       "    <tr>\n",
       "      <th>15</th>\n",
       "      <td>16</td>\n",
       "      <td>DR Congo</td>\n",
       "      <td>89561403</td>\n",
       "      <td>3.19</td>\n",
       "      <td>2770836</td>\n",
       "      <td>40</td>\n",
       "      <td>2267050</td>\n",
       "      <td>23861.0</td>\n",
       "      <td>6.0</td>\n",
       "      <td>17</td>\n",
       "      <td>46.0</td>\n",
       "      <td>1.15</td>\n",
       "    </tr>\n",
       "    <tr>\n",
       "      <th>16</th>\n",
       "      <td>17</td>\n",
       "      <td>Turkey</td>\n",
       "      <td>84339067</td>\n",
       "      <td>1.09</td>\n",
       "      <td>909452</td>\n",
       "      <td>110</td>\n",
       "      <td>769630</td>\n",
       "      <td>283922.0</td>\n",
       "      <td>2.1</td>\n",
       "      <td>32</td>\n",
       "      <td>76.0</td>\n",
       "      <td>1.08</td>\n",
       "    </tr>\n",
       "    <tr>\n",
       "      <th>17</th>\n",
       "      <td>18</td>\n",
       "      <td>Iran</td>\n",
       "      <td>83992949</td>\n",
       "      <td>1.30</td>\n",
       "      <td>1079043</td>\n",
       "      <td>52</td>\n",
       "      <td>1628550</td>\n",
       "      <td>-55000.0</td>\n",
       "      <td>2.2</td>\n",
       "      <td>32</td>\n",
       "      <td>76.0</td>\n",
       "      <td>1.08</td>\n",
       "    </tr>\n",
       "    <tr>\n",
       "      <th>18</th>\n",
       "      <td>19</td>\n",
       "      <td>Germany</td>\n",
       "      <td>83783942</td>\n",
       "      <td>0.32</td>\n",
       "      <td>266897</td>\n",
       "      <td>240</td>\n",
       "      <td>348560</td>\n",
       "      <td>543822.0</td>\n",
       "      <td>1.6</td>\n",
       "      <td>46</td>\n",
       "      <td>76.0</td>\n",
       "      <td>1.07</td>\n",
       "    </tr>\n",
       "    <tr>\n",
       "      <th>19</th>\n",
       "      <td>20</td>\n",
       "      <td>Thailand</td>\n",
       "      <td>69799978</td>\n",
       "      <td>0.25</td>\n",
       "      <td>174396</td>\n",
       "      <td>137</td>\n",
       "      <td>510890</td>\n",
       "      <td>19444.0</td>\n",
       "      <td>1.5</td>\n",
       "      <td>40</td>\n",
       "      <td>51.0</td>\n",
       "      <td>0.90</td>\n",
       "    </tr>\n",
       "    <tr>\n",
       "      <th>20</th>\n",
       "      <td>21</td>\n",
       "      <td>United Kingdom</td>\n",
       "      <td>67886011</td>\n",
       "      <td>0.53</td>\n",
       "      <td>355839</td>\n",
       "      <td>281</td>\n",
       "      <td>241930</td>\n",
       "      <td>260650.0</td>\n",
       "      <td>1.8</td>\n",
       "      <td>40</td>\n",
       "      <td>83.0</td>\n",
       "      <td>0.87</td>\n",
       "    </tr>\n",
       "    <tr>\n",
       "      <th>21</th>\n",
       "      <td>22</td>\n",
       "      <td>France</td>\n",
       "      <td>65273511</td>\n",
       "      <td>0.22</td>\n",
       "      <td>143783</td>\n",
       "      <td>119</td>\n",
       "      <td>547557</td>\n",
       "      <td>36527.0</td>\n",
       "      <td>1.9</td>\n",
       "      <td>42</td>\n",
       "      <td>82.0</td>\n",
       "      <td>0.84</td>\n",
       "    </tr>\n",
       "    <tr>\n",
       "      <th>22</th>\n",
       "      <td>23</td>\n",
       "      <td>Italy</td>\n",
       "      <td>60461826</td>\n",
       "      <td>-0.15</td>\n",
       "      <td>-88249</td>\n",
       "      <td>206</td>\n",
       "      <td>294140</td>\n",
       "      <td>148943.0</td>\n",
       "      <td>1.3</td>\n",
       "      <td>47</td>\n",
       "      <td>69.0</td>\n",
       "      <td>0.78</td>\n",
       "    </tr>\n",
       "    <tr>\n",
       "      <th>23</th>\n",
       "      <td>24</td>\n",
       "      <td>Tanzania</td>\n",
       "      <td>59734218</td>\n",
       "      <td>2.98</td>\n",
       "      <td>1728755</td>\n",
       "      <td>67</td>\n",
       "      <td>885800</td>\n",
       "      <td>-40076.0</td>\n",
       "      <td>4.9</td>\n",
       "      <td>18</td>\n",
       "      <td>37.0</td>\n",
       "      <td>0.77</td>\n",
       "    </tr>\n",
       "    <tr>\n",
       "      <th>24</th>\n",
       "      <td>25</td>\n",
       "      <td>South Africa</td>\n",
       "      <td>59308690</td>\n",
       "      <td>1.28</td>\n",
       "      <td>750420</td>\n",
       "      <td>49</td>\n",
       "      <td>1213090</td>\n",
       "      <td>145405.0</td>\n",
       "      <td>2.4</td>\n",
       "      <td>28</td>\n",
       "      <td>67.0</td>\n",
       "      <td>0.76</td>\n",
       "    </tr>\n",
       "    <tr>\n",
       "      <th>25</th>\n",
       "      <td>26</td>\n",
       "      <td>Myanmar</td>\n",
       "      <td>54409800</td>\n",
       "      <td>0.67</td>\n",
       "      <td>364380</td>\n",
       "      <td>83</td>\n",
       "      <td>653290</td>\n",
       "      <td>-163313.0</td>\n",
       "      <td>2.2</td>\n",
       "      <td>29</td>\n",
       "      <td>31.0</td>\n",
       "      <td>0.70</td>\n",
       "    </tr>\n",
       "    <tr>\n",
       "      <th>26</th>\n",
       "      <td>27</td>\n",
       "      <td>Kenya</td>\n",
       "      <td>53771296</td>\n",
       "      <td>2.28</td>\n",
       "      <td>1197323</td>\n",
       "      <td>94</td>\n",
       "      <td>569140</td>\n",
       "      <td>-10000.0</td>\n",
       "      <td>3.5</td>\n",
       "      <td>20</td>\n",
       "      <td>28.0</td>\n",
       "      <td>0.69</td>\n",
       "    </tr>\n",
       "    <tr>\n",
       "      <th>27</th>\n",
       "      <td>28</td>\n",
       "      <td>South Korea</td>\n",
       "      <td>51269185</td>\n",
       "      <td>0.09</td>\n",
       "      <td>43877</td>\n",
       "      <td>527</td>\n",
       "      <td>97230</td>\n",
       "      <td>11731.0</td>\n",
       "      <td>1.1</td>\n",
       "      <td>44</td>\n",
       "      <td>82.0</td>\n",
       "      <td>0.66</td>\n",
       "    </tr>\n",
       "    <tr>\n",
       "      <th>28</th>\n",
       "      <td>29</td>\n",
       "      <td>Colombia</td>\n",
       "      <td>50882891</td>\n",
       "      <td>1.08</td>\n",
       "      <td>543448</td>\n",
       "      <td>46</td>\n",
       "      <td>1109500</td>\n",
       "      <td>204796.0</td>\n",
       "      <td>1.8</td>\n",
       "      <td>31</td>\n",
       "      <td>80.0</td>\n",
       "      <td>0.65</td>\n",
       "    </tr>\n",
       "    <tr>\n",
       "      <th>29</th>\n",
       "      <td>30</td>\n",
       "      <td>Spain</td>\n",
       "      <td>46754778</td>\n",
       "      <td>0.04</td>\n",
       "      <td>18002</td>\n",
       "      <td>94</td>\n",
       "      <td>498800</td>\n",
       "      <td>40000.0</td>\n",
       "      <td>1.3</td>\n",
       "      <td>45</td>\n",
       "      <td>80.0</td>\n",
       "      <td>0.60</td>\n",
       "    </tr>\n",
       "  </tbody>\n",
       "</table>\n",
       "</div>"
      ],
      "text/plain": [
       "    no Country (or dependency)  Population 2020  Yearly Change  Net Change  \\\n",
       "0    1                   China       1439323776           0.39     5540090   \n",
       "1    2                   India       1380004385           0.99    13586631   \n",
       "2    3           United States        331002651           0.59     1937734   \n",
       "3    4               Indonesia        273523615           1.07     2898047   \n",
       "4    5                Pakistan        220892340           2.00     4327022   \n",
       "5    6                  Brazil        212559417           0.72     1509890   \n",
       "6    7                 Nigeria        206139589           2.58     5175990   \n",
       "7    8              Bangladesh        164689383           1.01     1643222   \n",
       "8    9                  Russia        145934462           0.04       62206   \n",
       "9   10                  Mexico        128932753           1.06     1357224   \n",
       "10  11                   Japan        126476461          -0.30     -383840   \n",
       "11  12                Ethiopia        114963588           2.57     2884858   \n",
       "12  13             Philippines        109581078           1.35     1464463   \n",
       "13  14                   Egypt        102334404           1.94     1946331   \n",
       "14  15                 Vietnam         97338579           0.91      876473   \n",
       "15  16                DR Congo         89561403           3.19     2770836   \n",
       "16  17                  Turkey         84339067           1.09      909452   \n",
       "17  18                    Iran         83992949           1.30     1079043   \n",
       "18  19                 Germany         83783942           0.32      266897   \n",
       "19  20                Thailand         69799978           0.25      174396   \n",
       "20  21          United Kingdom         67886011           0.53      355839   \n",
       "21  22                  France         65273511           0.22      143783   \n",
       "22  23                   Italy         60461826          -0.15      -88249   \n",
       "23  24                Tanzania         59734218           2.98     1728755   \n",
       "24  25            South Africa         59308690           1.28      750420   \n",
       "25  26                 Myanmar         54409800           0.67      364380   \n",
       "26  27                   Kenya         53771296           2.28     1197323   \n",
       "27  28             South Korea         51269185           0.09       43877   \n",
       "28  29                Colombia         50882891           1.08      543448   \n",
       "29  30                   Spain         46754778           0.04       18002   \n",
       "\n",
       "    Density  (P/Km²)  Land Area (Km²)  Migrants (net)  Fert. Rate  Med. Age  \\\n",
       "0                153          9388211       -348399.0         1.7        38   \n",
       "1                464          2973190       -532687.0         2.2        28   \n",
       "2                 36          9147420        954806.0         1.8        38   \n",
       "3                151          1811570        -98955.0         2.3        30   \n",
       "4                287           770880       -233379.0         3.6        23   \n",
       "5                 25          8358140         21200.0         1.7        33   \n",
       "6                226           910770        -60000.0         5.4        18   \n",
       "7               1265           130170       -369501.0         2.1        28   \n",
       "8                  9         16376870        182456.0         1.8        40   \n",
       "9                 66          1943950        -60000.0         2.1        29   \n",
       "10               347           364555         71560.0         1.4        48   \n",
       "11               115          1000000         30000.0         4.3        19   \n",
       "12               368           298170        -67152.0         2.6        26   \n",
       "13               103           995450        -38033.0         3.3        25   \n",
       "14               314           310070        -80000.0         2.1        32   \n",
       "15                40          2267050         23861.0         6.0        17   \n",
       "16               110           769630        283922.0         2.1        32   \n",
       "17                52          1628550        -55000.0         2.2        32   \n",
       "18               240           348560        543822.0         1.6        46   \n",
       "19               137           510890         19444.0         1.5        40   \n",
       "20               281           241930        260650.0         1.8        40   \n",
       "21               119           547557         36527.0         1.9        42   \n",
       "22               206           294140        148943.0         1.3        47   \n",
       "23                67           885800        -40076.0         4.9        18   \n",
       "24                49          1213090        145405.0         2.4        28   \n",
       "25                83           653290       -163313.0         2.2        29   \n",
       "26                94           569140        -10000.0         3.5        20   \n",
       "27               527            97230         11731.0         1.1        44   \n",
       "28                46          1109500        204796.0         1.8        31   \n",
       "29                94           498800         40000.0         1.3        45   \n",
       "\n",
       "    Urban Pop %  World Share  \n",
       "0          61.0        18.47  \n",
       "1          35.0        17.70  \n",
       "2          83.0         4.25  \n",
       "3          56.0         3.51  \n",
       "4          35.0         2.83  \n",
       "5          88.0         2.73  \n",
       "6          52.0         2.64  \n",
       "7          39.0         2.11  \n",
       "8          74.0         1.87  \n",
       "9          84.0         1.65  \n",
       "10         92.0         1.62  \n",
       "11         21.0         1.47  \n",
       "12         47.0         1.41  \n",
       "13         43.0         1.31  \n",
       "14         38.0         1.25  \n",
       "15         46.0         1.15  \n",
       "16         76.0         1.08  \n",
       "17         76.0         1.08  \n",
       "18         76.0         1.07  \n",
       "19         51.0         0.90  \n",
       "20         83.0         0.87  \n",
       "21         82.0         0.84  \n",
       "22         69.0         0.78  \n",
       "23         37.0         0.77  \n",
       "24         67.0         0.76  \n",
       "25         31.0         0.70  \n",
       "26         28.0         0.69  \n",
       "27         82.0         0.66  \n",
       "28         80.0         0.65  \n",
       "29         80.0         0.60  "
      ]
     },
     "execution_count": 123,
     "metadata": {},
     "output_type": "execute_result"
    }
   ],
   "source": [
    "df.head(30)"
   ]
  },
  {
   "cell_type": "code",
   "execution_count": 124,
   "id": "02b56cb0",
   "metadata": {},
   "outputs": [
    {
     "data": {
      "text/html": [
       "<div>\n",
       "<style scoped>\n",
       "    .dataframe tbody tr th:only-of-type {\n",
       "        vertical-align: middle;\n",
       "    }\n",
       "\n",
       "    .dataframe tbody tr th {\n",
       "        vertical-align: top;\n",
       "    }\n",
       "\n",
       "    .dataframe thead th {\n",
       "        text-align: right;\n",
       "    }\n",
       "</style>\n",
       "<table border=\"1\" class=\"dataframe\">\n",
       "  <thead>\n",
       "    <tr style=\"text-align: right;\">\n",
       "      <th></th>\n",
       "      <th>no</th>\n",
       "      <th>Country (or dependency)</th>\n",
       "      <th>Population 2020</th>\n",
       "      <th>Yearly Change</th>\n",
       "      <th>Net Change</th>\n",
       "      <th>Density  (P/Km²)</th>\n",
       "      <th>Land Area (Km²)</th>\n",
       "      <th>Migrants (net)</th>\n",
       "      <th>Fert. Rate</th>\n",
       "      <th>Med. Age</th>\n",
       "      <th>Urban Pop %</th>\n",
       "      <th>World Share</th>\n",
       "    </tr>\n",
       "  </thead>\n",
       "  <tbody>\n",
       "    <tr>\n",
       "      <th>170</th>\n",
       "      <td>171</td>\n",
       "      <td>Suriname</td>\n",
       "      <td>586632</td>\n",
       "      <td>0.90</td>\n",
       "      <td>5260</td>\n",
       "      <td>4</td>\n",
       "      <td>156000</td>\n",
       "      <td>-1000.0</td>\n",
       "      <td>2.4</td>\n",
       "      <td>29</td>\n",
       "      <td>65.0</td>\n",
       "      <td>0.01</td>\n",
       "    </tr>\n",
       "    <tr>\n",
       "      <th>171</th>\n",
       "      <td>172</td>\n",
       "      <td>Cabo Verde</td>\n",
       "      <td>555987</td>\n",
       "      <td>1.10</td>\n",
       "      <td>6052</td>\n",
       "      <td>138</td>\n",
       "      <td>4030</td>\n",
       "      <td>-1342.0</td>\n",
       "      <td>2.3</td>\n",
       "      <td>28</td>\n",
       "      <td>68.0</td>\n",
       "      <td>0.01</td>\n",
       "    </tr>\n",
       "    <tr>\n",
       "      <th>172</th>\n",
       "      <td>173</td>\n",
       "      <td>Micronesia</td>\n",
       "      <td>548914</td>\n",
       "      <td>1.00</td>\n",
       "      <td>5428</td>\n",
       "      <td>784</td>\n",
       "      <td>700</td>\n",
       "      <td>-2957.0</td>\n",
       "      <td>2.9</td>\n",
       "      <td>27</td>\n",
       "      <td>68.0</td>\n",
       "      <td>0.01</td>\n",
       "    </tr>\n",
       "    <tr>\n",
       "      <th>173</th>\n",
       "      <td>174</td>\n",
       "      <td>Maldives</td>\n",
       "      <td>540544</td>\n",
       "      <td>1.81</td>\n",
       "      <td>9591</td>\n",
       "      <td>1802</td>\n",
       "      <td>300</td>\n",
       "      <td>11370.0</td>\n",
       "      <td>1.9</td>\n",
       "      <td>30</td>\n",
       "      <td>35.0</td>\n",
       "      <td>0.01</td>\n",
       "    </tr>\n",
       "    <tr>\n",
       "      <th>174</th>\n",
       "      <td>175</td>\n",
       "      <td>Malta</td>\n",
       "      <td>441543</td>\n",
       "      <td>0.27</td>\n",
       "      <td>1171</td>\n",
       "      <td>1380</td>\n",
       "      <td>320</td>\n",
       "      <td>900.0</td>\n",
       "      <td>1.5</td>\n",
       "      <td>43</td>\n",
       "      <td>93.0</td>\n",
       "      <td>0.01</td>\n",
       "    </tr>\n",
       "    <tr>\n",
       "      <th>175</th>\n",
       "      <td>176</td>\n",
       "      <td>Brunei</td>\n",
       "      <td>437479</td>\n",
       "      <td>0.97</td>\n",
       "      <td>4194</td>\n",
       "      <td>83</td>\n",
       "      <td>5270</td>\n",
       "      <td>0.0</td>\n",
       "      <td>1.8</td>\n",
       "      <td>32</td>\n",
       "      <td>80.0</td>\n",
       "      <td>0.01</td>\n",
       "    </tr>\n",
       "    <tr>\n",
       "      <th>177</th>\n",
       "      <td>178</td>\n",
       "      <td>Belize</td>\n",
       "      <td>397628</td>\n",
       "      <td>1.86</td>\n",
       "      <td>7275</td>\n",
       "      <td>17</td>\n",
       "      <td>22810</td>\n",
       "      <td>1200.0</td>\n",
       "      <td>2.3</td>\n",
       "      <td>25</td>\n",
       "      <td>46.0</td>\n",
       "      <td>0.01</td>\n",
       "    </tr>\n",
       "    <tr>\n",
       "      <th>178</th>\n",
       "      <td>179</td>\n",
       "      <td>Bahamas</td>\n",
       "      <td>393244</td>\n",
       "      <td>0.97</td>\n",
       "      <td>3762</td>\n",
       "      <td>39</td>\n",
       "      <td>10010</td>\n",
       "      <td>1000.0</td>\n",
       "      <td>1.8</td>\n",
       "      <td>32</td>\n",
       "      <td>86.0</td>\n",
       "      <td>0.01</td>\n",
       "    </tr>\n",
       "    <tr>\n",
       "      <th>179</th>\n",
       "      <td>180</td>\n",
       "      <td>Martinique</td>\n",
       "      <td>375265</td>\n",
       "      <td>-0.08</td>\n",
       "      <td>-289</td>\n",
       "      <td>354</td>\n",
       "      <td>1060</td>\n",
       "      <td>-960.0</td>\n",
       "      <td>1.9</td>\n",
       "      <td>47</td>\n",
       "      <td>92.0</td>\n",
       "      <td>0.00</td>\n",
       "    </tr>\n",
       "    <tr>\n",
       "      <th>180</th>\n",
       "      <td>181</td>\n",
       "      <td>Iceland</td>\n",
       "      <td>341243</td>\n",
       "      <td>0.65</td>\n",
       "      <td>2212</td>\n",
       "      <td>3</td>\n",
       "      <td>100250</td>\n",
       "      <td>380.0</td>\n",
       "      <td>1.8</td>\n",
       "      <td>37</td>\n",
       "      <td>94.0</td>\n",
       "      <td>0.00</td>\n",
       "    </tr>\n",
       "    <tr>\n",
       "      <th>181</th>\n",
       "      <td>182</td>\n",
       "      <td>Vanuatu</td>\n",
       "      <td>307145</td>\n",
       "      <td>2.42</td>\n",
       "      <td>7263</td>\n",
       "      <td>25</td>\n",
       "      <td>12190</td>\n",
       "      <td>120.0</td>\n",
       "      <td>3.8</td>\n",
       "      <td>21</td>\n",
       "      <td>24.0</td>\n",
       "      <td>0.00</td>\n",
       "    </tr>\n",
       "    <tr>\n",
       "      <th>182</th>\n",
       "      <td>183</td>\n",
       "      <td>French Guiana</td>\n",
       "      <td>298682</td>\n",
       "      <td>2.70</td>\n",
       "      <td>7850</td>\n",
       "      <td>4</td>\n",
       "      <td>82200</td>\n",
       "      <td>1200.0</td>\n",
       "      <td>3.4</td>\n",
       "      <td>25</td>\n",
       "      <td>87.0</td>\n",
       "      <td>0.00</td>\n",
       "    </tr>\n",
       "    <tr>\n",
       "      <th>183</th>\n",
       "      <td>184</td>\n",
       "      <td>Barbados</td>\n",
       "      <td>287375</td>\n",
       "      <td>0.12</td>\n",
       "      <td>350</td>\n",
       "      <td>668</td>\n",
       "      <td>430</td>\n",
       "      <td>-79.0</td>\n",
       "      <td>1.6</td>\n",
       "      <td>40</td>\n",
       "      <td>31.0</td>\n",
       "      <td>0.00</td>\n",
       "    </tr>\n",
       "    <tr>\n",
       "      <th>184</th>\n",
       "      <td>185</td>\n",
       "      <td>New Caledonia</td>\n",
       "      <td>285498</td>\n",
       "      <td>0.97</td>\n",
       "      <td>2748</td>\n",
       "      <td>16</td>\n",
       "      <td>18280</td>\n",
       "      <td>502.0</td>\n",
       "      <td>2.0</td>\n",
       "      <td>34</td>\n",
       "      <td>72.0</td>\n",
       "      <td>0.00</td>\n",
       "    </tr>\n",
       "    <tr>\n",
       "      <th>185</th>\n",
       "      <td>186</td>\n",
       "      <td>French Polynesia</td>\n",
       "      <td>280908</td>\n",
       "      <td>0.58</td>\n",
       "      <td>1621</td>\n",
       "      <td>77</td>\n",
       "      <td>3660</td>\n",
       "      <td>-1000.0</td>\n",
       "      <td>2.0</td>\n",
       "      <td>34</td>\n",
       "      <td>64.0</td>\n",
       "      <td>0.00</td>\n",
       "    </tr>\n",
       "    <tr>\n",
       "      <th>186</th>\n",
       "      <td>187</td>\n",
       "      <td>Mayotte</td>\n",
       "      <td>272815</td>\n",
       "      <td>2.50</td>\n",
       "      <td>6665</td>\n",
       "      <td>728</td>\n",
       "      <td>375</td>\n",
       "      <td>0.0</td>\n",
       "      <td>3.7</td>\n",
       "      <td>20</td>\n",
       "      <td>46.0</td>\n",
       "      <td>0.00</td>\n",
       "    </tr>\n",
       "    <tr>\n",
       "      <th>187</th>\n",
       "      <td>188</td>\n",
       "      <td>Sao Tome &amp; Principe</td>\n",
       "      <td>219159</td>\n",
       "      <td>1.91</td>\n",
       "      <td>4103</td>\n",
       "      <td>228</td>\n",
       "      <td>960</td>\n",
       "      <td>-1680.0</td>\n",
       "      <td>4.4</td>\n",
       "      <td>19</td>\n",
       "      <td>74.0</td>\n",
       "      <td>0.00</td>\n",
       "    </tr>\n",
       "    <tr>\n",
       "      <th>188</th>\n",
       "      <td>189</td>\n",
       "      <td>Samoa</td>\n",
       "      <td>198414</td>\n",
       "      <td>0.67</td>\n",
       "      <td>1317</td>\n",
       "      <td>70</td>\n",
       "      <td>2830</td>\n",
       "      <td>-2803.0</td>\n",
       "      <td>3.9</td>\n",
       "      <td>22</td>\n",
       "      <td>18.0</td>\n",
       "      <td>0.00</td>\n",
       "    </tr>\n",
       "    <tr>\n",
       "      <th>189</th>\n",
       "      <td>190</td>\n",
       "      <td>Saint Lucia</td>\n",
       "      <td>183627</td>\n",
       "      <td>0.46</td>\n",
       "      <td>837</td>\n",
       "      <td>301</td>\n",
       "      <td>610</td>\n",
       "      <td>0.0</td>\n",
       "      <td>1.4</td>\n",
       "      <td>34</td>\n",
       "      <td>19.0</td>\n",
       "      <td>0.00</td>\n",
       "    </tr>\n",
       "    <tr>\n",
       "      <th>190</th>\n",
       "      <td>191</td>\n",
       "      <td>Channel Islands</td>\n",
       "      <td>173863</td>\n",
       "      <td>0.93</td>\n",
       "      <td>1604</td>\n",
       "      <td>915</td>\n",
       "      <td>190</td>\n",
       "      <td>1351.0</td>\n",
       "      <td>1.5</td>\n",
       "      <td>43</td>\n",
       "      <td>30.0</td>\n",
       "      <td>0.00</td>\n",
       "    </tr>\n",
       "    <tr>\n",
       "      <th>191</th>\n",
       "      <td>192</td>\n",
       "      <td>Guam</td>\n",
       "      <td>168775</td>\n",
       "      <td>0.89</td>\n",
       "      <td>1481</td>\n",
       "      <td>313</td>\n",
       "      <td>540</td>\n",
       "      <td>-506.0</td>\n",
       "      <td>2.3</td>\n",
       "      <td>31</td>\n",
       "      <td>95.0</td>\n",
       "      <td>0.00</td>\n",
       "    </tr>\n",
       "    <tr>\n",
       "      <th>192</th>\n",
       "      <td>193</td>\n",
       "      <td>Curaçao</td>\n",
       "      <td>164093</td>\n",
       "      <td>0.41</td>\n",
       "      <td>669</td>\n",
       "      <td>370</td>\n",
       "      <td>444</td>\n",
       "      <td>515.0</td>\n",
       "      <td>1.8</td>\n",
       "      <td>42</td>\n",
       "      <td>89.0</td>\n",
       "      <td>0.00</td>\n",
       "    </tr>\n",
       "    <tr>\n",
       "      <th>193</th>\n",
       "      <td>194</td>\n",
       "      <td>Kiribati</td>\n",
       "      <td>119449</td>\n",
       "      <td>1.57</td>\n",
       "      <td>1843</td>\n",
       "      <td>147</td>\n",
       "      <td>810</td>\n",
       "      <td>-800.0</td>\n",
       "      <td>3.6</td>\n",
       "      <td>23</td>\n",
       "      <td>57.0</td>\n",
       "      <td>0.00</td>\n",
       "    </tr>\n",
       "    <tr>\n",
       "      <th>194</th>\n",
       "      <td>195</td>\n",
       "      <td>Grenada</td>\n",
       "      <td>112523</td>\n",
       "      <td>0.46</td>\n",
       "      <td>520</td>\n",
       "      <td>331</td>\n",
       "      <td>340</td>\n",
       "      <td>-200.0</td>\n",
       "      <td>2.1</td>\n",
       "      <td>32</td>\n",
       "      <td>35.0</td>\n",
       "      <td>0.00</td>\n",
       "    </tr>\n",
       "    <tr>\n",
       "      <th>195</th>\n",
       "      <td>196</td>\n",
       "      <td>St. Vincent &amp; Grenadines</td>\n",
       "      <td>110940</td>\n",
       "      <td>0.32</td>\n",
       "      <td>351</td>\n",
       "      <td>284</td>\n",
       "      <td>390</td>\n",
       "      <td>-200.0</td>\n",
       "      <td>1.9</td>\n",
       "      <td>33</td>\n",
       "      <td>53.0</td>\n",
       "      <td>0.00</td>\n",
       "    </tr>\n",
       "    <tr>\n",
       "      <th>196</th>\n",
       "      <td>197</td>\n",
       "      <td>Aruba</td>\n",
       "      <td>106766</td>\n",
       "      <td>0.43</td>\n",
       "      <td>452</td>\n",
       "      <td>593</td>\n",
       "      <td>180</td>\n",
       "      <td>201.0</td>\n",
       "      <td>1.9</td>\n",
       "      <td>41</td>\n",
       "      <td>44.0</td>\n",
       "      <td>0.00</td>\n",
       "    </tr>\n",
       "    <tr>\n",
       "      <th>197</th>\n",
       "      <td>198</td>\n",
       "      <td>Tonga</td>\n",
       "      <td>105695</td>\n",
       "      <td>1.15</td>\n",
       "      <td>1201</td>\n",
       "      <td>147</td>\n",
       "      <td>720</td>\n",
       "      <td>-800.0</td>\n",
       "      <td>3.6</td>\n",
       "      <td>22</td>\n",
       "      <td>24.0</td>\n",
       "      <td>0.00</td>\n",
       "    </tr>\n",
       "    <tr>\n",
       "      <th>198</th>\n",
       "      <td>199</td>\n",
       "      <td>U.S. Virgin Islands</td>\n",
       "      <td>104425</td>\n",
       "      <td>-0.15</td>\n",
       "      <td>-153</td>\n",
       "      <td>298</td>\n",
       "      <td>350</td>\n",
       "      <td>-451.0</td>\n",
       "      <td>2.0</td>\n",
       "      <td>43</td>\n",
       "      <td>96.0</td>\n",
       "      <td>0.00</td>\n",
       "    </tr>\n",
       "    <tr>\n",
       "      <th>199</th>\n",
       "      <td>200</td>\n",
       "      <td>Seychelles</td>\n",
       "      <td>98347</td>\n",
       "      <td>0.62</td>\n",
       "      <td>608</td>\n",
       "      <td>214</td>\n",
       "      <td>460</td>\n",
       "      <td>-200.0</td>\n",
       "      <td>2.5</td>\n",
       "      <td>34</td>\n",
       "      <td>56.0</td>\n",
       "      <td>0.00</td>\n",
       "    </tr>\n",
       "    <tr>\n",
       "      <th>200</th>\n",
       "      <td>201</td>\n",
       "      <td>Antigua and Barbuda</td>\n",
       "      <td>97929</td>\n",
       "      <td>0.84</td>\n",
       "      <td>811</td>\n",
       "      <td>223</td>\n",
       "      <td>440</td>\n",
       "      <td>0.0</td>\n",
       "      <td>2.0</td>\n",
       "      <td>34</td>\n",
       "      <td>26.0</td>\n",
       "      <td>0.00</td>\n",
       "    </tr>\n",
       "  </tbody>\n",
       "</table>\n",
       "</div>"
      ],
      "text/plain": [
       "      no   Country (or dependency)  Population 2020  Yearly Change  \\\n",
       "170  171                  Suriname           586632           0.90   \n",
       "171  172                Cabo Verde           555987           1.10   \n",
       "172  173                Micronesia           548914           1.00   \n",
       "173  174                  Maldives           540544           1.81   \n",
       "174  175                     Malta           441543           0.27   \n",
       "175  176                    Brunei           437479           0.97   \n",
       "177  178                    Belize           397628           1.86   \n",
       "178  179                   Bahamas           393244           0.97   \n",
       "179  180                Martinique           375265          -0.08   \n",
       "180  181                   Iceland           341243           0.65   \n",
       "181  182                   Vanuatu           307145           2.42   \n",
       "182  183             French Guiana           298682           2.70   \n",
       "183  184                  Barbados           287375           0.12   \n",
       "184  185             New Caledonia           285498           0.97   \n",
       "185  186          French Polynesia           280908           0.58   \n",
       "186  187                   Mayotte           272815           2.50   \n",
       "187  188       Sao Tome & Principe           219159           1.91   \n",
       "188  189                     Samoa           198414           0.67   \n",
       "189  190               Saint Lucia           183627           0.46   \n",
       "190  191           Channel Islands           173863           0.93   \n",
       "191  192                      Guam           168775           0.89   \n",
       "192  193                   Curaçao           164093           0.41   \n",
       "193  194                  Kiribati           119449           1.57   \n",
       "194  195                   Grenada           112523           0.46   \n",
       "195  196  St. Vincent & Grenadines           110940           0.32   \n",
       "196  197                     Aruba           106766           0.43   \n",
       "197  198                     Tonga           105695           1.15   \n",
       "198  199       U.S. Virgin Islands           104425          -0.15   \n",
       "199  200                Seychelles            98347           0.62   \n",
       "200  201       Antigua and Barbuda            97929           0.84   \n",
       "\n",
       "     Net Change  Density  (P/Km²)  Land Area (Km²)  Migrants (net)  \\\n",
       "170        5260                 4           156000         -1000.0   \n",
       "171        6052               138             4030         -1342.0   \n",
       "172        5428               784              700         -2957.0   \n",
       "173        9591              1802              300         11370.0   \n",
       "174        1171              1380              320           900.0   \n",
       "175        4194                83             5270             0.0   \n",
       "177        7275                17            22810          1200.0   \n",
       "178        3762                39            10010          1000.0   \n",
       "179        -289               354             1060          -960.0   \n",
       "180        2212                 3           100250           380.0   \n",
       "181        7263                25            12190           120.0   \n",
       "182        7850                 4            82200          1200.0   \n",
       "183         350               668              430           -79.0   \n",
       "184        2748                16            18280           502.0   \n",
       "185        1621                77             3660         -1000.0   \n",
       "186        6665               728              375             0.0   \n",
       "187        4103               228              960         -1680.0   \n",
       "188        1317                70             2830         -2803.0   \n",
       "189         837               301              610             0.0   \n",
       "190        1604               915              190          1351.0   \n",
       "191        1481               313              540          -506.0   \n",
       "192         669               370              444           515.0   \n",
       "193        1843               147              810          -800.0   \n",
       "194         520               331              340          -200.0   \n",
       "195         351               284              390          -200.0   \n",
       "196         452               593              180           201.0   \n",
       "197        1201               147              720          -800.0   \n",
       "198        -153               298              350          -451.0   \n",
       "199         608               214              460          -200.0   \n",
       "200         811               223              440             0.0   \n",
       "\n",
       "     Fert. Rate  Med. Age  Urban Pop %  World Share  \n",
       "170         2.4        29         65.0         0.01  \n",
       "171         2.3        28         68.0         0.01  \n",
       "172         2.9        27         68.0         0.01  \n",
       "173         1.9        30         35.0         0.01  \n",
       "174         1.5        43         93.0         0.01  \n",
       "175         1.8        32         80.0         0.01  \n",
       "177         2.3        25         46.0         0.01  \n",
       "178         1.8        32         86.0         0.01  \n",
       "179         1.9        47         92.0         0.00  \n",
       "180         1.8        37         94.0         0.00  \n",
       "181         3.8        21         24.0         0.00  \n",
       "182         3.4        25         87.0         0.00  \n",
       "183         1.6        40         31.0         0.00  \n",
       "184         2.0        34         72.0         0.00  \n",
       "185         2.0        34         64.0         0.00  \n",
       "186         3.7        20         46.0         0.00  \n",
       "187         4.4        19         74.0         0.00  \n",
       "188         3.9        22         18.0         0.00  \n",
       "189         1.4        34         19.0         0.00  \n",
       "190         1.5        43         30.0         0.00  \n",
       "191         2.3        31         95.0         0.00  \n",
       "192         1.8        42         89.0         0.00  \n",
       "193         3.6        23         57.0         0.00  \n",
       "194         2.1        32         35.0         0.00  \n",
       "195         1.9        33         53.0         0.00  \n",
       "196         1.9        41         44.0         0.00  \n",
       "197         3.6        22         24.0         0.00  \n",
       "198         2.0        43         96.0         0.00  \n",
       "199         2.5        34         56.0         0.00  \n",
       "200         2.0        34         26.0         0.00  "
      ]
     },
     "execution_count": 124,
     "metadata": {},
     "output_type": "execute_result"
    }
   ],
   "source": [
    "df.tail(30)"
   ]
  },
  {
   "cell_type": "code",
   "execution_count": 125,
   "id": "72ef15fd",
   "metadata": {},
   "outputs": [],
   "source": [
    "df.rename({\"Country (or dependency)\":\"Country\",\"Population 2020\":\"Population\"\n",
    "           ,\"Yearly Change\":\"Yearly_Change\",\"Net Change\":\"Net_Change\",\n",
    "           \"Density (P/Km²)\":\"Density\",\"Land Area (Km²)\":\"Land_Area\",\n",
    "           \"Migrants (net)\":\"Migrants\",\"Fert. Rate\":\"Fert_Rate\",\n",
    "           \"Med. Age\":\"Med_Age\",\"Urban Pop %\":\"Urban_Pop\",\n",
    "           \"World Share\":\"World_Share\"},axis = 1, inplace = True)"
   ]
  },
  {
   "cell_type": "code",
   "execution_count": 126,
   "id": "546b65d7",
   "metadata": {},
   "outputs": [
    {
     "data": {
      "text/html": [
       "<div>\n",
       "<style scoped>\n",
       "    .dataframe tbody tr th:only-of-type {\n",
       "        vertical-align: middle;\n",
       "    }\n",
       "\n",
       "    .dataframe tbody tr th {\n",
       "        vertical-align: top;\n",
       "    }\n",
       "\n",
       "    .dataframe thead th {\n",
       "        text-align: right;\n",
       "    }\n",
       "</style>\n",
       "<table border=\"1\" class=\"dataframe\">\n",
       "  <thead>\n",
       "    <tr style=\"text-align: right;\">\n",
       "      <th></th>\n",
       "      <th>no</th>\n",
       "      <th>Country</th>\n",
       "      <th>Population</th>\n",
       "      <th>Yearly_Change</th>\n",
       "      <th>Net_Change</th>\n",
       "      <th>Density  (P/Km²)</th>\n",
       "      <th>Land_Area</th>\n",
       "      <th>Migrants</th>\n",
       "      <th>Fert_Rate</th>\n",
       "      <th>Med_Age</th>\n",
       "      <th>Urban_Pop</th>\n",
       "      <th>World_Share</th>\n",
       "    </tr>\n",
       "  </thead>\n",
       "  <tbody>\n",
       "    <tr>\n",
       "      <th>0</th>\n",
       "      <td>1</td>\n",
       "      <td>China</td>\n",
       "      <td>1439323776</td>\n",
       "      <td>0.39</td>\n",
       "      <td>5540090</td>\n",
       "      <td>153</td>\n",
       "      <td>9388211</td>\n",
       "      <td>-348399.0</td>\n",
       "      <td>1.7</td>\n",
       "      <td>38</td>\n",
       "      <td>61.0</td>\n",
       "      <td>18.47</td>\n",
       "    </tr>\n",
       "    <tr>\n",
       "      <th>1</th>\n",
       "      <td>2</td>\n",
       "      <td>India</td>\n",
       "      <td>1380004385</td>\n",
       "      <td>0.99</td>\n",
       "      <td>13586631</td>\n",
       "      <td>464</td>\n",
       "      <td>2973190</td>\n",
       "      <td>-532687.0</td>\n",
       "      <td>2.2</td>\n",
       "      <td>28</td>\n",
       "      <td>35.0</td>\n",
       "      <td>17.70</td>\n",
       "    </tr>\n",
       "    <tr>\n",
       "      <th>2</th>\n",
       "      <td>3</td>\n",
       "      <td>United States</td>\n",
       "      <td>331002651</td>\n",
       "      <td>0.59</td>\n",
       "      <td>1937734</td>\n",
       "      <td>36</td>\n",
       "      <td>9147420</td>\n",
       "      <td>954806.0</td>\n",
       "      <td>1.8</td>\n",
       "      <td>38</td>\n",
       "      <td>83.0</td>\n",
       "      <td>4.25</td>\n",
       "    </tr>\n",
       "    <tr>\n",
       "      <th>3</th>\n",
       "      <td>4</td>\n",
       "      <td>Indonesia</td>\n",
       "      <td>273523615</td>\n",
       "      <td>1.07</td>\n",
       "      <td>2898047</td>\n",
       "      <td>151</td>\n",
       "      <td>1811570</td>\n",
       "      <td>-98955.0</td>\n",
       "      <td>2.3</td>\n",
       "      <td>30</td>\n",
       "      <td>56.0</td>\n",
       "      <td>3.51</td>\n",
       "    </tr>\n",
       "    <tr>\n",
       "      <th>4</th>\n",
       "      <td>5</td>\n",
       "      <td>Pakistan</td>\n",
       "      <td>220892340</td>\n",
       "      <td>2.00</td>\n",
       "      <td>4327022</td>\n",
       "      <td>287</td>\n",
       "      <td>770880</td>\n",
       "      <td>-233379.0</td>\n",
       "      <td>3.6</td>\n",
       "      <td>23</td>\n",
       "      <td>35.0</td>\n",
       "      <td>2.83</td>\n",
       "    </tr>\n",
       "    <tr>\n",
       "      <th>5</th>\n",
       "      <td>6</td>\n",
       "      <td>Brazil</td>\n",
       "      <td>212559417</td>\n",
       "      <td>0.72</td>\n",
       "      <td>1509890</td>\n",
       "      <td>25</td>\n",
       "      <td>8358140</td>\n",
       "      <td>21200.0</td>\n",
       "      <td>1.7</td>\n",
       "      <td>33</td>\n",
       "      <td>88.0</td>\n",
       "      <td>2.73</td>\n",
       "    </tr>\n",
       "    <tr>\n",
       "      <th>6</th>\n",
       "      <td>7</td>\n",
       "      <td>Nigeria</td>\n",
       "      <td>206139589</td>\n",
       "      <td>2.58</td>\n",
       "      <td>5175990</td>\n",
       "      <td>226</td>\n",
       "      <td>910770</td>\n",
       "      <td>-60000.0</td>\n",
       "      <td>5.4</td>\n",
       "      <td>18</td>\n",
       "      <td>52.0</td>\n",
       "      <td>2.64</td>\n",
       "    </tr>\n",
       "    <tr>\n",
       "      <th>7</th>\n",
       "      <td>8</td>\n",
       "      <td>Bangladesh</td>\n",
       "      <td>164689383</td>\n",
       "      <td>1.01</td>\n",
       "      <td>1643222</td>\n",
       "      <td>1265</td>\n",
       "      <td>130170</td>\n",
       "      <td>-369501.0</td>\n",
       "      <td>2.1</td>\n",
       "      <td>28</td>\n",
       "      <td>39.0</td>\n",
       "      <td>2.11</td>\n",
       "    </tr>\n",
       "    <tr>\n",
       "      <th>8</th>\n",
       "      <td>9</td>\n",
       "      <td>Russia</td>\n",
       "      <td>145934462</td>\n",
       "      <td>0.04</td>\n",
       "      <td>62206</td>\n",
       "      <td>9</td>\n",
       "      <td>16376870</td>\n",
       "      <td>182456.0</td>\n",
       "      <td>1.8</td>\n",
       "      <td>40</td>\n",
       "      <td>74.0</td>\n",
       "      <td>1.87</td>\n",
       "    </tr>\n",
       "    <tr>\n",
       "      <th>9</th>\n",
       "      <td>10</td>\n",
       "      <td>Mexico</td>\n",
       "      <td>128932753</td>\n",
       "      <td>1.06</td>\n",
       "      <td>1357224</td>\n",
       "      <td>66</td>\n",
       "      <td>1943950</td>\n",
       "      <td>-60000.0</td>\n",
       "      <td>2.1</td>\n",
       "      <td>29</td>\n",
       "      <td>84.0</td>\n",
       "      <td>1.65</td>\n",
       "    </tr>\n",
       "  </tbody>\n",
       "</table>\n",
       "</div>"
      ],
      "text/plain": [
       "   no        Country  Population  Yearly_Change  Net_Change  Density  (P/Km²)  \\\n",
       "0   1          China  1439323776           0.39     5540090               153   \n",
       "1   2          India  1380004385           0.99    13586631               464   \n",
       "2   3  United States   331002651           0.59     1937734                36   \n",
       "3   4      Indonesia   273523615           1.07     2898047               151   \n",
       "4   5       Pakistan   220892340           2.00     4327022               287   \n",
       "5   6         Brazil   212559417           0.72     1509890                25   \n",
       "6   7        Nigeria   206139589           2.58     5175990               226   \n",
       "7   8     Bangladesh   164689383           1.01     1643222              1265   \n",
       "8   9         Russia   145934462           0.04       62206                 9   \n",
       "9  10         Mexico   128932753           1.06     1357224                66   \n",
       "\n",
       "   Land_Area  Migrants  Fert_Rate  Med_Age  Urban_Pop  World_Share  \n",
       "0    9388211 -348399.0        1.7       38       61.0        18.47  \n",
       "1    2973190 -532687.0        2.2       28       35.0        17.70  \n",
       "2    9147420  954806.0        1.8       38       83.0         4.25  \n",
       "3    1811570  -98955.0        2.3       30       56.0         3.51  \n",
       "4     770880 -233379.0        3.6       23       35.0         2.83  \n",
       "5    8358140   21200.0        1.7       33       88.0         2.73  \n",
       "6     910770  -60000.0        5.4       18       52.0         2.64  \n",
       "7     130170 -369501.0        2.1       28       39.0         2.11  \n",
       "8   16376870  182456.0        1.8       40       74.0         1.87  \n",
       "9    1943950  -60000.0        2.1       29       84.0         1.65  "
      ]
     },
     "execution_count": 126,
     "metadata": {},
     "output_type": "execute_result"
    }
   ],
   "source": [
    "df.head(10)"
   ]
  },
  {
   "cell_type": "code",
   "execution_count": 127,
   "id": "a7417411",
   "metadata": {},
   "outputs": [
    {
     "data": {
      "text/html": [
       "<div>\n",
       "<style scoped>\n",
       "    .dataframe tbody tr th:only-of-type {\n",
       "        vertical-align: middle;\n",
       "    }\n",
       "\n",
       "    .dataframe tbody tr th {\n",
       "        vertical-align: top;\n",
       "    }\n",
       "\n",
       "    .dataframe thead th {\n",
       "        text-align: right;\n",
       "    }\n",
       "</style>\n",
       "<table border=\"1\" class=\"dataframe\">\n",
       "  <thead>\n",
       "    <tr style=\"text-align: right;\">\n",
       "      <th></th>\n",
       "      <th>no</th>\n",
       "      <th>Country</th>\n",
       "      <th>Population</th>\n",
       "      <th>Yearly_Change</th>\n",
       "      <th>Net_Change</th>\n",
       "      <th>Density  (P/Km²)</th>\n",
       "      <th>Land_Area</th>\n",
       "      <th>Migrants</th>\n",
       "      <th>Fert_Rate</th>\n",
       "      <th>Med_Age</th>\n",
       "      <th>Urban_Pop</th>\n",
       "      <th>World_Share</th>\n",
       "    </tr>\n",
       "  </thead>\n",
       "  <tbody>\n",
       "    <tr>\n",
       "      <th>8</th>\n",
       "      <td>9</td>\n",
       "      <td>Russia</td>\n",
       "      <td>145934462</td>\n",
       "      <td>0.04</td>\n",
       "      <td>62206</td>\n",
       "      <td>9</td>\n",
       "      <td>16376870</td>\n",
       "      <td>182456.0</td>\n",
       "      <td>1.8</td>\n",
       "      <td>40</td>\n",
       "      <td>74.0</td>\n",
       "      <td>1.87</td>\n",
       "    </tr>\n",
       "    <tr>\n",
       "      <th>0</th>\n",
       "      <td>1</td>\n",
       "      <td>China</td>\n",
       "      <td>1439323776</td>\n",
       "      <td>0.39</td>\n",
       "      <td>5540090</td>\n",
       "      <td>153</td>\n",
       "      <td>9388211</td>\n",
       "      <td>-348399.0</td>\n",
       "      <td>1.7</td>\n",
       "      <td>38</td>\n",
       "      <td>61.0</td>\n",
       "      <td>18.47</td>\n",
       "    </tr>\n",
       "    <tr>\n",
       "      <th>2</th>\n",
       "      <td>3</td>\n",
       "      <td>United States</td>\n",
       "      <td>331002651</td>\n",
       "      <td>0.59</td>\n",
       "      <td>1937734</td>\n",
       "      <td>36</td>\n",
       "      <td>9147420</td>\n",
       "      <td>954806.0</td>\n",
       "      <td>1.8</td>\n",
       "      <td>38</td>\n",
       "      <td>83.0</td>\n",
       "      <td>4.25</td>\n",
       "    </tr>\n",
       "    <tr>\n",
       "      <th>38</th>\n",
       "      <td>39</td>\n",
       "      <td>Canada</td>\n",
       "      <td>37742154</td>\n",
       "      <td>0.89</td>\n",
       "      <td>331107</td>\n",
       "      <td>4</td>\n",
       "      <td>9093510</td>\n",
       "      <td>242032.0</td>\n",
       "      <td>1.5</td>\n",
       "      <td>41</td>\n",
       "      <td>81.0</td>\n",
       "      <td>0.48</td>\n",
       "    </tr>\n",
       "    <tr>\n",
       "      <th>5</th>\n",
       "      <td>6</td>\n",
       "      <td>Brazil</td>\n",
       "      <td>212559417</td>\n",
       "      <td>0.72</td>\n",
       "      <td>1509890</td>\n",
       "      <td>25</td>\n",
       "      <td>8358140</td>\n",
       "      <td>21200.0</td>\n",
       "      <td>1.7</td>\n",
       "      <td>33</td>\n",
       "      <td>88.0</td>\n",
       "      <td>2.73</td>\n",
       "    </tr>\n",
       "    <tr>\n",
       "      <th>54</th>\n",
       "      <td>55</td>\n",
       "      <td>Australia</td>\n",
       "      <td>25499884</td>\n",
       "      <td>1.18</td>\n",
       "      <td>296686</td>\n",
       "      <td>3</td>\n",
       "      <td>7682300</td>\n",
       "      <td>158246.0</td>\n",
       "      <td>1.8</td>\n",
       "      <td>38</td>\n",
       "      <td>86.0</td>\n",
       "      <td>0.33</td>\n",
       "    </tr>\n",
       "    <tr>\n",
       "      <th>1</th>\n",
       "      <td>2</td>\n",
       "      <td>India</td>\n",
       "      <td>1380004385</td>\n",
       "      <td>0.99</td>\n",
       "      <td>13586631</td>\n",
       "      <td>464</td>\n",
       "      <td>2973190</td>\n",
       "      <td>-532687.0</td>\n",
       "      <td>2.2</td>\n",
       "      <td>28</td>\n",
       "      <td>35.0</td>\n",
       "      <td>17.70</td>\n",
       "    </tr>\n",
       "    <tr>\n",
       "      <th>31</th>\n",
       "      <td>32</td>\n",
       "      <td>Argentina</td>\n",
       "      <td>45195774</td>\n",
       "      <td>0.93</td>\n",
       "      <td>415097</td>\n",
       "      <td>17</td>\n",
       "      <td>2736690</td>\n",
       "      <td>4800.0</td>\n",
       "      <td>2.3</td>\n",
       "      <td>32</td>\n",
       "      <td>93.0</td>\n",
       "      <td>0.58</td>\n",
       "    </tr>\n",
       "    <tr>\n",
       "      <th>63</th>\n",
       "      <td>64</td>\n",
       "      <td>Kazakhstan</td>\n",
       "      <td>18776707</td>\n",
       "      <td>1.21</td>\n",
       "      <td>225280</td>\n",
       "      <td>7</td>\n",
       "      <td>2699700</td>\n",
       "      <td>-18000.0</td>\n",
       "      <td>2.8</td>\n",
       "      <td>31</td>\n",
       "      <td>58.0</td>\n",
       "      <td>0.24</td>\n",
       "    </tr>\n",
       "    <tr>\n",
       "      <th>32</th>\n",
       "      <td>33</td>\n",
       "      <td>Algeria</td>\n",
       "      <td>43851044</td>\n",
       "      <td>1.85</td>\n",
       "      <td>797990</td>\n",
       "      <td>18</td>\n",
       "      <td>2381740</td>\n",
       "      <td>-10000.0</td>\n",
       "      <td>3.1</td>\n",
       "      <td>29</td>\n",
       "      <td>73.0</td>\n",
       "      <td>0.56</td>\n",
       "    </tr>\n",
       "    <tr>\n",
       "      <th>15</th>\n",
       "      <td>16</td>\n",
       "      <td>DR Congo</td>\n",
       "      <td>89561403</td>\n",
       "      <td>3.19</td>\n",
       "      <td>2770836</td>\n",
       "      <td>40</td>\n",
       "      <td>2267050</td>\n",
       "      <td>23861.0</td>\n",
       "      <td>6.0</td>\n",
       "      <td>17</td>\n",
       "      <td>46.0</td>\n",
       "      <td>1.15</td>\n",
       "    </tr>\n",
       "    <tr>\n",
       "      <th>40</th>\n",
       "      <td>41</td>\n",
       "      <td>Saudi Arabia</td>\n",
       "      <td>34813871</td>\n",
       "      <td>1.59</td>\n",
       "      <td>545343</td>\n",
       "      <td>16</td>\n",
       "      <td>2149690</td>\n",
       "      <td>134979.0</td>\n",
       "      <td>2.3</td>\n",
       "      <td>32</td>\n",
       "      <td>84.0</td>\n",
       "      <td>0.45</td>\n",
       "    </tr>\n",
       "    <tr>\n",
       "      <th>9</th>\n",
       "      <td>10</td>\n",
       "      <td>Mexico</td>\n",
       "      <td>128932753</td>\n",
       "      <td>1.06</td>\n",
       "      <td>1357224</td>\n",
       "      <td>66</td>\n",
       "      <td>1943950</td>\n",
       "      <td>-60000.0</td>\n",
       "      <td>2.1</td>\n",
       "      <td>29</td>\n",
       "      <td>84.0</td>\n",
       "      <td>1.65</td>\n",
       "    </tr>\n",
       "    <tr>\n",
       "      <th>3</th>\n",
       "      <td>4</td>\n",
       "      <td>Indonesia</td>\n",
       "      <td>273523615</td>\n",
       "      <td>1.07</td>\n",
       "      <td>2898047</td>\n",
       "      <td>151</td>\n",
       "      <td>1811570</td>\n",
       "      <td>-98955.0</td>\n",
       "      <td>2.3</td>\n",
       "      <td>30</td>\n",
       "      <td>56.0</td>\n",
       "      <td>3.51</td>\n",
       "    </tr>\n",
       "    <tr>\n",
       "      <th>33</th>\n",
       "      <td>34</td>\n",
       "      <td>Sudan</td>\n",
       "      <td>43849260</td>\n",
       "      <td>2.42</td>\n",
       "      <td>1036022</td>\n",
       "      <td>25</td>\n",
       "      <td>1765048</td>\n",
       "      <td>-50000.0</td>\n",
       "      <td>4.4</td>\n",
       "      <td>20</td>\n",
       "      <td>35.0</td>\n",
       "      <td>0.56</td>\n",
       "    </tr>\n",
       "    <tr>\n",
       "      <th>107</th>\n",
       "      <td>108</td>\n",
       "      <td>Libya</td>\n",
       "      <td>6871292</td>\n",
       "      <td>1.38</td>\n",
       "      <td>93840</td>\n",
       "      <td>4</td>\n",
       "      <td>1759540</td>\n",
       "      <td>-1999.0</td>\n",
       "      <td>2.3</td>\n",
       "      <td>29</td>\n",
       "      <td>78.0</td>\n",
       "      <td>0.09</td>\n",
       "    </tr>\n",
       "    <tr>\n",
       "      <th>17</th>\n",
       "      <td>18</td>\n",
       "      <td>Iran</td>\n",
       "      <td>83992949</td>\n",
       "      <td>1.30</td>\n",
       "      <td>1079043</td>\n",
       "      <td>52</td>\n",
       "      <td>1628550</td>\n",
       "      <td>-55000.0</td>\n",
       "      <td>2.2</td>\n",
       "      <td>32</td>\n",
       "      <td>76.0</td>\n",
       "      <td>1.08</td>\n",
       "    </tr>\n",
       "    <tr>\n",
       "      <th>135</th>\n",
       "      <td>136</td>\n",
       "      <td>Mongolia</td>\n",
       "      <td>3278290</td>\n",
       "      <td>1.65</td>\n",
       "      <td>53123</td>\n",
       "      <td>2</td>\n",
       "      <td>1553560</td>\n",
       "      <td>-852.0</td>\n",
       "      <td>2.9</td>\n",
       "      <td>28</td>\n",
       "      <td>67.0</td>\n",
       "      <td>0.04</td>\n",
       "    </tr>\n",
       "    <tr>\n",
       "      <th>42</th>\n",
       "      <td>43</td>\n",
       "      <td>Peru</td>\n",
       "      <td>32971854</td>\n",
       "      <td>1.42</td>\n",
       "      <td>461401</td>\n",
       "      <td>26</td>\n",
       "      <td>1280000</td>\n",
       "      <td>99069.0</td>\n",
       "      <td>2.3</td>\n",
       "      <td>31</td>\n",
       "      <td>79.0</td>\n",
       "      <td>0.42</td>\n",
       "    </tr>\n",
       "    <tr>\n",
       "      <th>55</th>\n",
       "      <td>56</td>\n",
       "      <td>Niger</td>\n",
       "      <td>24206644</td>\n",
       "      <td>3.84</td>\n",
       "      <td>895929</td>\n",
       "      <td>19</td>\n",
       "      <td>1266700</td>\n",
       "      <td>4000.0</td>\n",
       "      <td>7.0</td>\n",
       "      <td>15</td>\n",
       "      <td>17.0</td>\n",
       "      <td>0.31</td>\n",
       "    </tr>\n",
       "  </tbody>\n",
       "</table>\n",
       "</div>"
      ],
      "text/plain": [
       "      no        Country  Population  Yearly_Change  Net_Change  \\\n",
       "8      9         Russia   145934462           0.04       62206   \n",
       "0      1          China  1439323776           0.39     5540090   \n",
       "2      3  United States   331002651           0.59     1937734   \n",
       "38    39         Canada    37742154           0.89      331107   \n",
       "5      6         Brazil   212559417           0.72     1509890   \n",
       "54    55      Australia    25499884           1.18      296686   \n",
       "1      2          India  1380004385           0.99    13586631   \n",
       "31    32      Argentina    45195774           0.93      415097   \n",
       "63    64     Kazakhstan    18776707           1.21      225280   \n",
       "32    33        Algeria    43851044           1.85      797990   \n",
       "15    16       DR Congo    89561403           3.19     2770836   \n",
       "40    41   Saudi Arabia    34813871           1.59      545343   \n",
       "9     10         Mexico   128932753           1.06     1357224   \n",
       "3      4      Indonesia   273523615           1.07     2898047   \n",
       "33    34          Sudan    43849260           2.42     1036022   \n",
       "107  108          Libya     6871292           1.38       93840   \n",
       "17    18           Iran    83992949           1.30     1079043   \n",
       "135  136       Mongolia     3278290           1.65       53123   \n",
       "42    43           Peru    32971854           1.42      461401   \n",
       "55    56          Niger    24206644           3.84      895929   \n",
       "\n",
       "     Density  (P/Km²)  Land_Area  Migrants  Fert_Rate  Med_Age  Urban_Pop  \\\n",
       "8                   9   16376870  182456.0        1.8       40       74.0   \n",
       "0                 153    9388211 -348399.0        1.7       38       61.0   \n",
       "2                  36    9147420  954806.0        1.8       38       83.0   \n",
       "38                  4    9093510  242032.0        1.5       41       81.0   \n",
       "5                  25    8358140   21200.0        1.7       33       88.0   \n",
       "54                  3    7682300  158246.0        1.8       38       86.0   \n",
       "1                 464    2973190 -532687.0        2.2       28       35.0   \n",
       "31                 17    2736690    4800.0        2.3       32       93.0   \n",
       "63                  7    2699700  -18000.0        2.8       31       58.0   \n",
       "32                 18    2381740  -10000.0        3.1       29       73.0   \n",
       "15                 40    2267050   23861.0        6.0       17       46.0   \n",
       "40                 16    2149690  134979.0        2.3       32       84.0   \n",
       "9                  66    1943950  -60000.0        2.1       29       84.0   \n",
       "3                 151    1811570  -98955.0        2.3       30       56.0   \n",
       "33                 25    1765048  -50000.0        4.4       20       35.0   \n",
       "107                 4    1759540   -1999.0        2.3       29       78.0   \n",
       "17                 52    1628550  -55000.0        2.2       32       76.0   \n",
       "135                 2    1553560    -852.0        2.9       28       67.0   \n",
       "42                 26    1280000   99069.0        2.3       31       79.0   \n",
       "55                 19    1266700    4000.0        7.0       15       17.0   \n",
       "\n",
       "     World_Share  \n",
       "8           1.87  \n",
       "0          18.47  \n",
       "2           4.25  \n",
       "38          0.48  \n",
       "5           2.73  \n",
       "54          0.33  \n",
       "1          17.70  \n",
       "31          0.58  \n",
       "63          0.24  \n",
       "32          0.56  \n",
       "15          1.15  \n",
       "40          0.45  \n",
       "9           1.65  \n",
       "3           3.51  \n",
       "33          0.56  \n",
       "107         0.09  \n",
       "17          1.08  \n",
       "135         0.04  \n",
       "42          0.42  \n",
       "55          0.31  "
      ]
     },
     "execution_count": 127,
     "metadata": {},
     "output_type": "execute_result"
    }
   ],
   "source": [
    "df.sort_values(by=['Land_Area'],ascending=False).iloc[:20]"
   ]
  },
  {
   "cell_type": "code",
   "execution_count": 128,
   "id": "6682bf3d",
   "metadata": {},
   "outputs": [
    {
     "data": {
      "text/html": [
       "        <script type=\"text/javascript\">\n",
       "        window.PlotlyConfig = {MathJaxConfig: 'local'};\n",
       "        if (window.MathJax && window.MathJax.Hub && window.MathJax.Hub.Config) {window.MathJax.Hub.Config({SVG: {font: \"STIX-Web\"}});}\n",
       "        if (typeof require !== 'undefined') {\n",
       "        require.undef(\"plotly\");\n",
       "        requirejs.config({\n",
       "            paths: {\n",
       "                'plotly': ['https://cdn.plot.ly/plotly-2.12.1.min']\n",
       "            }\n",
       "        });\n",
       "        require(['plotly'], function(Plotly) {\n",
       "            window._Plotly = Plotly;\n",
       "        });\n",
       "        }\n",
       "        </script>\n",
       "        "
      ]
     },
     "metadata": {},
     "output_type": "display_data"
    }
   ],
   "source": [
    "import plotly.graph_objs as go \n",
    "from plotly.offline import init_notebook_mode,iplot\n",
    "import plotly.express as px\n",
    "init_notebook_mode(connected=True)"
   ]
  },
  {
   "cell_type": "code",
   "execution_count": 129,
   "id": "f60c89b5",
   "metadata": {},
   "outputs": [
    {
     "data": {
      "application/vnd.plotly.v1+json": {
       "config": {
        "linkText": "Export to plot.ly",
        "plotlyServerURL": "https://plot.ly",
        "showLink": false
       },
       "data": [
        {
         "colorbar": {
          "title": {
           "text": "Migrants"
          }
         },
         "colorscale": [
          [
           0,
           "rgb(255,0,0)"
          ],
          [
           1,
           "rgb(0,0,255)"
          ]
         ],
         "locationmode": "country names",
         "locations": [
          "China",
          "India",
          "United States",
          "Indonesia",
          "Pakistan",
          "Brazil",
          "Nigeria",
          "Bangladesh",
          "Russia",
          "Mexico",
          "Japan",
          "Ethiopia",
          "Philippines",
          "Egypt",
          "Vietnam",
          "DR Congo",
          "Turkey",
          "Iran",
          "Germany",
          "Thailand",
          "United Kingdom",
          "France",
          "Italy",
          "Tanzania",
          "South Africa",
          "Myanmar",
          "Kenya",
          "South Korea",
          "Colombia",
          "Spain",
          "Uganda",
          "Argentina",
          "Algeria",
          "Sudan",
          "Ukraine",
          "Iraq",
          "Afghanistan",
          "Poland",
          "Canada",
          "Morocco",
          "Saudi Arabia",
          "Uzbekistan",
          "Peru",
          "Angola",
          "Malaysia",
          "Mozambique",
          "Ghana",
          "Yemen",
          "Nepal",
          "Madagascar",
          "Cameroon",
          "Côte d'Ivoire",
          "North Korea",
          "Australia",
          "Niger",
          "Taiwan",
          "Sri Lanka",
          "Burkina Faso",
          "Mali",
          "Romania",
          "Malawi",
          "Chile",
          "Kazakhstan",
          "Zambia",
          "Guatemala",
          "Ecuador",
          "Syria",
          "Netherlands",
          "Senegal",
          "Cambodia",
          "Chad",
          "Somalia",
          "Zimbabwe",
          "Guinea",
          "Rwanda",
          "Benin",
          "Burundi",
          "Tunisia",
          "Bolivia",
          "Belgium",
          "Haiti",
          "Cuba",
          "South Sudan",
          "Dominican Republic",
          "Czech Republic (Czechia)",
          "Greece",
          "Jordan",
          "Portugal",
          "Azerbaijan",
          "Sweden",
          "Honduras",
          "United Arab Emirates",
          "Hungary",
          "Tajikistan",
          "Belarus",
          "Austria",
          "Papua New Guinea",
          "Serbia",
          "Israel",
          "Switzerland",
          "Togo",
          "Sierra Leone",
          "Laos",
          "Paraguay",
          "Bulgaria",
          "Libya",
          "Lebanon",
          "Nicaragua",
          "Kyrgyzstan",
          "El Salvador",
          "Turkmenistan",
          "Denmark",
          "Finland",
          "Congo",
          "Slovakia",
          "Norway",
          "Oman",
          "State of Palestine",
          "Costa Rica",
          "Liberia",
          "Ireland",
          "Central African Republic",
          "New Zealand",
          "Mauritania",
          "Panama",
          "Croatia",
          "Moldova",
          "Georgia",
          "Eritrea",
          "Uruguay",
          "Bosnia and Herzegovina",
          "Mongolia",
          "Armenia",
          "Jamaica",
          "Qatar",
          "Albania",
          "Lithuania",
          "Namibia",
          "Gambia",
          "Botswana",
          "Gabon",
          "Lesotho",
          "North Macedonia",
          "Slovenia",
          "Guinea-Bissau",
          "Latvia",
          "Bahrain",
          "Equatorial Guinea",
          "Trinidad and Tobago",
          "Estonia",
          "Timor-Leste",
          "Mauritius",
          "Cyprus",
          "Eswatini",
          "Djibouti",
          "Fiji",
          "Réunion",
          "Comoros",
          "Guyana",
          "Bhutan",
          "Solomon Islands",
          "Montenegro",
          "Luxembourg",
          "Western Sahara",
          "Suriname",
          "Cabo Verde",
          "Micronesia",
          "Maldives",
          "Malta",
          "Brunei",
          "Belize",
          "Bahamas",
          "Martinique",
          "Iceland",
          "Vanuatu",
          "French Guiana",
          "Barbados",
          "New Caledonia",
          "French Polynesia",
          "Mayotte",
          "Sao Tome & Principe",
          "Samoa",
          "Saint Lucia",
          "Channel Islands",
          "Guam",
          "Curaçao",
          "Kiribati",
          "Grenada",
          "St. Vincent & Grenadines",
          "Aruba",
          "Tonga",
          "U.S. Virgin Islands",
          "Seychelles",
          "Antigua and Barbuda"
         ],
         "reversescale": false,
         "text": [
          "China",
          "India",
          "United States",
          "Indonesia",
          "Pakistan",
          "Brazil",
          "Nigeria",
          "Bangladesh",
          "Russia",
          "Mexico",
          "Japan",
          "Ethiopia",
          "Philippines",
          "Egypt",
          "Vietnam",
          "DR Congo",
          "Turkey",
          "Iran",
          "Germany",
          "Thailand",
          "United Kingdom",
          "France",
          "Italy",
          "Tanzania",
          "South Africa",
          "Myanmar",
          "Kenya",
          "South Korea",
          "Colombia",
          "Spain",
          "Uganda",
          "Argentina",
          "Algeria",
          "Sudan",
          "Ukraine",
          "Iraq",
          "Afghanistan",
          "Poland",
          "Canada",
          "Morocco",
          "Saudi Arabia",
          "Uzbekistan",
          "Peru",
          "Angola",
          "Malaysia",
          "Mozambique",
          "Ghana",
          "Yemen",
          "Nepal",
          "Madagascar",
          "Cameroon",
          "Côte d'Ivoire",
          "North Korea",
          "Australia",
          "Niger",
          "Taiwan",
          "Sri Lanka",
          "Burkina Faso",
          "Mali",
          "Romania",
          "Malawi",
          "Chile",
          "Kazakhstan",
          "Zambia",
          "Guatemala",
          "Ecuador",
          "Syria",
          "Netherlands",
          "Senegal",
          "Cambodia",
          "Chad",
          "Somalia",
          "Zimbabwe",
          "Guinea",
          "Rwanda",
          "Benin",
          "Burundi",
          "Tunisia",
          "Bolivia",
          "Belgium",
          "Haiti",
          "Cuba",
          "South Sudan",
          "Dominican Republic",
          "Czech Republic (Czechia)",
          "Greece",
          "Jordan",
          "Portugal",
          "Azerbaijan",
          "Sweden",
          "Honduras",
          "United Arab Emirates",
          "Hungary",
          "Tajikistan",
          "Belarus",
          "Austria",
          "Papua New Guinea",
          "Serbia",
          "Israel",
          "Switzerland",
          "Togo",
          "Sierra Leone",
          "Laos",
          "Paraguay",
          "Bulgaria",
          "Libya",
          "Lebanon",
          "Nicaragua",
          "Kyrgyzstan",
          "El Salvador",
          "Turkmenistan",
          "Denmark",
          "Finland",
          "Congo",
          "Slovakia",
          "Norway",
          "Oman",
          "State of Palestine",
          "Costa Rica",
          "Liberia",
          "Ireland",
          "Central African Republic",
          "New Zealand",
          "Mauritania",
          "Panama",
          "Croatia",
          "Moldova",
          "Georgia",
          "Eritrea",
          "Uruguay",
          "Bosnia and Herzegovina",
          "Mongolia",
          "Armenia",
          "Jamaica",
          "Qatar",
          "Albania",
          "Lithuania",
          "Namibia",
          "Gambia",
          "Botswana",
          "Gabon",
          "Lesotho",
          "North Macedonia",
          "Slovenia",
          "Guinea-Bissau",
          "Latvia",
          "Bahrain",
          "Equatorial Guinea",
          "Trinidad and Tobago",
          "Estonia",
          "Timor-Leste",
          "Mauritius",
          "Cyprus",
          "Eswatini",
          "Djibouti",
          "Fiji",
          "Réunion",
          "Comoros",
          "Guyana",
          "Bhutan",
          "Solomon Islands",
          "Montenegro",
          "Luxembourg",
          "Western Sahara",
          "Suriname",
          "Cabo Verde",
          "Micronesia",
          "Maldives",
          "Malta",
          "Brunei",
          "Belize",
          "Bahamas",
          "Martinique",
          "Iceland",
          "Vanuatu",
          "French Guiana",
          "Barbados",
          "New Caledonia",
          "French Polynesia",
          "Mayotte",
          "Sao Tome & Principe",
          "Samoa",
          "Saint Lucia",
          "Channel Islands",
          "Guam",
          "Curaçao",
          "Kiribati",
          "Grenada",
          "St. Vincent & Grenadines",
          "Aruba",
          "Tonga",
          "U.S. Virgin Islands",
          "Seychelles",
          "Antigua and Barbuda"
         ],
         "type": "choropleth",
         "z": [
          -348399,
          -532687,
          954806,
          -98955,
          -233379,
          21200,
          -60000,
          -369501,
          182456,
          -60000,
          71560,
          30000,
          -67152,
          -38033,
          -80000,
          23861,
          283922,
          -55000,
          543822,
          19444,
          260650,
          36527,
          148943,
          -40076,
          145405,
          -163313,
          -10000,
          11731,
          204796,
          40000,
          168694,
          4800,
          -10000,
          -50000,
          10000,
          7834,
          -62920,
          -29395,
          242032,
          -51419,
          134979,
          -8863,
          99069,
          6413,
          50000,
          -5000,
          -10000,
          -30000,
          41710,
          -1500,
          -4800,
          -8000,
          -5403,
          158246,
          4000,
          30001,
          -97986,
          -25000,
          -40000,
          -73999,
          -16053,
          111708,
          -18000,
          -8000,
          -9215,
          36400,
          -427391,
          16000,
          -20000,
          -30000,
          2000,
          -40000,
          -116858,
          -4000,
          -9000,
          -2000,
          2001,
          -4000,
          -9504,
          48000,
          -35000,
          -14400,
          -174200,
          -30000,
          22011,
          -16000,
          10220,
          -6000,
          1200,
          40000,
          -6800,
          40000,
          6000,
          -20000,
          8730,
          65000,
          -800,
          4000,
          10000,
          52000,
          -2000,
          -4200,
          -14704,
          -16556,
          -4800,
          -1999,
          -30012,
          -21272,
          -4000,
          -40539,
          -5000,
          15200,
          14000,
          -4000,
          1485,
          28000,
          87400,
          -10563,
          4200,
          -5000,
          23604,
          -40000,
          14881,
          5000,
          11200,
          -8001,
          -1387,
          -10000,
          -39858,
          -3000,
          -21585,
          -852,
          -4998,
          -11332,
          40000,
          -14000,
          -32780,
          -4806,
          -3087,
          3000,
          3260,
          -10047,
          -1000,
          2000,
          -1399,
          -14837,
          47800,
          16000,
          -800,
          3911,
          -5385,
          0,
          5000,
          -8353,
          900,
          -6202,
          -1256,
          -2000,
          -6000,
          320,
          -1600,
          -480,
          9741,
          5582,
          -1000,
          -1342,
          -2957,
          11370,
          900,
          0,
          1200,
          1000,
          -960,
          380,
          120,
          1200,
          -79,
          502,
          -1000,
          0,
          -1680,
          -2803,
          0,
          1351,
          -506,
          515,
          -800,
          -200,
          -200,
          201,
          -800,
          -451,
          -200,
          0
         ]
        }
       ],
       "layout": {
        "geo": {
         "projection": {
          "type": "hyperelliptical"
         },
         "showframe": false
        },
        "template": {
         "data": {
          "bar": [
           {
            "error_x": {
             "color": "#2a3f5f"
            },
            "error_y": {
             "color": "#2a3f5f"
            },
            "marker": {
             "line": {
              "color": "#E5ECF6",
              "width": 0.5
             },
             "pattern": {
              "fillmode": "overlay",
              "size": 10,
              "solidity": 0.2
             }
            },
            "type": "bar"
           }
          ],
          "barpolar": [
           {
            "marker": {
             "line": {
              "color": "#E5ECF6",
              "width": 0.5
             },
             "pattern": {
              "fillmode": "overlay",
              "size": 10,
              "solidity": 0.2
             }
            },
            "type": "barpolar"
           }
          ],
          "carpet": [
           {
            "aaxis": {
             "endlinecolor": "#2a3f5f",
             "gridcolor": "white",
             "linecolor": "white",
             "minorgridcolor": "white",
             "startlinecolor": "#2a3f5f"
            },
            "baxis": {
             "endlinecolor": "#2a3f5f",
             "gridcolor": "white",
             "linecolor": "white",
             "minorgridcolor": "white",
             "startlinecolor": "#2a3f5f"
            },
            "type": "carpet"
           }
          ],
          "choropleth": [
           {
            "colorbar": {
             "outlinewidth": 0,
             "ticks": ""
            },
            "type": "choropleth"
           }
          ],
          "contour": [
           {
            "colorbar": {
             "outlinewidth": 0,
             "ticks": ""
            },
            "colorscale": [
             [
              0,
              "#0d0887"
             ],
             [
              0.1111111111111111,
              "#46039f"
             ],
             [
              0.2222222222222222,
              "#7201a8"
             ],
             [
              0.3333333333333333,
              "#9c179e"
             ],
             [
              0.4444444444444444,
              "#bd3786"
             ],
             [
              0.5555555555555556,
              "#d8576b"
             ],
             [
              0.6666666666666666,
              "#ed7953"
             ],
             [
              0.7777777777777778,
              "#fb9f3a"
             ],
             [
              0.8888888888888888,
              "#fdca26"
             ],
             [
              1,
              "#f0f921"
             ]
            ],
            "type": "contour"
           }
          ],
          "contourcarpet": [
           {
            "colorbar": {
             "outlinewidth": 0,
             "ticks": ""
            },
            "type": "contourcarpet"
           }
          ],
          "heatmap": [
           {
            "colorbar": {
             "outlinewidth": 0,
             "ticks": ""
            },
            "colorscale": [
             [
              0,
              "#0d0887"
             ],
             [
              0.1111111111111111,
              "#46039f"
             ],
             [
              0.2222222222222222,
              "#7201a8"
             ],
             [
              0.3333333333333333,
              "#9c179e"
             ],
             [
              0.4444444444444444,
              "#bd3786"
             ],
             [
              0.5555555555555556,
              "#d8576b"
             ],
             [
              0.6666666666666666,
              "#ed7953"
             ],
             [
              0.7777777777777778,
              "#fb9f3a"
             ],
             [
              0.8888888888888888,
              "#fdca26"
             ],
             [
              1,
              "#f0f921"
             ]
            ],
            "type": "heatmap"
           }
          ],
          "heatmapgl": [
           {
            "colorbar": {
             "outlinewidth": 0,
             "ticks": ""
            },
            "colorscale": [
             [
              0,
              "#0d0887"
             ],
             [
              0.1111111111111111,
              "#46039f"
             ],
             [
              0.2222222222222222,
              "#7201a8"
             ],
             [
              0.3333333333333333,
              "#9c179e"
             ],
             [
              0.4444444444444444,
              "#bd3786"
             ],
             [
              0.5555555555555556,
              "#d8576b"
             ],
             [
              0.6666666666666666,
              "#ed7953"
             ],
             [
              0.7777777777777778,
              "#fb9f3a"
             ],
             [
              0.8888888888888888,
              "#fdca26"
             ],
             [
              1,
              "#f0f921"
             ]
            ],
            "type": "heatmapgl"
           }
          ],
          "histogram": [
           {
            "marker": {
             "pattern": {
              "fillmode": "overlay",
              "size": 10,
              "solidity": 0.2
             }
            },
            "type": "histogram"
           }
          ],
          "histogram2d": [
           {
            "colorbar": {
             "outlinewidth": 0,
             "ticks": ""
            },
            "colorscale": [
             [
              0,
              "#0d0887"
             ],
             [
              0.1111111111111111,
              "#46039f"
             ],
             [
              0.2222222222222222,
              "#7201a8"
             ],
             [
              0.3333333333333333,
              "#9c179e"
             ],
             [
              0.4444444444444444,
              "#bd3786"
             ],
             [
              0.5555555555555556,
              "#d8576b"
             ],
             [
              0.6666666666666666,
              "#ed7953"
             ],
             [
              0.7777777777777778,
              "#fb9f3a"
             ],
             [
              0.8888888888888888,
              "#fdca26"
             ],
             [
              1,
              "#f0f921"
             ]
            ],
            "type": "histogram2d"
           }
          ],
          "histogram2dcontour": [
           {
            "colorbar": {
             "outlinewidth": 0,
             "ticks": ""
            },
            "colorscale": [
             [
              0,
              "#0d0887"
             ],
             [
              0.1111111111111111,
              "#46039f"
             ],
             [
              0.2222222222222222,
              "#7201a8"
             ],
             [
              0.3333333333333333,
              "#9c179e"
             ],
             [
              0.4444444444444444,
              "#bd3786"
             ],
             [
              0.5555555555555556,
              "#d8576b"
             ],
             [
              0.6666666666666666,
              "#ed7953"
             ],
             [
              0.7777777777777778,
              "#fb9f3a"
             ],
             [
              0.8888888888888888,
              "#fdca26"
             ],
             [
              1,
              "#f0f921"
             ]
            ],
            "type": "histogram2dcontour"
           }
          ],
          "mesh3d": [
           {
            "colorbar": {
             "outlinewidth": 0,
             "ticks": ""
            },
            "type": "mesh3d"
           }
          ],
          "parcoords": [
           {
            "line": {
             "colorbar": {
              "outlinewidth": 0,
              "ticks": ""
             }
            },
            "type": "parcoords"
           }
          ],
          "pie": [
           {
            "automargin": true,
            "type": "pie"
           }
          ],
          "scatter": [
           {
            "fillpattern": {
             "fillmode": "overlay",
             "size": 10,
             "solidity": 0.2
            },
            "type": "scatter"
           }
          ],
          "scatter3d": [
           {
            "line": {
             "colorbar": {
              "outlinewidth": 0,
              "ticks": ""
             }
            },
            "marker": {
             "colorbar": {
              "outlinewidth": 0,
              "ticks": ""
             }
            },
            "type": "scatter3d"
           }
          ],
          "scattercarpet": [
           {
            "marker": {
             "colorbar": {
              "outlinewidth": 0,
              "ticks": ""
             }
            },
            "type": "scattercarpet"
           }
          ],
          "scattergeo": [
           {
            "marker": {
             "colorbar": {
              "outlinewidth": 0,
              "ticks": ""
             }
            },
            "type": "scattergeo"
           }
          ],
          "scattergl": [
           {
            "marker": {
             "colorbar": {
              "outlinewidth": 0,
              "ticks": ""
             }
            },
            "type": "scattergl"
           }
          ],
          "scattermapbox": [
           {
            "marker": {
             "colorbar": {
              "outlinewidth": 0,
              "ticks": ""
             }
            },
            "type": "scattermapbox"
           }
          ],
          "scatterpolar": [
           {
            "marker": {
             "colorbar": {
              "outlinewidth": 0,
              "ticks": ""
             }
            },
            "type": "scatterpolar"
           }
          ],
          "scatterpolargl": [
           {
            "marker": {
             "colorbar": {
              "outlinewidth": 0,
              "ticks": ""
             }
            },
            "type": "scatterpolargl"
           }
          ],
          "scatterternary": [
           {
            "marker": {
             "colorbar": {
              "outlinewidth": 0,
              "ticks": ""
             }
            },
            "type": "scatterternary"
           }
          ],
          "surface": [
           {
            "colorbar": {
             "outlinewidth": 0,
             "ticks": ""
            },
            "colorscale": [
             [
              0,
              "#0d0887"
             ],
             [
              0.1111111111111111,
              "#46039f"
             ],
             [
              0.2222222222222222,
              "#7201a8"
             ],
             [
              0.3333333333333333,
              "#9c179e"
             ],
             [
              0.4444444444444444,
              "#bd3786"
             ],
             [
              0.5555555555555556,
              "#d8576b"
             ],
             [
              0.6666666666666666,
              "#ed7953"
             ],
             [
              0.7777777777777778,
              "#fb9f3a"
             ],
             [
              0.8888888888888888,
              "#fdca26"
             ],
             [
              1,
              "#f0f921"
             ]
            ],
            "type": "surface"
           }
          ],
          "table": [
           {
            "cells": {
             "fill": {
              "color": "#EBF0F8"
             },
             "line": {
              "color": "white"
             }
            },
            "header": {
             "fill": {
              "color": "#C8D4E3"
             },
             "line": {
              "color": "white"
             }
            },
            "type": "table"
           }
          ]
         },
         "layout": {
          "annotationdefaults": {
           "arrowcolor": "#2a3f5f",
           "arrowhead": 0,
           "arrowwidth": 1
          },
          "autotypenumbers": "strict",
          "coloraxis": {
           "colorbar": {
            "outlinewidth": 0,
            "ticks": ""
           }
          },
          "colorscale": {
           "diverging": [
            [
             0,
             "#8e0152"
            ],
            [
             0.1,
             "#c51b7d"
            ],
            [
             0.2,
             "#de77ae"
            ],
            [
             0.3,
             "#f1b6da"
            ],
            [
             0.4,
             "#fde0ef"
            ],
            [
             0.5,
             "#f7f7f7"
            ],
            [
             0.6,
             "#e6f5d0"
            ],
            [
             0.7,
             "#b8e186"
            ],
            [
             0.8,
             "#7fbc41"
            ],
            [
             0.9,
             "#4d9221"
            ],
            [
             1,
             "#276419"
            ]
           ],
           "sequential": [
            [
             0,
             "#0d0887"
            ],
            [
             0.1111111111111111,
             "#46039f"
            ],
            [
             0.2222222222222222,
             "#7201a8"
            ],
            [
             0.3333333333333333,
             "#9c179e"
            ],
            [
             0.4444444444444444,
             "#bd3786"
            ],
            [
             0.5555555555555556,
             "#d8576b"
            ],
            [
             0.6666666666666666,
             "#ed7953"
            ],
            [
             0.7777777777777778,
             "#fb9f3a"
            ],
            [
             0.8888888888888888,
             "#fdca26"
            ],
            [
             1,
             "#f0f921"
            ]
           ],
           "sequentialminus": [
            [
             0,
             "#0d0887"
            ],
            [
             0.1111111111111111,
             "#46039f"
            ],
            [
             0.2222222222222222,
             "#7201a8"
            ],
            [
             0.3333333333333333,
             "#9c179e"
            ],
            [
             0.4444444444444444,
             "#bd3786"
            ],
            [
             0.5555555555555556,
             "#d8576b"
            ],
            [
             0.6666666666666666,
             "#ed7953"
            ],
            [
             0.7777777777777778,
             "#fb9f3a"
            ],
            [
             0.8888888888888888,
             "#fdca26"
            ],
            [
             1,
             "#f0f921"
            ]
           ]
          },
          "colorway": [
           "#636efa",
           "#EF553B",
           "#00cc96",
           "#ab63fa",
           "#FFA15A",
           "#19d3f3",
           "#FF6692",
           "#B6E880",
           "#FF97FF",
           "#FECB52"
          ],
          "font": {
           "color": "#2a3f5f"
          },
          "geo": {
           "bgcolor": "white",
           "lakecolor": "white",
           "landcolor": "#E5ECF6",
           "showlakes": true,
           "showland": true,
           "subunitcolor": "white"
          },
          "hoverlabel": {
           "align": "left"
          },
          "hovermode": "closest",
          "mapbox": {
           "style": "light"
          },
          "paper_bgcolor": "white",
          "plot_bgcolor": "#E5ECF6",
          "polar": {
           "angularaxis": {
            "gridcolor": "white",
            "linecolor": "white",
            "ticks": ""
           },
           "bgcolor": "#E5ECF6",
           "radialaxis": {
            "gridcolor": "white",
            "linecolor": "white",
            "ticks": ""
           }
          },
          "scene": {
           "xaxis": {
            "backgroundcolor": "#E5ECF6",
            "gridcolor": "white",
            "gridwidth": 2,
            "linecolor": "white",
            "showbackground": true,
            "ticks": "",
            "zerolinecolor": "white"
           },
           "yaxis": {
            "backgroundcolor": "#E5ECF6",
            "gridcolor": "white",
            "gridwidth": 2,
            "linecolor": "white",
            "showbackground": true,
            "ticks": "",
            "zerolinecolor": "white"
           },
           "zaxis": {
            "backgroundcolor": "#E5ECF6",
            "gridcolor": "white",
            "gridwidth": 2,
            "linecolor": "white",
            "showbackground": true,
            "ticks": "",
            "zerolinecolor": "white"
           }
          },
          "shapedefaults": {
           "line": {
            "color": "#2a3f5f"
           }
          },
          "ternary": {
           "aaxis": {
            "gridcolor": "white",
            "linecolor": "white",
            "ticks": ""
           },
           "baxis": {
            "gridcolor": "white",
            "linecolor": "white",
            "ticks": ""
           },
           "bgcolor": "#E5ECF6",
           "caxis": {
            "gridcolor": "white",
            "linecolor": "white",
            "ticks": ""
           }
          },
          "title": {
           "x": 0.05
          },
          "xaxis": {
           "automargin": true,
           "gridcolor": "white",
           "linecolor": "white",
           "ticks": "",
           "title": {
            "standoff": 15
           },
           "zerolinecolor": "white",
           "zerolinewidth": 2
          },
          "yaxis": {
           "automargin": true,
           "gridcolor": "white",
           "linecolor": "white",
           "ticks": "",
           "title": {
            "standoff": 15
           },
           "zerolinecolor": "white",
           "zerolinewidth": 2
          }
         }
        },
        "title": {
         "text": "Migrants"
        }
       }
      },
      "text/html": [
       "<div>                            <div id=\"dc8a569c-d3d9-4bb9-9557-921bf9f0c86f\" class=\"plotly-graph-div\" style=\"height:525px; width:100%;\"></div>            <script type=\"text/javascript\">                require([\"plotly\"], function(Plotly) {                    window.PLOTLYENV=window.PLOTLYENV || {};                                    if (document.getElementById(\"dc8a569c-d3d9-4bb9-9557-921bf9f0c86f\")) {                    Plotly.newPlot(                        \"dc8a569c-d3d9-4bb9-9557-921bf9f0c86f\",                        [{\"colorbar\":{\"title\":{\"text\":\"Migrants\"}},\"colorscale\":[[0.0,\"rgb(255,0,0)\"],[1.0,\"rgb(0,0,255)\"]],\"locationmode\":\"country names\",\"locations\":[\"China\",\"India\",\"United States\",\"Indonesia\",\"Pakistan\",\"Brazil\",\"Nigeria\",\"Bangladesh\",\"Russia\",\"Mexico\",\"Japan\",\"Ethiopia\",\"Philippines\",\"Egypt\",\"Vietnam\",\"DR Congo\",\"Turkey\",\"Iran\",\"Germany\",\"Thailand\",\"United Kingdom\",\"France\",\"Italy\",\"Tanzania\",\"South Africa\",\"Myanmar\",\"Kenya\",\"South Korea\",\"Colombia\",\"Spain\",\"Uganda\",\"Argentina\",\"Algeria\",\"Sudan\",\"Ukraine\",\"Iraq\",\"Afghanistan\",\"Poland\",\"Canada\",\"Morocco\",\"Saudi Arabia\",\"Uzbekistan\",\"Peru\",\"Angola\",\"Malaysia\",\"Mozambique\",\"Ghana\",\"Yemen\",\"Nepal\",\"Madagascar\",\"Cameroon\",\"C\\u00f4te d'Ivoire\",\"North Korea\",\"Australia\",\"Niger\",\"Taiwan\",\"Sri Lanka\",\"Burkina Faso\",\"Mali\",\"Romania\",\"Malawi\",\"Chile\",\"Kazakhstan\",\"Zambia\",\"Guatemala\",\"Ecuador\",\"Syria\",\"Netherlands\",\"Senegal\",\"Cambodia\",\"Chad\",\"Somalia\",\"Zimbabwe\",\"Guinea\",\"Rwanda\",\"Benin\",\"Burundi\",\"Tunisia\",\"Bolivia\",\"Belgium\",\"Haiti\",\"Cuba\",\"South Sudan\",\"Dominican Republic\",\"Czech Republic (Czechia)\",\"Greece\",\"Jordan\",\"Portugal\",\"Azerbaijan\",\"Sweden\",\"Honduras\",\"United Arab Emirates\",\"Hungary\",\"Tajikistan\",\"Belarus\",\"Austria\",\"Papua New Guinea\",\"Serbia\",\"Israel\",\"Switzerland\",\"Togo\",\"Sierra Leone\",\"Laos\",\"Paraguay\",\"Bulgaria\",\"Libya\",\"Lebanon\",\"Nicaragua\",\"Kyrgyzstan\",\"El Salvador\",\"Turkmenistan\",\"Denmark\",\"Finland\",\"Congo\",\"Slovakia\",\"Norway\",\"Oman\",\"State of Palestine\",\"Costa Rica\",\"Liberia\",\"Ireland\",\"Central African Republic\",\"New Zealand\",\"Mauritania\",\"Panama\",\"Croatia\",\"Moldova\",\"Georgia\",\"Eritrea\",\"Uruguay\",\"Bosnia and Herzegovina\",\"Mongolia\",\"Armenia\",\"Jamaica\",\"Qatar\",\"Albania\",\"Lithuania\",\"Namibia\",\"Gambia\",\"Botswana\",\"Gabon\",\"Lesotho\",\"North Macedonia\",\"Slovenia\",\"Guinea-Bissau\",\"Latvia\",\"Bahrain\",\"Equatorial Guinea\",\"Trinidad and Tobago\",\"Estonia\",\"Timor-Leste\",\"Mauritius\",\"Cyprus\",\"Eswatini\",\"Djibouti\",\"Fiji\",\"R\\u00e9union\",\"Comoros\",\"Guyana\",\"Bhutan\",\"Solomon Islands\",\"Montenegro\",\"Luxembourg\",\"Western Sahara\",\"Suriname\",\"Cabo Verde\",\"Micronesia\",\"Maldives\",\"Malta\",\"Brunei\",\"Belize\",\"Bahamas\",\"Martinique\",\"Iceland\",\"Vanuatu\",\"French Guiana\",\"Barbados\",\"New Caledonia\",\"French Polynesia\",\"Mayotte\",\"Sao Tome & Principe\",\"Samoa\",\"Saint Lucia\",\"Channel Islands\",\"Guam\",\"Cura\\u00e7ao\",\"Kiribati\",\"Grenada\",\"St. Vincent & Grenadines\",\"Aruba\",\"Tonga\",\"U.S. Virgin Islands\",\"Seychelles\",\"Antigua and Barbuda\"],\"reversescale\":false,\"text\":[\"China\",\"India\",\"United States\",\"Indonesia\",\"Pakistan\",\"Brazil\",\"Nigeria\",\"Bangladesh\",\"Russia\",\"Mexico\",\"Japan\",\"Ethiopia\",\"Philippines\",\"Egypt\",\"Vietnam\",\"DR Congo\",\"Turkey\",\"Iran\",\"Germany\",\"Thailand\",\"United Kingdom\",\"France\",\"Italy\",\"Tanzania\",\"South Africa\",\"Myanmar\",\"Kenya\",\"South Korea\",\"Colombia\",\"Spain\",\"Uganda\",\"Argentina\",\"Algeria\",\"Sudan\",\"Ukraine\",\"Iraq\",\"Afghanistan\",\"Poland\",\"Canada\",\"Morocco\",\"Saudi Arabia\",\"Uzbekistan\",\"Peru\",\"Angola\",\"Malaysia\",\"Mozambique\",\"Ghana\",\"Yemen\",\"Nepal\",\"Madagascar\",\"Cameroon\",\"C\\u00f4te d'Ivoire\",\"North Korea\",\"Australia\",\"Niger\",\"Taiwan\",\"Sri Lanka\",\"Burkina Faso\",\"Mali\",\"Romania\",\"Malawi\",\"Chile\",\"Kazakhstan\",\"Zambia\",\"Guatemala\",\"Ecuador\",\"Syria\",\"Netherlands\",\"Senegal\",\"Cambodia\",\"Chad\",\"Somalia\",\"Zimbabwe\",\"Guinea\",\"Rwanda\",\"Benin\",\"Burundi\",\"Tunisia\",\"Bolivia\",\"Belgium\",\"Haiti\",\"Cuba\",\"South Sudan\",\"Dominican Republic\",\"Czech Republic (Czechia)\",\"Greece\",\"Jordan\",\"Portugal\",\"Azerbaijan\",\"Sweden\",\"Honduras\",\"United Arab Emirates\",\"Hungary\",\"Tajikistan\",\"Belarus\",\"Austria\",\"Papua New Guinea\",\"Serbia\",\"Israel\",\"Switzerland\",\"Togo\",\"Sierra Leone\",\"Laos\",\"Paraguay\",\"Bulgaria\",\"Libya\",\"Lebanon\",\"Nicaragua\",\"Kyrgyzstan\",\"El Salvador\",\"Turkmenistan\",\"Denmark\",\"Finland\",\"Congo\",\"Slovakia\",\"Norway\",\"Oman\",\"State of Palestine\",\"Costa Rica\",\"Liberia\",\"Ireland\",\"Central African Republic\",\"New Zealand\",\"Mauritania\",\"Panama\",\"Croatia\",\"Moldova\",\"Georgia\",\"Eritrea\",\"Uruguay\",\"Bosnia and Herzegovina\",\"Mongolia\",\"Armenia\",\"Jamaica\",\"Qatar\",\"Albania\",\"Lithuania\",\"Namibia\",\"Gambia\",\"Botswana\",\"Gabon\",\"Lesotho\",\"North Macedonia\",\"Slovenia\",\"Guinea-Bissau\",\"Latvia\",\"Bahrain\",\"Equatorial Guinea\",\"Trinidad and Tobago\",\"Estonia\",\"Timor-Leste\",\"Mauritius\",\"Cyprus\",\"Eswatini\",\"Djibouti\",\"Fiji\",\"R\\u00e9union\",\"Comoros\",\"Guyana\",\"Bhutan\",\"Solomon Islands\",\"Montenegro\",\"Luxembourg\",\"Western Sahara\",\"Suriname\",\"Cabo Verde\",\"Micronesia\",\"Maldives\",\"Malta\",\"Brunei\",\"Belize\",\"Bahamas\",\"Martinique\",\"Iceland\",\"Vanuatu\",\"French Guiana\",\"Barbados\",\"New Caledonia\",\"French Polynesia\",\"Mayotte\",\"Sao Tome & Principe\",\"Samoa\",\"Saint Lucia\",\"Channel Islands\",\"Guam\",\"Cura\\u00e7ao\",\"Kiribati\",\"Grenada\",\"St. Vincent & Grenadines\",\"Aruba\",\"Tonga\",\"U.S. Virgin Islands\",\"Seychelles\",\"Antigua and Barbuda\"],\"z\":[-348399.0,-532687.0,954806.0,-98955.0,-233379.0,21200.0,-60000.0,-369501.0,182456.0,-60000.0,71560.0,30000.0,-67152.0,-38033.0,-80000.0,23861.0,283922.0,-55000.0,543822.0,19444.0,260650.0,36527.0,148943.0,-40076.0,145405.0,-163313.0,-10000.0,11731.0,204796.0,40000.0,168694.0,4800.0,-10000.0,-50000.0,10000.0,7834.0,-62920.0,-29395.0,242032.0,-51419.0,134979.0,-8863.0,99069.0,6413.0,50000.0,-5000.0,-10000.0,-30000.0,41710.0,-1500.0,-4800.0,-8000.0,-5403.0,158246.0,4000.0,30001.0,-97986.0,-25000.0,-40000.0,-73999.0,-16053.0,111708.0,-18000.0,-8000.0,-9215.0,36400.0,-427391.0,16000.0,-20000.0,-30000.0,2000.0,-40000.0,-116858.0,-4000.0,-9000.0,-2000.0,2001.0,-4000.0,-9504.0,48000.0,-35000.0,-14400.0,-174200.0,-30000.0,22011.0,-16000.0,10220.0,-6000.0,1200.0,40000.0,-6800.0,40000.0,6000.0,-20000.0,8730.0,65000.0,-800.0,4000.0,10000.0,52000.0,-2000.0,-4200.0,-14704.0,-16556.0,-4800.0,-1999.0,-30012.0,-21272.0,-4000.0,-40539.0,-5000.0,15200.0,14000.0,-4000.0,1485.0,28000.0,87400.0,-10563.0,4200.0,-5000.0,23604.0,-40000.0,14881.0,5000.0,11200.0,-8001.0,-1387.0,-10000.0,-39858.0,-3000.0,-21585.0,-852.0,-4998.0,-11332.0,40000.0,-14000.0,-32780.0,-4806.0,-3087.0,3000.0,3260.0,-10047.0,-1000.0,2000.0,-1399.0,-14837.0,47800.0,16000.0,-800.0,3911.0,-5385.0,0.0,5000.0,-8353.0,900.0,-6202.0,-1256.0,-2000.0,-6000.0,320.0,-1600.0,-480.0,9741.0,5582.0,-1000.0,-1342.0,-2957.0,11370.0,900.0,0.0,1200.0,1000.0,-960.0,380.0,120.0,1200.0,-79.0,502.0,-1000.0,0.0,-1680.0,-2803.0,0.0,1351.0,-506.0,515.0,-800.0,-200.0,-200.0,201.0,-800.0,-451.0,-200.0,0.0],\"type\":\"choropleth\"}],                        {\"geo\":{\"projection\":{\"type\":\"hyperelliptical\"},\"showframe\":false},\"title\":{\"text\":\"Migrants\"},\"template\":{\"data\":{\"histogram2dcontour\":[{\"type\":\"histogram2dcontour\",\"colorbar\":{\"outlinewidth\":0,\"ticks\":\"\"},\"colorscale\":[[0.0,\"#0d0887\"],[0.1111111111111111,\"#46039f\"],[0.2222222222222222,\"#7201a8\"],[0.3333333333333333,\"#9c179e\"],[0.4444444444444444,\"#bd3786\"],[0.5555555555555556,\"#d8576b\"],[0.6666666666666666,\"#ed7953\"],[0.7777777777777778,\"#fb9f3a\"],[0.8888888888888888,\"#fdca26\"],[1.0,\"#f0f921\"]]}],\"choropleth\":[{\"type\":\"choropleth\",\"colorbar\":{\"outlinewidth\":0,\"ticks\":\"\"}}],\"histogram2d\":[{\"type\":\"histogram2d\",\"colorbar\":{\"outlinewidth\":0,\"ticks\":\"\"},\"colorscale\":[[0.0,\"#0d0887\"],[0.1111111111111111,\"#46039f\"],[0.2222222222222222,\"#7201a8\"],[0.3333333333333333,\"#9c179e\"],[0.4444444444444444,\"#bd3786\"],[0.5555555555555556,\"#d8576b\"],[0.6666666666666666,\"#ed7953\"],[0.7777777777777778,\"#fb9f3a\"],[0.8888888888888888,\"#fdca26\"],[1.0,\"#f0f921\"]]}],\"heatmap\":[{\"type\":\"heatmap\",\"colorbar\":{\"outlinewidth\":0,\"ticks\":\"\"},\"colorscale\":[[0.0,\"#0d0887\"],[0.1111111111111111,\"#46039f\"],[0.2222222222222222,\"#7201a8\"],[0.3333333333333333,\"#9c179e\"],[0.4444444444444444,\"#bd3786\"],[0.5555555555555556,\"#d8576b\"],[0.6666666666666666,\"#ed7953\"],[0.7777777777777778,\"#fb9f3a\"],[0.8888888888888888,\"#fdca26\"],[1.0,\"#f0f921\"]]}],\"heatmapgl\":[{\"type\":\"heatmapgl\",\"colorbar\":{\"outlinewidth\":0,\"ticks\":\"\"},\"colorscale\":[[0.0,\"#0d0887\"],[0.1111111111111111,\"#46039f\"],[0.2222222222222222,\"#7201a8\"],[0.3333333333333333,\"#9c179e\"],[0.4444444444444444,\"#bd3786\"],[0.5555555555555556,\"#d8576b\"],[0.6666666666666666,\"#ed7953\"],[0.7777777777777778,\"#fb9f3a\"],[0.8888888888888888,\"#fdca26\"],[1.0,\"#f0f921\"]]}],\"contourcarpet\":[{\"type\":\"contourcarpet\",\"colorbar\":{\"outlinewidth\":0,\"ticks\":\"\"}}],\"contour\":[{\"type\":\"contour\",\"colorbar\":{\"outlinewidth\":0,\"ticks\":\"\"},\"colorscale\":[[0.0,\"#0d0887\"],[0.1111111111111111,\"#46039f\"],[0.2222222222222222,\"#7201a8\"],[0.3333333333333333,\"#9c179e\"],[0.4444444444444444,\"#bd3786\"],[0.5555555555555556,\"#d8576b\"],[0.6666666666666666,\"#ed7953\"],[0.7777777777777778,\"#fb9f3a\"],[0.8888888888888888,\"#fdca26\"],[1.0,\"#f0f921\"]]}],\"surface\":[{\"type\":\"surface\",\"colorbar\":{\"outlinewidth\":0,\"ticks\":\"\"},\"colorscale\":[[0.0,\"#0d0887\"],[0.1111111111111111,\"#46039f\"],[0.2222222222222222,\"#7201a8\"],[0.3333333333333333,\"#9c179e\"],[0.4444444444444444,\"#bd3786\"],[0.5555555555555556,\"#d8576b\"],[0.6666666666666666,\"#ed7953\"],[0.7777777777777778,\"#fb9f3a\"],[0.8888888888888888,\"#fdca26\"],[1.0,\"#f0f921\"]]}],\"mesh3d\":[{\"type\":\"mesh3d\",\"colorbar\":{\"outlinewidth\":0,\"ticks\":\"\"}}],\"scatter\":[{\"fillpattern\":{\"fillmode\":\"overlay\",\"size\":10,\"solidity\":0.2},\"type\":\"scatter\"}],\"parcoords\":[{\"type\":\"parcoords\",\"line\":{\"colorbar\":{\"outlinewidth\":0,\"ticks\":\"\"}}}],\"scatterpolargl\":[{\"type\":\"scatterpolargl\",\"marker\":{\"colorbar\":{\"outlinewidth\":0,\"ticks\":\"\"}}}],\"bar\":[{\"error_x\":{\"color\":\"#2a3f5f\"},\"error_y\":{\"color\":\"#2a3f5f\"},\"marker\":{\"line\":{\"color\":\"#E5ECF6\",\"width\":0.5},\"pattern\":{\"fillmode\":\"overlay\",\"size\":10,\"solidity\":0.2}},\"type\":\"bar\"}],\"scattergeo\":[{\"type\":\"scattergeo\",\"marker\":{\"colorbar\":{\"outlinewidth\":0,\"ticks\":\"\"}}}],\"scatterpolar\":[{\"type\":\"scatterpolar\",\"marker\":{\"colorbar\":{\"outlinewidth\":0,\"ticks\":\"\"}}}],\"histogram\":[{\"marker\":{\"pattern\":{\"fillmode\":\"overlay\",\"size\":10,\"solidity\":0.2}},\"type\":\"histogram\"}],\"scattergl\":[{\"type\":\"scattergl\",\"marker\":{\"colorbar\":{\"outlinewidth\":0,\"ticks\":\"\"}}}],\"scatter3d\":[{\"type\":\"scatter3d\",\"line\":{\"colorbar\":{\"outlinewidth\":0,\"ticks\":\"\"}},\"marker\":{\"colorbar\":{\"outlinewidth\":0,\"ticks\":\"\"}}}],\"scattermapbox\":[{\"type\":\"scattermapbox\",\"marker\":{\"colorbar\":{\"outlinewidth\":0,\"ticks\":\"\"}}}],\"scatterternary\":[{\"type\":\"scatterternary\",\"marker\":{\"colorbar\":{\"outlinewidth\":0,\"ticks\":\"\"}}}],\"scattercarpet\":[{\"type\":\"scattercarpet\",\"marker\":{\"colorbar\":{\"outlinewidth\":0,\"ticks\":\"\"}}}],\"carpet\":[{\"aaxis\":{\"endlinecolor\":\"#2a3f5f\",\"gridcolor\":\"white\",\"linecolor\":\"white\",\"minorgridcolor\":\"white\",\"startlinecolor\":\"#2a3f5f\"},\"baxis\":{\"endlinecolor\":\"#2a3f5f\",\"gridcolor\":\"white\",\"linecolor\":\"white\",\"minorgridcolor\":\"white\",\"startlinecolor\":\"#2a3f5f\"},\"type\":\"carpet\"}],\"table\":[{\"cells\":{\"fill\":{\"color\":\"#EBF0F8\"},\"line\":{\"color\":\"white\"}},\"header\":{\"fill\":{\"color\":\"#C8D4E3\"},\"line\":{\"color\":\"white\"}},\"type\":\"table\"}],\"barpolar\":[{\"marker\":{\"line\":{\"color\":\"#E5ECF6\",\"width\":0.5},\"pattern\":{\"fillmode\":\"overlay\",\"size\":10,\"solidity\":0.2}},\"type\":\"barpolar\"}],\"pie\":[{\"automargin\":true,\"type\":\"pie\"}]},\"layout\":{\"autotypenumbers\":\"strict\",\"colorway\":[\"#636efa\",\"#EF553B\",\"#00cc96\",\"#ab63fa\",\"#FFA15A\",\"#19d3f3\",\"#FF6692\",\"#B6E880\",\"#FF97FF\",\"#FECB52\"],\"font\":{\"color\":\"#2a3f5f\"},\"hovermode\":\"closest\",\"hoverlabel\":{\"align\":\"left\"},\"paper_bgcolor\":\"white\",\"plot_bgcolor\":\"#E5ECF6\",\"polar\":{\"bgcolor\":\"#E5ECF6\",\"angularaxis\":{\"gridcolor\":\"white\",\"linecolor\":\"white\",\"ticks\":\"\"},\"radialaxis\":{\"gridcolor\":\"white\",\"linecolor\":\"white\",\"ticks\":\"\"}},\"ternary\":{\"bgcolor\":\"#E5ECF6\",\"aaxis\":{\"gridcolor\":\"white\",\"linecolor\":\"white\",\"ticks\":\"\"},\"baxis\":{\"gridcolor\":\"white\",\"linecolor\":\"white\",\"ticks\":\"\"},\"caxis\":{\"gridcolor\":\"white\",\"linecolor\":\"white\",\"ticks\":\"\"}},\"coloraxis\":{\"colorbar\":{\"outlinewidth\":0,\"ticks\":\"\"}},\"colorscale\":{\"sequential\":[[0.0,\"#0d0887\"],[0.1111111111111111,\"#46039f\"],[0.2222222222222222,\"#7201a8\"],[0.3333333333333333,\"#9c179e\"],[0.4444444444444444,\"#bd3786\"],[0.5555555555555556,\"#d8576b\"],[0.6666666666666666,\"#ed7953\"],[0.7777777777777778,\"#fb9f3a\"],[0.8888888888888888,\"#fdca26\"],[1.0,\"#f0f921\"]],\"sequentialminus\":[[0.0,\"#0d0887\"],[0.1111111111111111,\"#46039f\"],[0.2222222222222222,\"#7201a8\"],[0.3333333333333333,\"#9c179e\"],[0.4444444444444444,\"#bd3786\"],[0.5555555555555556,\"#d8576b\"],[0.6666666666666666,\"#ed7953\"],[0.7777777777777778,\"#fb9f3a\"],[0.8888888888888888,\"#fdca26\"],[1.0,\"#f0f921\"]],\"diverging\":[[0,\"#8e0152\"],[0.1,\"#c51b7d\"],[0.2,\"#de77ae\"],[0.3,\"#f1b6da\"],[0.4,\"#fde0ef\"],[0.5,\"#f7f7f7\"],[0.6,\"#e6f5d0\"],[0.7,\"#b8e186\"],[0.8,\"#7fbc41\"],[0.9,\"#4d9221\"],[1,\"#276419\"]]},\"xaxis\":{\"gridcolor\":\"white\",\"linecolor\":\"white\",\"ticks\":\"\",\"title\":{\"standoff\":15},\"zerolinecolor\":\"white\",\"automargin\":true,\"zerolinewidth\":2},\"yaxis\":{\"gridcolor\":\"white\",\"linecolor\":\"white\",\"ticks\":\"\",\"title\":{\"standoff\":15},\"zerolinecolor\":\"white\",\"automargin\":true,\"zerolinewidth\":2},\"scene\":{\"xaxis\":{\"backgroundcolor\":\"#E5ECF6\",\"gridcolor\":\"white\",\"linecolor\":\"white\",\"showbackground\":true,\"ticks\":\"\",\"zerolinecolor\":\"white\",\"gridwidth\":2},\"yaxis\":{\"backgroundcolor\":\"#E5ECF6\",\"gridcolor\":\"white\",\"linecolor\":\"white\",\"showbackground\":true,\"ticks\":\"\",\"zerolinecolor\":\"white\",\"gridwidth\":2},\"zaxis\":{\"backgroundcolor\":\"#E5ECF6\",\"gridcolor\":\"white\",\"linecolor\":\"white\",\"showbackground\":true,\"ticks\":\"\",\"zerolinecolor\":\"white\",\"gridwidth\":2}},\"shapedefaults\":{\"line\":{\"color\":\"#2a3f5f\"}},\"annotationdefaults\":{\"arrowcolor\":\"#2a3f5f\",\"arrowhead\":0,\"arrowwidth\":1},\"geo\":{\"bgcolor\":\"white\",\"landcolor\":\"#E5ECF6\",\"subunitcolor\":\"white\",\"showland\":true,\"showlakes\":true,\"lakecolor\":\"white\"},\"title\":{\"x\":0.05},\"mapbox\":{\"style\":\"light\"}}}},                        {\"responsive\": true}                    ).then(function(){\n",
       "                            \n",
       "var gd = document.getElementById('dc8a569c-d3d9-4bb9-9557-921bf9f0c86f');\n",
       "var x = new MutationObserver(function (mutations, observer) {{\n",
       "        var display = window.getComputedStyle(gd).display;\n",
       "        if (!display || display === 'none') {{\n",
       "            console.log([gd, 'removed!']);\n",
       "            Plotly.purge(gd);\n",
       "            observer.disconnect();\n",
       "        }}\n",
       "}});\n",
       "\n",
       "// Listen for the removal of the full notebook cells\n",
       "var notebookContainer = gd.closest('#notebook-container');\n",
       "if (notebookContainer) {{\n",
       "    x.observe(notebookContainer, {childList: true});\n",
       "}}\n",
       "\n",
       "// Listen for the clearing of the current output cell\n",
       "var outputEl = gd.closest('.output');\n",
       "if (outputEl) {{\n",
       "    x.observe(outputEl, {childList: true});\n",
       "}}\n",
       "\n",
       "                        })                };                });            </script>        </div>"
      ]
     },
     "metadata": {},
     "output_type": "display_data"
    }
   ],
   "source": [
    "valores = df['Migrants'] # In this line you can select any numerical column \n",
    "\n",
    "data = dict(type = 'choropleth',\n",
    "        locations = df['Country'],\n",
    "        locationmode = \"country names\",\n",
    "        colorscale= \"Bluered_r\",\n",
    "        z = valores,\n",
    "        reversescale= False,\n",
    "        text = df['Country'],\n",
    "        colorbar = {'title' : valores.name}\n",
    "        )\n",
    "layout = dict(title = valores.name,\n",
    "              geo = dict(showframe = False, \n",
    "                projection = {'type':'hyperelliptical'}))\n",
    "\n",
    "choromap = go.Figure(data = [data],layout = layout)\n",
    "iplot(choromap,validate=False)"
   ]
  },
  {
   "cell_type": "code",
   "execution_count": 130,
   "id": "73fd6028",
   "metadata": {},
   "outputs": [
    {
     "data": {
      "application/vnd.plotly.v1+json": {
       "config": {
        "linkText": "Export to plot.ly",
        "plotlyServerURL": "https://plot.ly",
        "showLink": false
       },
       "data": [
        {
         "colorbar": {
          "title": {
           "text": "Population"
          }
         },
         "colorscale": [
          [
           0,
           "#00224e"
          ],
          [
           0.1111111111111111,
           "#123570"
          ],
          [
           0.2222222222222222,
           "#3b496c"
          ],
          [
           0.3333333333333333,
           "#575d6d"
          ],
          [
           0.4444444444444444,
           "#707173"
          ],
          [
           0.5555555555555556,
           "#8a8678"
          ],
          [
           0.6666666666666666,
           "#a59c74"
          ],
          [
           0.7777777777777778,
           "#c3b369"
          ],
          [
           0.8888888888888888,
           "#e1cc55"
          ],
          [
           1,
           "#fee838"
          ]
         ],
         "locationmode": "country names",
         "locations": [
          "China",
          "India",
          "United States",
          "Indonesia",
          "Pakistan",
          "Brazil",
          "Nigeria",
          "Bangladesh",
          "Russia",
          "Mexico",
          "Japan",
          "Ethiopia",
          "Philippines",
          "Egypt",
          "Vietnam",
          "DR Congo",
          "Turkey",
          "Iran",
          "Germany",
          "Thailand",
          "United Kingdom",
          "France",
          "Italy",
          "Tanzania",
          "South Africa",
          "Myanmar",
          "Kenya",
          "South Korea",
          "Colombia",
          "Spain",
          "Uganda",
          "Argentina",
          "Algeria",
          "Sudan",
          "Ukraine",
          "Iraq",
          "Afghanistan",
          "Poland",
          "Canada",
          "Morocco",
          "Saudi Arabia",
          "Uzbekistan",
          "Peru",
          "Angola",
          "Malaysia",
          "Mozambique",
          "Ghana",
          "Yemen",
          "Nepal",
          "Madagascar",
          "Cameroon",
          "Côte d'Ivoire",
          "North Korea",
          "Australia",
          "Niger",
          "Taiwan",
          "Sri Lanka",
          "Burkina Faso",
          "Mali",
          "Romania",
          "Malawi",
          "Chile",
          "Kazakhstan",
          "Zambia",
          "Guatemala",
          "Ecuador",
          "Syria",
          "Netherlands",
          "Senegal",
          "Cambodia",
          "Chad",
          "Somalia",
          "Zimbabwe",
          "Guinea",
          "Rwanda",
          "Benin",
          "Burundi",
          "Tunisia",
          "Bolivia",
          "Belgium",
          "Haiti",
          "Cuba",
          "South Sudan",
          "Dominican Republic",
          "Czech Republic (Czechia)",
          "Greece",
          "Jordan",
          "Portugal",
          "Azerbaijan",
          "Sweden",
          "Honduras",
          "United Arab Emirates",
          "Hungary",
          "Tajikistan",
          "Belarus",
          "Austria",
          "Papua New Guinea",
          "Serbia",
          "Israel",
          "Switzerland",
          "Togo",
          "Sierra Leone",
          "Laos",
          "Paraguay",
          "Bulgaria",
          "Libya",
          "Lebanon",
          "Nicaragua",
          "Kyrgyzstan",
          "El Salvador",
          "Turkmenistan",
          "Denmark",
          "Finland",
          "Congo",
          "Slovakia",
          "Norway",
          "Oman",
          "State of Palestine",
          "Costa Rica",
          "Liberia",
          "Ireland",
          "Central African Republic",
          "New Zealand",
          "Mauritania",
          "Panama",
          "Croatia",
          "Moldova",
          "Georgia",
          "Eritrea",
          "Uruguay",
          "Bosnia and Herzegovina",
          "Mongolia",
          "Armenia",
          "Jamaica",
          "Qatar",
          "Albania",
          "Lithuania",
          "Namibia",
          "Gambia",
          "Botswana",
          "Gabon",
          "Lesotho",
          "North Macedonia",
          "Slovenia",
          "Guinea-Bissau",
          "Latvia",
          "Bahrain",
          "Equatorial Guinea",
          "Trinidad and Tobago",
          "Estonia",
          "Timor-Leste",
          "Mauritius",
          "Cyprus",
          "Eswatini",
          "Djibouti",
          "Fiji",
          "Réunion",
          "Comoros",
          "Guyana",
          "Bhutan",
          "Solomon Islands",
          "Montenegro",
          "Luxembourg",
          "Western Sahara",
          "Suriname",
          "Cabo Verde",
          "Micronesia",
          "Maldives",
          "Malta",
          "Brunei",
          "Belize",
          "Bahamas",
          "Martinique",
          "Iceland",
          "Vanuatu",
          "French Guiana",
          "Barbados",
          "New Caledonia",
          "French Polynesia",
          "Mayotte",
          "Sao Tome & Principe",
          "Samoa",
          "Saint Lucia",
          "Channel Islands",
          "Guam",
          "Curaçao",
          "Kiribati",
          "Grenada",
          "St. Vincent & Grenadines",
          "Aruba",
          "Tonga",
          "U.S. Virgin Islands",
          "Seychelles",
          "Antigua and Barbuda"
         ],
         "reversescale": true,
         "text": [
          "China",
          "India",
          "United States",
          "Indonesia",
          "Pakistan",
          "Brazil",
          "Nigeria",
          "Bangladesh",
          "Russia",
          "Mexico",
          "Japan",
          "Ethiopia",
          "Philippines",
          "Egypt",
          "Vietnam",
          "DR Congo",
          "Turkey",
          "Iran",
          "Germany",
          "Thailand",
          "United Kingdom",
          "France",
          "Italy",
          "Tanzania",
          "South Africa",
          "Myanmar",
          "Kenya",
          "South Korea",
          "Colombia",
          "Spain",
          "Uganda",
          "Argentina",
          "Algeria",
          "Sudan",
          "Ukraine",
          "Iraq",
          "Afghanistan",
          "Poland",
          "Canada",
          "Morocco",
          "Saudi Arabia",
          "Uzbekistan",
          "Peru",
          "Angola",
          "Malaysia",
          "Mozambique",
          "Ghana",
          "Yemen",
          "Nepal",
          "Madagascar",
          "Cameroon",
          "Côte d'Ivoire",
          "North Korea",
          "Australia",
          "Niger",
          "Taiwan",
          "Sri Lanka",
          "Burkina Faso",
          "Mali",
          "Romania",
          "Malawi",
          "Chile",
          "Kazakhstan",
          "Zambia",
          "Guatemala",
          "Ecuador",
          "Syria",
          "Netherlands",
          "Senegal",
          "Cambodia",
          "Chad",
          "Somalia",
          "Zimbabwe",
          "Guinea",
          "Rwanda",
          "Benin",
          "Burundi",
          "Tunisia",
          "Bolivia",
          "Belgium",
          "Haiti",
          "Cuba",
          "South Sudan",
          "Dominican Republic",
          "Czech Republic (Czechia)",
          "Greece",
          "Jordan",
          "Portugal",
          "Azerbaijan",
          "Sweden",
          "Honduras",
          "United Arab Emirates",
          "Hungary",
          "Tajikistan",
          "Belarus",
          "Austria",
          "Papua New Guinea",
          "Serbia",
          "Israel",
          "Switzerland",
          "Togo",
          "Sierra Leone",
          "Laos",
          "Paraguay",
          "Bulgaria",
          "Libya",
          "Lebanon",
          "Nicaragua",
          "Kyrgyzstan",
          "El Salvador",
          "Turkmenistan",
          "Denmark",
          "Finland",
          "Congo",
          "Slovakia",
          "Norway",
          "Oman",
          "State of Palestine",
          "Costa Rica",
          "Liberia",
          "Ireland",
          "Central African Republic",
          "New Zealand",
          "Mauritania",
          "Panama",
          "Croatia",
          "Moldova",
          "Georgia",
          "Eritrea",
          "Uruguay",
          "Bosnia and Herzegovina",
          "Mongolia",
          "Armenia",
          "Jamaica",
          "Qatar",
          "Albania",
          "Lithuania",
          "Namibia",
          "Gambia",
          "Botswana",
          "Gabon",
          "Lesotho",
          "North Macedonia",
          "Slovenia",
          "Guinea-Bissau",
          "Latvia",
          "Bahrain",
          "Equatorial Guinea",
          "Trinidad and Tobago",
          "Estonia",
          "Timor-Leste",
          "Mauritius",
          "Cyprus",
          "Eswatini",
          "Djibouti",
          "Fiji",
          "Réunion",
          "Comoros",
          "Guyana",
          "Bhutan",
          "Solomon Islands",
          "Montenegro",
          "Luxembourg",
          "Western Sahara",
          "Suriname",
          "Cabo Verde",
          "Micronesia",
          "Maldives",
          "Malta",
          "Brunei",
          "Belize",
          "Bahamas",
          "Martinique",
          "Iceland",
          "Vanuatu",
          "French Guiana",
          "Barbados",
          "New Caledonia",
          "French Polynesia",
          "Mayotte",
          "Sao Tome & Principe",
          "Samoa",
          "Saint Lucia",
          "Channel Islands",
          "Guam",
          "Curaçao",
          "Kiribati",
          "Grenada",
          "St. Vincent & Grenadines",
          "Aruba",
          "Tonga",
          "U.S. Virgin Islands",
          "Seychelles",
          "Antigua and Barbuda"
         ],
         "type": "choropleth",
         "z": [
          1439323776,
          1380004385,
          331002651,
          273523615,
          220892340,
          212559417,
          206139589,
          164689383,
          145934462,
          128932753,
          126476461,
          114963588,
          109581078,
          102334404,
          97338579,
          89561403,
          84339067,
          83992949,
          83783942,
          69799978,
          67886011,
          65273511,
          60461826,
          59734218,
          59308690,
          54409800,
          53771296,
          51269185,
          50882891,
          46754778,
          45741007,
          45195774,
          43851044,
          43849260,
          43733762,
          40222493,
          38928346,
          37846611,
          37742154,
          36910560,
          34813871,
          33469203,
          32971854,
          32866272,
          32365999,
          31255435,
          31072940,
          29825964,
          29136808,
          27691018,
          26545863,
          26378274,
          25778816,
          25499884,
          24206644,
          23816775,
          21413249,
          20903273,
          20250833,
          19237691,
          19129952,
          19116201,
          18776707,
          18383955,
          17915568,
          17643054,
          17500658,
          17134872,
          16743927,
          16718965,
          16425864,
          15893222,
          14862924,
          13132795,
          12952218,
          12123200,
          11890784,
          11818619,
          11673021,
          11589623,
          11402528,
          11326616,
          11193725,
          10847910,
          10708981,
          10423054,
          10203134,
          10196709,
          10139177,
          10099265,
          9904607,
          9890402,
          9660351,
          9537645,
          9449323,
          9006398,
          8947024,
          8737371,
          8655535,
          8654622,
          8278724,
          7976983,
          7275560,
          7132538,
          6948445,
          6871292,
          6825445,
          6624554,
          6524195,
          6486205,
          6031200,
          5792202,
          5540720,
          5518087,
          5459642,
          5421241,
          5106626,
          5101414,
          5094118,
          5057681,
          4937786,
          4829767,
          4822233,
          4649658,
          4314767,
          4105267,
          4033963,
          3989167,
          3546421,
          3473730,
          3280819,
          3278290,
          2963243,
          2961167,
          2881053,
          2877797,
          2722289,
          2540905,
          2416668,
          2351627,
          2225734,
          2142249,
          2083374,
          2078938,
          1968001,
          1886198,
          1701575,
          1402985,
          1399488,
          1326535,
          1318445,
          1271768,
          1207359,
          1160164,
          988000,
          896445,
          895312,
          869601,
          786552,
          771608,
          686884,
          628066,
          625978,
          597339,
          586632,
          555987,
          548914,
          540544,
          441543,
          437479,
          397628,
          393244,
          375265,
          341243,
          307145,
          298682,
          287375,
          285498,
          280908,
          272815,
          219159,
          198414,
          183627,
          173863,
          168775,
          164093,
          119449,
          112523,
          110940,
          106766,
          105695,
          104425,
          98347,
          97929
         ]
        }
       ],
       "layout": {
        "geo": {
         "projection": {
          "type": "hyperelliptical"
         },
         "showframe": false
        },
        "template": {
         "data": {
          "bar": [
           {
            "error_x": {
             "color": "#2a3f5f"
            },
            "error_y": {
             "color": "#2a3f5f"
            },
            "marker": {
             "line": {
              "color": "#E5ECF6",
              "width": 0.5
             },
             "pattern": {
              "fillmode": "overlay",
              "size": 10,
              "solidity": 0.2
             }
            },
            "type": "bar"
           }
          ],
          "barpolar": [
           {
            "marker": {
             "line": {
              "color": "#E5ECF6",
              "width": 0.5
             },
             "pattern": {
              "fillmode": "overlay",
              "size": 10,
              "solidity": 0.2
             }
            },
            "type": "barpolar"
           }
          ],
          "carpet": [
           {
            "aaxis": {
             "endlinecolor": "#2a3f5f",
             "gridcolor": "white",
             "linecolor": "white",
             "minorgridcolor": "white",
             "startlinecolor": "#2a3f5f"
            },
            "baxis": {
             "endlinecolor": "#2a3f5f",
             "gridcolor": "white",
             "linecolor": "white",
             "minorgridcolor": "white",
             "startlinecolor": "#2a3f5f"
            },
            "type": "carpet"
           }
          ],
          "choropleth": [
           {
            "colorbar": {
             "outlinewidth": 0,
             "ticks": ""
            },
            "type": "choropleth"
           }
          ],
          "contour": [
           {
            "colorbar": {
             "outlinewidth": 0,
             "ticks": ""
            },
            "colorscale": [
             [
              0,
              "#0d0887"
             ],
             [
              0.1111111111111111,
              "#46039f"
             ],
             [
              0.2222222222222222,
              "#7201a8"
             ],
             [
              0.3333333333333333,
              "#9c179e"
             ],
             [
              0.4444444444444444,
              "#bd3786"
             ],
             [
              0.5555555555555556,
              "#d8576b"
             ],
             [
              0.6666666666666666,
              "#ed7953"
             ],
             [
              0.7777777777777778,
              "#fb9f3a"
             ],
             [
              0.8888888888888888,
              "#fdca26"
             ],
             [
              1,
              "#f0f921"
             ]
            ],
            "type": "contour"
           }
          ],
          "contourcarpet": [
           {
            "colorbar": {
             "outlinewidth": 0,
             "ticks": ""
            },
            "type": "contourcarpet"
           }
          ],
          "heatmap": [
           {
            "colorbar": {
             "outlinewidth": 0,
             "ticks": ""
            },
            "colorscale": [
             [
              0,
              "#0d0887"
             ],
             [
              0.1111111111111111,
              "#46039f"
             ],
             [
              0.2222222222222222,
              "#7201a8"
             ],
             [
              0.3333333333333333,
              "#9c179e"
             ],
             [
              0.4444444444444444,
              "#bd3786"
             ],
             [
              0.5555555555555556,
              "#d8576b"
             ],
             [
              0.6666666666666666,
              "#ed7953"
             ],
             [
              0.7777777777777778,
              "#fb9f3a"
             ],
             [
              0.8888888888888888,
              "#fdca26"
             ],
             [
              1,
              "#f0f921"
             ]
            ],
            "type": "heatmap"
           }
          ],
          "heatmapgl": [
           {
            "colorbar": {
             "outlinewidth": 0,
             "ticks": ""
            },
            "colorscale": [
             [
              0,
              "#0d0887"
             ],
             [
              0.1111111111111111,
              "#46039f"
             ],
             [
              0.2222222222222222,
              "#7201a8"
             ],
             [
              0.3333333333333333,
              "#9c179e"
             ],
             [
              0.4444444444444444,
              "#bd3786"
             ],
             [
              0.5555555555555556,
              "#d8576b"
             ],
             [
              0.6666666666666666,
              "#ed7953"
             ],
             [
              0.7777777777777778,
              "#fb9f3a"
             ],
             [
              0.8888888888888888,
              "#fdca26"
             ],
             [
              1,
              "#f0f921"
             ]
            ],
            "type": "heatmapgl"
           }
          ],
          "histogram": [
           {
            "marker": {
             "pattern": {
              "fillmode": "overlay",
              "size": 10,
              "solidity": 0.2
             }
            },
            "type": "histogram"
           }
          ],
          "histogram2d": [
           {
            "colorbar": {
             "outlinewidth": 0,
             "ticks": ""
            },
            "colorscale": [
             [
              0,
              "#0d0887"
             ],
             [
              0.1111111111111111,
              "#46039f"
             ],
             [
              0.2222222222222222,
              "#7201a8"
             ],
             [
              0.3333333333333333,
              "#9c179e"
             ],
             [
              0.4444444444444444,
              "#bd3786"
             ],
             [
              0.5555555555555556,
              "#d8576b"
             ],
             [
              0.6666666666666666,
              "#ed7953"
             ],
             [
              0.7777777777777778,
              "#fb9f3a"
             ],
             [
              0.8888888888888888,
              "#fdca26"
             ],
             [
              1,
              "#f0f921"
             ]
            ],
            "type": "histogram2d"
           }
          ],
          "histogram2dcontour": [
           {
            "colorbar": {
             "outlinewidth": 0,
             "ticks": ""
            },
            "colorscale": [
             [
              0,
              "#0d0887"
             ],
             [
              0.1111111111111111,
              "#46039f"
             ],
             [
              0.2222222222222222,
              "#7201a8"
             ],
             [
              0.3333333333333333,
              "#9c179e"
             ],
             [
              0.4444444444444444,
              "#bd3786"
             ],
             [
              0.5555555555555556,
              "#d8576b"
             ],
             [
              0.6666666666666666,
              "#ed7953"
             ],
             [
              0.7777777777777778,
              "#fb9f3a"
             ],
             [
              0.8888888888888888,
              "#fdca26"
             ],
             [
              1,
              "#f0f921"
             ]
            ],
            "type": "histogram2dcontour"
           }
          ],
          "mesh3d": [
           {
            "colorbar": {
             "outlinewidth": 0,
             "ticks": ""
            },
            "type": "mesh3d"
           }
          ],
          "parcoords": [
           {
            "line": {
             "colorbar": {
              "outlinewidth": 0,
              "ticks": ""
             }
            },
            "type": "parcoords"
           }
          ],
          "pie": [
           {
            "automargin": true,
            "type": "pie"
           }
          ],
          "scatter": [
           {
            "fillpattern": {
             "fillmode": "overlay",
             "size": 10,
             "solidity": 0.2
            },
            "type": "scatter"
           }
          ],
          "scatter3d": [
           {
            "line": {
             "colorbar": {
              "outlinewidth": 0,
              "ticks": ""
             }
            },
            "marker": {
             "colorbar": {
              "outlinewidth": 0,
              "ticks": ""
             }
            },
            "type": "scatter3d"
           }
          ],
          "scattercarpet": [
           {
            "marker": {
             "colorbar": {
              "outlinewidth": 0,
              "ticks": ""
             }
            },
            "type": "scattercarpet"
           }
          ],
          "scattergeo": [
           {
            "marker": {
             "colorbar": {
              "outlinewidth": 0,
              "ticks": ""
             }
            },
            "type": "scattergeo"
           }
          ],
          "scattergl": [
           {
            "marker": {
             "colorbar": {
              "outlinewidth": 0,
              "ticks": ""
             }
            },
            "type": "scattergl"
           }
          ],
          "scattermapbox": [
           {
            "marker": {
             "colorbar": {
              "outlinewidth": 0,
              "ticks": ""
             }
            },
            "type": "scattermapbox"
           }
          ],
          "scatterpolar": [
           {
            "marker": {
             "colorbar": {
              "outlinewidth": 0,
              "ticks": ""
             }
            },
            "type": "scatterpolar"
           }
          ],
          "scatterpolargl": [
           {
            "marker": {
             "colorbar": {
              "outlinewidth": 0,
              "ticks": ""
             }
            },
            "type": "scatterpolargl"
           }
          ],
          "scatterternary": [
           {
            "marker": {
             "colorbar": {
              "outlinewidth": 0,
              "ticks": ""
             }
            },
            "type": "scatterternary"
           }
          ],
          "surface": [
           {
            "colorbar": {
             "outlinewidth": 0,
             "ticks": ""
            },
            "colorscale": [
             [
              0,
              "#0d0887"
             ],
             [
              0.1111111111111111,
              "#46039f"
             ],
             [
              0.2222222222222222,
              "#7201a8"
             ],
             [
              0.3333333333333333,
              "#9c179e"
             ],
             [
              0.4444444444444444,
              "#bd3786"
             ],
             [
              0.5555555555555556,
              "#d8576b"
             ],
             [
              0.6666666666666666,
              "#ed7953"
             ],
             [
              0.7777777777777778,
              "#fb9f3a"
             ],
             [
              0.8888888888888888,
              "#fdca26"
             ],
             [
              1,
              "#f0f921"
             ]
            ],
            "type": "surface"
           }
          ],
          "table": [
           {
            "cells": {
             "fill": {
              "color": "#EBF0F8"
             },
             "line": {
              "color": "white"
             }
            },
            "header": {
             "fill": {
              "color": "#C8D4E3"
             },
             "line": {
              "color": "white"
             }
            },
            "type": "table"
           }
          ]
         },
         "layout": {
          "annotationdefaults": {
           "arrowcolor": "#2a3f5f",
           "arrowhead": 0,
           "arrowwidth": 1
          },
          "autotypenumbers": "strict",
          "coloraxis": {
           "colorbar": {
            "outlinewidth": 0,
            "ticks": ""
           }
          },
          "colorscale": {
           "diverging": [
            [
             0,
             "#8e0152"
            ],
            [
             0.1,
             "#c51b7d"
            ],
            [
             0.2,
             "#de77ae"
            ],
            [
             0.3,
             "#f1b6da"
            ],
            [
             0.4,
             "#fde0ef"
            ],
            [
             0.5,
             "#f7f7f7"
            ],
            [
             0.6,
             "#e6f5d0"
            ],
            [
             0.7,
             "#b8e186"
            ],
            [
             0.8,
             "#7fbc41"
            ],
            [
             0.9,
             "#4d9221"
            ],
            [
             1,
             "#276419"
            ]
           ],
           "sequential": [
            [
             0,
             "#0d0887"
            ],
            [
             0.1111111111111111,
             "#46039f"
            ],
            [
             0.2222222222222222,
             "#7201a8"
            ],
            [
             0.3333333333333333,
             "#9c179e"
            ],
            [
             0.4444444444444444,
             "#bd3786"
            ],
            [
             0.5555555555555556,
             "#d8576b"
            ],
            [
             0.6666666666666666,
             "#ed7953"
            ],
            [
             0.7777777777777778,
             "#fb9f3a"
            ],
            [
             0.8888888888888888,
             "#fdca26"
            ],
            [
             1,
             "#f0f921"
            ]
           ],
           "sequentialminus": [
            [
             0,
             "#0d0887"
            ],
            [
             0.1111111111111111,
             "#46039f"
            ],
            [
             0.2222222222222222,
             "#7201a8"
            ],
            [
             0.3333333333333333,
             "#9c179e"
            ],
            [
             0.4444444444444444,
             "#bd3786"
            ],
            [
             0.5555555555555556,
             "#d8576b"
            ],
            [
             0.6666666666666666,
             "#ed7953"
            ],
            [
             0.7777777777777778,
             "#fb9f3a"
            ],
            [
             0.8888888888888888,
             "#fdca26"
            ],
            [
             1,
             "#f0f921"
            ]
           ]
          },
          "colorway": [
           "#636efa",
           "#EF553B",
           "#00cc96",
           "#ab63fa",
           "#FFA15A",
           "#19d3f3",
           "#FF6692",
           "#B6E880",
           "#FF97FF",
           "#FECB52"
          ],
          "font": {
           "color": "#2a3f5f"
          },
          "geo": {
           "bgcolor": "white",
           "lakecolor": "white",
           "landcolor": "#E5ECF6",
           "showlakes": true,
           "showland": true,
           "subunitcolor": "white"
          },
          "hoverlabel": {
           "align": "left"
          },
          "hovermode": "closest",
          "mapbox": {
           "style": "light"
          },
          "paper_bgcolor": "white",
          "plot_bgcolor": "#E5ECF6",
          "polar": {
           "angularaxis": {
            "gridcolor": "white",
            "linecolor": "white",
            "ticks": ""
           },
           "bgcolor": "#E5ECF6",
           "radialaxis": {
            "gridcolor": "white",
            "linecolor": "white",
            "ticks": ""
           }
          },
          "scene": {
           "xaxis": {
            "backgroundcolor": "#E5ECF6",
            "gridcolor": "white",
            "gridwidth": 2,
            "linecolor": "white",
            "showbackground": true,
            "ticks": "",
            "zerolinecolor": "white"
           },
           "yaxis": {
            "backgroundcolor": "#E5ECF6",
            "gridcolor": "white",
            "gridwidth": 2,
            "linecolor": "white",
            "showbackground": true,
            "ticks": "",
            "zerolinecolor": "white"
           },
           "zaxis": {
            "backgroundcolor": "#E5ECF6",
            "gridcolor": "white",
            "gridwidth": 2,
            "linecolor": "white",
            "showbackground": true,
            "ticks": "",
            "zerolinecolor": "white"
           }
          },
          "shapedefaults": {
           "line": {
            "color": "#2a3f5f"
           }
          },
          "ternary": {
           "aaxis": {
            "gridcolor": "white",
            "linecolor": "white",
            "ticks": ""
           },
           "baxis": {
            "gridcolor": "white",
            "linecolor": "white",
            "ticks": ""
           },
           "bgcolor": "#E5ECF6",
           "caxis": {
            "gridcolor": "white",
            "linecolor": "white",
            "ticks": ""
           }
          },
          "title": {
           "x": 0.05
          },
          "xaxis": {
           "automargin": true,
           "gridcolor": "white",
           "linecolor": "white",
           "ticks": "",
           "title": {
            "standoff": 15
           },
           "zerolinecolor": "white",
           "zerolinewidth": 2
          },
          "yaxis": {
           "automargin": true,
           "gridcolor": "white",
           "linecolor": "white",
           "ticks": "",
           "title": {
            "standoff": 15
           },
           "zerolinecolor": "white",
           "zerolinewidth": 2
          }
         }
        },
        "title": {
         "text": "Population"
        }
       }
      },
      "text/html": [
       "<div>                            <div id=\"4ba017c3-d085-4d2f-8c93-12b87ea4e65c\" class=\"plotly-graph-div\" style=\"height:525px; width:100%;\"></div>            <script type=\"text/javascript\">                require([\"plotly\"], function(Plotly) {                    window.PLOTLYENV=window.PLOTLYENV || {};                                    if (document.getElementById(\"4ba017c3-d085-4d2f-8c93-12b87ea4e65c\")) {                    Plotly.newPlot(                        \"4ba017c3-d085-4d2f-8c93-12b87ea4e65c\",                        [{\"colorbar\":{\"title\":{\"text\":\"Population\"}},\"colorscale\":[[0.0,\"#00224e\"],[0.1111111111111111,\"#123570\"],[0.2222222222222222,\"#3b496c\"],[0.3333333333333333,\"#575d6d\"],[0.4444444444444444,\"#707173\"],[0.5555555555555556,\"#8a8678\"],[0.6666666666666666,\"#a59c74\"],[0.7777777777777778,\"#c3b369\"],[0.8888888888888888,\"#e1cc55\"],[1.0,\"#fee838\"]],\"locationmode\":\"country names\",\"locations\":[\"China\",\"India\",\"United States\",\"Indonesia\",\"Pakistan\",\"Brazil\",\"Nigeria\",\"Bangladesh\",\"Russia\",\"Mexico\",\"Japan\",\"Ethiopia\",\"Philippines\",\"Egypt\",\"Vietnam\",\"DR Congo\",\"Turkey\",\"Iran\",\"Germany\",\"Thailand\",\"United Kingdom\",\"France\",\"Italy\",\"Tanzania\",\"South Africa\",\"Myanmar\",\"Kenya\",\"South Korea\",\"Colombia\",\"Spain\",\"Uganda\",\"Argentina\",\"Algeria\",\"Sudan\",\"Ukraine\",\"Iraq\",\"Afghanistan\",\"Poland\",\"Canada\",\"Morocco\",\"Saudi Arabia\",\"Uzbekistan\",\"Peru\",\"Angola\",\"Malaysia\",\"Mozambique\",\"Ghana\",\"Yemen\",\"Nepal\",\"Madagascar\",\"Cameroon\",\"C\\u00f4te d'Ivoire\",\"North Korea\",\"Australia\",\"Niger\",\"Taiwan\",\"Sri Lanka\",\"Burkina Faso\",\"Mali\",\"Romania\",\"Malawi\",\"Chile\",\"Kazakhstan\",\"Zambia\",\"Guatemala\",\"Ecuador\",\"Syria\",\"Netherlands\",\"Senegal\",\"Cambodia\",\"Chad\",\"Somalia\",\"Zimbabwe\",\"Guinea\",\"Rwanda\",\"Benin\",\"Burundi\",\"Tunisia\",\"Bolivia\",\"Belgium\",\"Haiti\",\"Cuba\",\"South Sudan\",\"Dominican Republic\",\"Czech Republic (Czechia)\",\"Greece\",\"Jordan\",\"Portugal\",\"Azerbaijan\",\"Sweden\",\"Honduras\",\"United Arab Emirates\",\"Hungary\",\"Tajikistan\",\"Belarus\",\"Austria\",\"Papua New Guinea\",\"Serbia\",\"Israel\",\"Switzerland\",\"Togo\",\"Sierra Leone\",\"Laos\",\"Paraguay\",\"Bulgaria\",\"Libya\",\"Lebanon\",\"Nicaragua\",\"Kyrgyzstan\",\"El Salvador\",\"Turkmenistan\",\"Denmark\",\"Finland\",\"Congo\",\"Slovakia\",\"Norway\",\"Oman\",\"State of Palestine\",\"Costa Rica\",\"Liberia\",\"Ireland\",\"Central African Republic\",\"New Zealand\",\"Mauritania\",\"Panama\",\"Croatia\",\"Moldova\",\"Georgia\",\"Eritrea\",\"Uruguay\",\"Bosnia and Herzegovina\",\"Mongolia\",\"Armenia\",\"Jamaica\",\"Qatar\",\"Albania\",\"Lithuania\",\"Namibia\",\"Gambia\",\"Botswana\",\"Gabon\",\"Lesotho\",\"North Macedonia\",\"Slovenia\",\"Guinea-Bissau\",\"Latvia\",\"Bahrain\",\"Equatorial Guinea\",\"Trinidad and Tobago\",\"Estonia\",\"Timor-Leste\",\"Mauritius\",\"Cyprus\",\"Eswatini\",\"Djibouti\",\"Fiji\",\"R\\u00e9union\",\"Comoros\",\"Guyana\",\"Bhutan\",\"Solomon Islands\",\"Montenegro\",\"Luxembourg\",\"Western Sahara\",\"Suriname\",\"Cabo Verde\",\"Micronesia\",\"Maldives\",\"Malta\",\"Brunei\",\"Belize\",\"Bahamas\",\"Martinique\",\"Iceland\",\"Vanuatu\",\"French Guiana\",\"Barbados\",\"New Caledonia\",\"French Polynesia\",\"Mayotte\",\"Sao Tome & Principe\",\"Samoa\",\"Saint Lucia\",\"Channel Islands\",\"Guam\",\"Cura\\u00e7ao\",\"Kiribati\",\"Grenada\",\"St. Vincent & Grenadines\",\"Aruba\",\"Tonga\",\"U.S. Virgin Islands\",\"Seychelles\",\"Antigua and Barbuda\"],\"reversescale\":true,\"text\":[\"China\",\"India\",\"United States\",\"Indonesia\",\"Pakistan\",\"Brazil\",\"Nigeria\",\"Bangladesh\",\"Russia\",\"Mexico\",\"Japan\",\"Ethiopia\",\"Philippines\",\"Egypt\",\"Vietnam\",\"DR Congo\",\"Turkey\",\"Iran\",\"Germany\",\"Thailand\",\"United Kingdom\",\"France\",\"Italy\",\"Tanzania\",\"South Africa\",\"Myanmar\",\"Kenya\",\"South Korea\",\"Colombia\",\"Spain\",\"Uganda\",\"Argentina\",\"Algeria\",\"Sudan\",\"Ukraine\",\"Iraq\",\"Afghanistan\",\"Poland\",\"Canada\",\"Morocco\",\"Saudi Arabia\",\"Uzbekistan\",\"Peru\",\"Angola\",\"Malaysia\",\"Mozambique\",\"Ghana\",\"Yemen\",\"Nepal\",\"Madagascar\",\"Cameroon\",\"C\\u00f4te d'Ivoire\",\"North Korea\",\"Australia\",\"Niger\",\"Taiwan\",\"Sri Lanka\",\"Burkina Faso\",\"Mali\",\"Romania\",\"Malawi\",\"Chile\",\"Kazakhstan\",\"Zambia\",\"Guatemala\",\"Ecuador\",\"Syria\",\"Netherlands\",\"Senegal\",\"Cambodia\",\"Chad\",\"Somalia\",\"Zimbabwe\",\"Guinea\",\"Rwanda\",\"Benin\",\"Burundi\",\"Tunisia\",\"Bolivia\",\"Belgium\",\"Haiti\",\"Cuba\",\"South Sudan\",\"Dominican Republic\",\"Czech Republic (Czechia)\",\"Greece\",\"Jordan\",\"Portugal\",\"Azerbaijan\",\"Sweden\",\"Honduras\",\"United Arab Emirates\",\"Hungary\",\"Tajikistan\",\"Belarus\",\"Austria\",\"Papua New Guinea\",\"Serbia\",\"Israel\",\"Switzerland\",\"Togo\",\"Sierra Leone\",\"Laos\",\"Paraguay\",\"Bulgaria\",\"Libya\",\"Lebanon\",\"Nicaragua\",\"Kyrgyzstan\",\"El Salvador\",\"Turkmenistan\",\"Denmark\",\"Finland\",\"Congo\",\"Slovakia\",\"Norway\",\"Oman\",\"State of Palestine\",\"Costa Rica\",\"Liberia\",\"Ireland\",\"Central African Republic\",\"New Zealand\",\"Mauritania\",\"Panama\",\"Croatia\",\"Moldova\",\"Georgia\",\"Eritrea\",\"Uruguay\",\"Bosnia and Herzegovina\",\"Mongolia\",\"Armenia\",\"Jamaica\",\"Qatar\",\"Albania\",\"Lithuania\",\"Namibia\",\"Gambia\",\"Botswana\",\"Gabon\",\"Lesotho\",\"North Macedonia\",\"Slovenia\",\"Guinea-Bissau\",\"Latvia\",\"Bahrain\",\"Equatorial Guinea\",\"Trinidad and Tobago\",\"Estonia\",\"Timor-Leste\",\"Mauritius\",\"Cyprus\",\"Eswatini\",\"Djibouti\",\"Fiji\",\"R\\u00e9union\",\"Comoros\",\"Guyana\",\"Bhutan\",\"Solomon Islands\",\"Montenegro\",\"Luxembourg\",\"Western Sahara\",\"Suriname\",\"Cabo Verde\",\"Micronesia\",\"Maldives\",\"Malta\",\"Brunei\",\"Belize\",\"Bahamas\",\"Martinique\",\"Iceland\",\"Vanuatu\",\"French Guiana\",\"Barbados\",\"New Caledonia\",\"French Polynesia\",\"Mayotte\",\"Sao Tome & Principe\",\"Samoa\",\"Saint Lucia\",\"Channel Islands\",\"Guam\",\"Cura\\u00e7ao\",\"Kiribati\",\"Grenada\",\"St. Vincent & Grenadines\",\"Aruba\",\"Tonga\",\"U.S. Virgin Islands\",\"Seychelles\",\"Antigua and Barbuda\"],\"z\":[1439323776,1380004385,331002651,273523615,220892340,212559417,206139589,164689383,145934462,128932753,126476461,114963588,109581078,102334404,97338579,89561403,84339067,83992949,83783942,69799978,67886011,65273511,60461826,59734218,59308690,54409800,53771296,51269185,50882891,46754778,45741007,45195774,43851044,43849260,43733762,40222493,38928346,37846611,37742154,36910560,34813871,33469203,32971854,32866272,32365999,31255435,31072940,29825964,29136808,27691018,26545863,26378274,25778816,25499884,24206644,23816775,21413249,20903273,20250833,19237691,19129952,19116201,18776707,18383955,17915568,17643054,17500658,17134872,16743927,16718965,16425864,15893222,14862924,13132795,12952218,12123200,11890784,11818619,11673021,11589623,11402528,11326616,11193725,10847910,10708981,10423054,10203134,10196709,10139177,10099265,9904607,9890402,9660351,9537645,9449323,9006398,8947024,8737371,8655535,8654622,8278724,7976983,7275560,7132538,6948445,6871292,6825445,6624554,6524195,6486205,6031200,5792202,5540720,5518087,5459642,5421241,5106626,5101414,5094118,5057681,4937786,4829767,4822233,4649658,4314767,4105267,4033963,3989167,3546421,3473730,3280819,3278290,2963243,2961167,2881053,2877797,2722289,2540905,2416668,2351627,2225734,2142249,2083374,2078938,1968001,1886198,1701575,1402985,1399488,1326535,1318445,1271768,1207359,1160164,988000,896445,895312,869601,786552,771608,686884,628066,625978,597339,586632,555987,548914,540544,441543,437479,397628,393244,375265,341243,307145,298682,287375,285498,280908,272815,219159,198414,183627,173863,168775,164093,119449,112523,110940,106766,105695,104425,98347,97929],\"type\":\"choropleth\"}],                        {\"geo\":{\"projection\":{\"type\":\"hyperelliptical\"},\"showframe\":false},\"title\":{\"text\":\"Population\"},\"template\":{\"data\":{\"histogram2dcontour\":[{\"type\":\"histogram2dcontour\",\"colorbar\":{\"outlinewidth\":0,\"ticks\":\"\"},\"colorscale\":[[0.0,\"#0d0887\"],[0.1111111111111111,\"#46039f\"],[0.2222222222222222,\"#7201a8\"],[0.3333333333333333,\"#9c179e\"],[0.4444444444444444,\"#bd3786\"],[0.5555555555555556,\"#d8576b\"],[0.6666666666666666,\"#ed7953\"],[0.7777777777777778,\"#fb9f3a\"],[0.8888888888888888,\"#fdca26\"],[1.0,\"#f0f921\"]]}],\"choropleth\":[{\"type\":\"choropleth\",\"colorbar\":{\"outlinewidth\":0,\"ticks\":\"\"}}],\"histogram2d\":[{\"type\":\"histogram2d\",\"colorbar\":{\"outlinewidth\":0,\"ticks\":\"\"},\"colorscale\":[[0.0,\"#0d0887\"],[0.1111111111111111,\"#46039f\"],[0.2222222222222222,\"#7201a8\"],[0.3333333333333333,\"#9c179e\"],[0.4444444444444444,\"#bd3786\"],[0.5555555555555556,\"#d8576b\"],[0.6666666666666666,\"#ed7953\"],[0.7777777777777778,\"#fb9f3a\"],[0.8888888888888888,\"#fdca26\"],[1.0,\"#f0f921\"]]}],\"heatmap\":[{\"type\":\"heatmap\",\"colorbar\":{\"outlinewidth\":0,\"ticks\":\"\"},\"colorscale\":[[0.0,\"#0d0887\"],[0.1111111111111111,\"#46039f\"],[0.2222222222222222,\"#7201a8\"],[0.3333333333333333,\"#9c179e\"],[0.4444444444444444,\"#bd3786\"],[0.5555555555555556,\"#d8576b\"],[0.6666666666666666,\"#ed7953\"],[0.7777777777777778,\"#fb9f3a\"],[0.8888888888888888,\"#fdca26\"],[1.0,\"#f0f921\"]]}],\"heatmapgl\":[{\"type\":\"heatmapgl\",\"colorbar\":{\"outlinewidth\":0,\"ticks\":\"\"},\"colorscale\":[[0.0,\"#0d0887\"],[0.1111111111111111,\"#46039f\"],[0.2222222222222222,\"#7201a8\"],[0.3333333333333333,\"#9c179e\"],[0.4444444444444444,\"#bd3786\"],[0.5555555555555556,\"#d8576b\"],[0.6666666666666666,\"#ed7953\"],[0.7777777777777778,\"#fb9f3a\"],[0.8888888888888888,\"#fdca26\"],[1.0,\"#f0f921\"]]}],\"contourcarpet\":[{\"type\":\"contourcarpet\",\"colorbar\":{\"outlinewidth\":0,\"ticks\":\"\"}}],\"contour\":[{\"type\":\"contour\",\"colorbar\":{\"outlinewidth\":0,\"ticks\":\"\"},\"colorscale\":[[0.0,\"#0d0887\"],[0.1111111111111111,\"#46039f\"],[0.2222222222222222,\"#7201a8\"],[0.3333333333333333,\"#9c179e\"],[0.4444444444444444,\"#bd3786\"],[0.5555555555555556,\"#d8576b\"],[0.6666666666666666,\"#ed7953\"],[0.7777777777777778,\"#fb9f3a\"],[0.8888888888888888,\"#fdca26\"],[1.0,\"#f0f921\"]]}],\"surface\":[{\"type\":\"surface\",\"colorbar\":{\"outlinewidth\":0,\"ticks\":\"\"},\"colorscale\":[[0.0,\"#0d0887\"],[0.1111111111111111,\"#46039f\"],[0.2222222222222222,\"#7201a8\"],[0.3333333333333333,\"#9c179e\"],[0.4444444444444444,\"#bd3786\"],[0.5555555555555556,\"#d8576b\"],[0.6666666666666666,\"#ed7953\"],[0.7777777777777778,\"#fb9f3a\"],[0.8888888888888888,\"#fdca26\"],[1.0,\"#f0f921\"]]}],\"mesh3d\":[{\"type\":\"mesh3d\",\"colorbar\":{\"outlinewidth\":0,\"ticks\":\"\"}}],\"scatter\":[{\"fillpattern\":{\"fillmode\":\"overlay\",\"size\":10,\"solidity\":0.2},\"type\":\"scatter\"}],\"parcoords\":[{\"type\":\"parcoords\",\"line\":{\"colorbar\":{\"outlinewidth\":0,\"ticks\":\"\"}}}],\"scatterpolargl\":[{\"type\":\"scatterpolargl\",\"marker\":{\"colorbar\":{\"outlinewidth\":0,\"ticks\":\"\"}}}],\"bar\":[{\"error_x\":{\"color\":\"#2a3f5f\"},\"error_y\":{\"color\":\"#2a3f5f\"},\"marker\":{\"line\":{\"color\":\"#E5ECF6\",\"width\":0.5},\"pattern\":{\"fillmode\":\"overlay\",\"size\":10,\"solidity\":0.2}},\"type\":\"bar\"}],\"scattergeo\":[{\"type\":\"scattergeo\",\"marker\":{\"colorbar\":{\"outlinewidth\":0,\"ticks\":\"\"}}}],\"scatterpolar\":[{\"type\":\"scatterpolar\",\"marker\":{\"colorbar\":{\"outlinewidth\":0,\"ticks\":\"\"}}}],\"histogram\":[{\"marker\":{\"pattern\":{\"fillmode\":\"overlay\",\"size\":10,\"solidity\":0.2}},\"type\":\"histogram\"}],\"scattergl\":[{\"type\":\"scattergl\",\"marker\":{\"colorbar\":{\"outlinewidth\":0,\"ticks\":\"\"}}}],\"scatter3d\":[{\"type\":\"scatter3d\",\"line\":{\"colorbar\":{\"outlinewidth\":0,\"ticks\":\"\"}},\"marker\":{\"colorbar\":{\"outlinewidth\":0,\"ticks\":\"\"}}}],\"scattermapbox\":[{\"type\":\"scattermapbox\",\"marker\":{\"colorbar\":{\"outlinewidth\":0,\"ticks\":\"\"}}}],\"scatterternary\":[{\"type\":\"scatterternary\",\"marker\":{\"colorbar\":{\"outlinewidth\":0,\"ticks\":\"\"}}}],\"scattercarpet\":[{\"type\":\"scattercarpet\",\"marker\":{\"colorbar\":{\"outlinewidth\":0,\"ticks\":\"\"}}}],\"carpet\":[{\"aaxis\":{\"endlinecolor\":\"#2a3f5f\",\"gridcolor\":\"white\",\"linecolor\":\"white\",\"minorgridcolor\":\"white\",\"startlinecolor\":\"#2a3f5f\"},\"baxis\":{\"endlinecolor\":\"#2a3f5f\",\"gridcolor\":\"white\",\"linecolor\":\"white\",\"minorgridcolor\":\"white\",\"startlinecolor\":\"#2a3f5f\"},\"type\":\"carpet\"}],\"table\":[{\"cells\":{\"fill\":{\"color\":\"#EBF0F8\"},\"line\":{\"color\":\"white\"}},\"header\":{\"fill\":{\"color\":\"#C8D4E3\"},\"line\":{\"color\":\"white\"}},\"type\":\"table\"}],\"barpolar\":[{\"marker\":{\"line\":{\"color\":\"#E5ECF6\",\"width\":0.5},\"pattern\":{\"fillmode\":\"overlay\",\"size\":10,\"solidity\":0.2}},\"type\":\"barpolar\"}],\"pie\":[{\"automargin\":true,\"type\":\"pie\"}]},\"layout\":{\"autotypenumbers\":\"strict\",\"colorway\":[\"#636efa\",\"#EF553B\",\"#00cc96\",\"#ab63fa\",\"#FFA15A\",\"#19d3f3\",\"#FF6692\",\"#B6E880\",\"#FF97FF\",\"#FECB52\"],\"font\":{\"color\":\"#2a3f5f\"},\"hovermode\":\"closest\",\"hoverlabel\":{\"align\":\"left\"},\"paper_bgcolor\":\"white\",\"plot_bgcolor\":\"#E5ECF6\",\"polar\":{\"bgcolor\":\"#E5ECF6\",\"angularaxis\":{\"gridcolor\":\"white\",\"linecolor\":\"white\",\"ticks\":\"\"},\"radialaxis\":{\"gridcolor\":\"white\",\"linecolor\":\"white\",\"ticks\":\"\"}},\"ternary\":{\"bgcolor\":\"#E5ECF6\",\"aaxis\":{\"gridcolor\":\"white\",\"linecolor\":\"white\",\"ticks\":\"\"},\"baxis\":{\"gridcolor\":\"white\",\"linecolor\":\"white\",\"ticks\":\"\"},\"caxis\":{\"gridcolor\":\"white\",\"linecolor\":\"white\",\"ticks\":\"\"}},\"coloraxis\":{\"colorbar\":{\"outlinewidth\":0,\"ticks\":\"\"}},\"colorscale\":{\"sequential\":[[0.0,\"#0d0887\"],[0.1111111111111111,\"#46039f\"],[0.2222222222222222,\"#7201a8\"],[0.3333333333333333,\"#9c179e\"],[0.4444444444444444,\"#bd3786\"],[0.5555555555555556,\"#d8576b\"],[0.6666666666666666,\"#ed7953\"],[0.7777777777777778,\"#fb9f3a\"],[0.8888888888888888,\"#fdca26\"],[1.0,\"#f0f921\"]],\"sequentialminus\":[[0.0,\"#0d0887\"],[0.1111111111111111,\"#46039f\"],[0.2222222222222222,\"#7201a8\"],[0.3333333333333333,\"#9c179e\"],[0.4444444444444444,\"#bd3786\"],[0.5555555555555556,\"#d8576b\"],[0.6666666666666666,\"#ed7953\"],[0.7777777777777778,\"#fb9f3a\"],[0.8888888888888888,\"#fdca26\"],[1.0,\"#f0f921\"]],\"diverging\":[[0,\"#8e0152\"],[0.1,\"#c51b7d\"],[0.2,\"#de77ae\"],[0.3,\"#f1b6da\"],[0.4,\"#fde0ef\"],[0.5,\"#f7f7f7\"],[0.6,\"#e6f5d0\"],[0.7,\"#b8e186\"],[0.8,\"#7fbc41\"],[0.9,\"#4d9221\"],[1,\"#276419\"]]},\"xaxis\":{\"gridcolor\":\"white\",\"linecolor\":\"white\",\"ticks\":\"\",\"title\":{\"standoff\":15},\"zerolinecolor\":\"white\",\"automargin\":true,\"zerolinewidth\":2},\"yaxis\":{\"gridcolor\":\"white\",\"linecolor\":\"white\",\"ticks\":\"\",\"title\":{\"standoff\":15},\"zerolinecolor\":\"white\",\"automargin\":true,\"zerolinewidth\":2},\"scene\":{\"xaxis\":{\"backgroundcolor\":\"#E5ECF6\",\"gridcolor\":\"white\",\"linecolor\":\"white\",\"showbackground\":true,\"ticks\":\"\",\"zerolinecolor\":\"white\",\"gridwidth\":2},\"yaxis\":{\"backgroundcolor\":\"#E5ECF6\",\"gridcolor\":\"white\",\"linecolor\":\"white\",\"showbackground\":true,\"ticks\":\"\",\"zerolinecolor\":\"white\",\"gridwidth\":2},\"zaxis\":{\"backgroundcolor\":\"#E5ECF6\",\"gridcolor\":\"white\",\"linecolor\":\"white\",\"showbackground\":true,\"ticks\":\"\",\"zerolinecolor\":\"white\",\"gridwidth\":2}},\"shapedefaults\":{\"line\":{\"color\":\"#2a3f5f\"}},\"annotationdefaults\":{\"arrowcolor\":\"#2a3f5f\",\"arrowhead\":0,\"arrowwidth\":1},\"geo\":{\"bgcolor\":\"white\",\"landcolor\":\"#E5ECF6\",\"subunitcolor\":\"white\",\"showland\":true,\"showlakes\":true,\"lakecolor\":\"white\"},\"title\":{\"x\":0.05},\"mapbox\":{\"style\":\"light\"}}}},                        {\"responsive\": true}                    ).then(function(){\n",
       "                            \n",
       "var gd = document.getElementById('4ba017c3-d085-4d2f-8c93-12b87ea4e65c');\n",
       "var x = new MutationObserver(function (mutations, observer) {{\n",
       "        var display = window.getComputedStyle(gd).display;\n",
       "        if (!display || display === 'none') {{\n",
       "            console.log([gd, 'removed!']);\n",
       "            Plotly.purge(gd);\n",
       "            observer.disconnect();\n",
       "        }}\n",
       "}});\n",
       "\n",
       "// Listen for the removal of the full notebook cells\n",
       "var notebookContainer = gd.closest('#notebook-container');\n",
       "if (notebookContainer) {{\n",
       "    x.observe(notebookContainer, {childList: true});\n",
       "}}\n",
       "\n",
       "// Listen for the clearing of the current output cell\n",
       "var outputEl = gd.closest('.output');\n",
       "if (outputEl) {{\n",
       "    x.observe(outputEl, {childList: true});\n",
       "}}\n",
       "\n",
       "                        })                };                });            </script>        </div>"
      ]
     },
     "metadata": {},
     "output_type": "display_data"
    }
   ],
   "source": [
    "valores = df[\"Population\"] # In this line you can select any numerical column \n",
    "\n",
    "data = dict(type = 'choropleth',\n",
    "        locations = df['Country'],\n",
    "        locationmode = \"country names\",\n",
    "        colorscale= \"Cividis\",            \n",
    "        z = valores,\n",
    "        reversescale= True,\n",
    "        text = df['Country'],\n",
    "        colorbar = {'title' : valores.name}\n",
    "        )\n",
    "layout = dict(title = valores.name,\n",
    "              geo = dict(showframe = False, \n",
    "                projection = {'type':'hyperelliptical'}))\n",
    "\n",
    "choromap = go.Figure(data = [data],layout = layout)\n",
    "iplot(choromap,validate=False)"
   ]
  },
  {
   "cell_type": "code",
   "execution_count": 131,
   "id": "fe021f59",
   "metadata": {},
   "outputs": [
    {
     "name": "stderr",
     "output_type": "stream",
     "text": [
      "C:\\Users\\Lenovo\\.conda\\lib\\site-packages\\pandas\\util\\_decorators.py:311: SettingWithCopyWarning:\n",
      "\n",
      "\n",
      "A value is trying to be set on a copy of a slice from a DataFrame\n",
      "\n",
      "See the caveats in the documentation: https://pandas.pydata.org/pandas-docs/stable/user_guide/indexing.html#returning-a-view-versus-a-copy\n",
      "\n"
     ]
    }
   ],
   "source": [
    "df_G_20_Urban =df[(df[\"Country\"] == \"Canada\") | (df[\"Country\"] == \"United Kingdom\") | \n",
    "                 (df[\"Country\"] == \"France\") | (df[\"Country\"] == \"Germany\")\n",
    "                | (df[\"Country\"] == \"Italy\") | (df[\"Country\"] == \"Japon\")\n",
    "                | (df[\"Country\"] == \"United States\") | (df[\"Country\"] == \"Russia\")\n",
    "                 | (df[\"Country\"] == \"Brasil\") | (df[\"Country\"] == \"Turkey\")\n",
    "                 | (df[\"Country\"] == \"China\") | (df[\"Country\"] == \"South Korea\") \n",
    "                | (df[\"Country\"] == \"Argentina\") | (df[\"Country\"] == \"India\") |\n",
    "                  (df[\"Country\"] == \"Australia\") | (df[\"Country\"] == \"South Africa\") | \n",
    "                  (df[\"Country\"] == \"Mexico\") | (df[\"Country\"] == \"Indonesia\")| \n",
    "                  (df[\"Country\"] == \"Saudi Arabia\")]\n",
    "df_G_20_Urban.sort_values(by=[\"Urban_Pop\"],ascending=True,inplace = True)"
   ]
  },
  {
   "cell_type": "code",
   "execution_count": 132,
   "id": "2e518910",
   "metadata": {},
   "outputs": [],
   "source": [
    "import plotly.express as px\n"
   ]
  },
  {
   "cell_type": "code",
   "execution_count": 133,
   "id": "1c078c50",
   "metadata": {},
   "outputs": [
    {
     "data": {
      "application/vnd.plotly.v1+json": {
       "config": {
        "plotlyServerURL": "https://plot.ly"
       },
       "data": [
        {
         "alignmentgroup": "True",
         "hovertemplate": "Country=%{x}<br>Urban_Pop=%{text}<extra></extra>",
         "legendgroup": "India",
         "marker": {
          "color": "#636efa",
          "pattern": {
           "shape": ""
          }
         },
         "name": "India",
         "offsetgroup": "India",
         "orientation": "v",
         "showlegend": true,
         "text": [
          35
         ],
         "textposition": "outside",
         "type": "bar",
         "x": [
          "India"
         ],
         "xaxis": "x",
         "y": [
          35
         ],
         "yaxis": "y"
        },
        {
         "alignmentgroup": "True",
         "hovertemplate": "Country=%{x}<br>Urban_Pop=%{text}<extra></extra>",
         "legendgroup": "Indonesia",
         "marker": {
          "color": "#EF553B",
          "pattern": {
           "shape": ""
          }
         },
         "name": "Indonesia",
         "offsetgroup": "Indonesia",
         "orientation": "v",
         "showlegend": true,
         "text": [
          56
         ],
         "textposition": "outside",
         "type": "bar",
         "x": [
          "Indonesia"
         ],
         "xaxis": "x",
         "y": [
          56
         ],
         "yaxis": "y"
        },
        {
         "alignmentgroup": "True",
         "hovertemplate": "Country=%{x}<br>Urban_Pop=%{text}<extra></extra>",
         "legendgroup": "China",
         "marker": {
          "color": "#00cc96",
          "pattern": {
           "shape": ""
          }
         },
         "name": "China",
         "offsetgroup": "China",
         "orientation": "v",
         "showlegend": true,
         "text": [
          61
         ],
         "textposition": "outside",
         "type": "bar",
         "x": [
          "China"
         ],
         "xaxis": "x",
         "y": [
          61
         ],
         "yaxis": "y"
        },
        {
         "alignmentgroup": "True",
         "hovertemplate": "Country=%{x}<br>Urban_Pop=%{text}<extra></extra>",
         "legendgroup": "South Africa",
         "marker": {
          "color": "#ab63fa",
          "pattern": {
           "shape": ""
          }
         },
         "name": "South Africa",
         "offsetgroup": "South Africa",
         "orientation": "v",
         "showlegend": true,
         "text": [
          67
         ],
         "textposition": "outside",
         "type": "bar",
         "x": [
          "South Africa"
         ],
         "xaxis": "x",
         "y": [
          67
         ],
         "yaxis": "y"
        },
        {
         "alignmentgroup": "True",
         "hovertemplate": "Country=%{x}<br>Urban_Pop=%{text}<extra></extra>",
         "legendgroup": "Italy",
         "marker": {
          "color": "#FFA15A",
          "pattern": {
           "shape": ""
          }
         },
         "name": "Italy",
         "offsetgroup": "Italy",
         "orientation": "v",
         "showlegend": true,
         "text": [
          69
         ],
         "textposition": "outside",
         "type": "bar",
         "x": [
          "Italy"
         ],
         "xaxis": "x",
         "y": [
          69
         ],
         "yaxis": "y"
        },
        {
         "alignmentgroup": "True",
         "hovertemplate": "Country=%{x}<br>Urban_Pop=%{text}<extra></extra>",
         "legendgroup": "Russia",
         "marker": {
          "color": "#19d3f3",
          "pattern": {
           "shape": ""
          }
         },
         "name": "Russia",
         "offsetgroup": "Russia",
         "orientation": "v",
         "showlegend": true,
         "text": [
          74
         ],
         "textposition": "outside",
         "type": "bar",
         "x": [
          "Russia"
         ],
         "xaxis": "x",
         "y": [
          74
         ],
         "yaxis": "y"
        },
        {
         "alignmentgroup": "True",
         "hovertemplate": "Country=%{x}<br>Urban_Pop=%{text}<extra></extra>",
         "legendgroup": "Turkey",
         "marker": {
          "color": "#FF6692",
          "pattern": {
           "shape": ""
          }
         },
         "name": "Turkey",
         "offsetgroup": "Turkey",
         "orientation": "v",
         "showlegend": true,
         "text": [
          76
         ],
         "textposition": "outside",
         "type": "bar",
         "x": [
          "Turkey"
         ],
         "xaxis": "x",
         "y": [
          76
         ],
         "yaxis": "y"
        },
        {
         "alignmentgroup": "True",
         "hovertemplate": "Country=%{x}<br>Urban_Pop=%{text}<extra></extra>",
         "legendgroup": "Germany",
         "marker": {
          "color": "#B6E880",
          "pattern": {
           "shape": ""
          }
         },
         "name": "Germany",
         "offsetgroup": "Germany",
         "orientation": "v",
         "showlegend": true,
         "text": [
          76
         ],
         "textposition": "outside",
         "type": "bar",
         "x": [
          "Germany"
         ],
         "xaxis": "x",
         "y": [
          76
         ],
         "yaxis": "y"
        },
        {
         "alignmentgroup": "True",
         "hovertemplate": "Country=%{x}<br>Urban_Pop=%{text}<extra></extra>",
         "legendgroup": "Canada",
         "marker": {
          "color": "#FF97FF",
          "pattern": {
           "shape": ""
          }
         },
         "name": "Canada",
         "offsetgroup": "Canada",
         "orientation": "v",
         "showlegend": true,
         "text": [
          81
         ],
         "textposition": "outside",
         "type": "bar",
         "x": [
          "Canada"
         ],
         "xaxis": "x",
         "y": [
          81
         ],
         "yaxis": "y"
        },
        {
         "alignmentgroup": "True",
         "hovertemplate": "Country=%{x}<br>Urban_Pop=%{text}<extra></extra>",
         "legendgroup": "South Korea",
         "marker": {
          "color": "#FECB52",
          "pattern": {
           "shape": ""
          }
         },
         "name": "South Korea",
         "offsetgroup": "South Korea",
         "orientation": "v",
         "showlegend": true,
         "text": [
          82
         ],
         "textposition": "outside",
         "type": "bar",
         "x": [
          "South Korea"
         ],
         "xaxis": "x",
         "y": [
          82
         ],
         "yaxis": "y"
        },
        {
         "alignmentgroup": "True",
         "hovertemplate": "Country=%{x}<br>Urban_Pop=%{text}<extra></extra>",
         "legendgroup": "France",
         "marker": {
          "color": "#636efa",
          "pattern": {
           "shape": ""
          }
         },
         "name": "France",
         "offsetgroup": "France",
         "orientation": "v",
         "showlegend": true,
         "text": [
          82
         ],
         "textposition": "outside",
         "type": "bar",
         "x": [
          "France"
         ],
         "xaxis": "x",
         "y": [
          82
         ],
         "yaxis": "y"
        },
        {
         "alignmentgroup": "True",
         "hovertemplate": "Country=%{x}<br>Urban_Pop=%{text}<extra></extra>",
         "legendgroup": "United Kingdom",
         "marker": {
          "color": "#EF553B",
          "pattern": {
           "shape": ""
          }
         },
         "name": "United Kingdom",
         "offsetgroup": "United Kingdom",
         "orientation": "v",
         "showlegend": true,
         "text": [
          83
         ],
         "textposition": "outside",
         "type": "bar",
         "x": [
          "United Kingdom"
         ],
         "xaxis": "x",
         "y": [
          83
         ],
         "yaxis": "y"
        },
        {
         "alignmentgroup": "True",
         "hovertemplate": "Country=%{x}<br>Urban_Pop=%{text}<extra></extra>",
         "legendgroup": "United States",
         "marker": {
          "color": "#00cc96",
          "pattern": {
           "shape": ""
          }
         },
         "name": "United States",
         "offsetgroup": "United States",
         "orientation": "v",
         "showlegend": true,
         "text": [
          83
         ],
         "textposition": "outside",
         "type": "bar",
         "x": [
          "United States"
         ],
         "xaxis": "x",
         "y": [
          83
         ],
         "yaxis": "y"
        },
        {
         "alignmentgroup": "True",
         "hovertemplate": "Country=%{x}<br>Urban_Pop=%{text}<extra></extra>",
         "legendgroup": "Mexico",
         "marker": {
          "color": "#ab63fa",
          "pattern": {
           "shape": ""
          }
         },
         "name": "Mexico",
         "offsetgroup": "Mexico",
         "orientation": "v",
         "showlegend": true,
         "text": [
          84
         ],
         "textposition": "outside",
         "type": "bar",
         "x": [
          "Mexico"
         ],
         "xaxis": "x",
         "y": [
          84
         ],
         "yaxis": "y"
        },
        {
         "alignmentgroup": "True",
         "hovertemplate": "Country=%{x}<br>Urban_Pop=%{text}<extra></extra>",
         "legendgroup": "Saudi Arabia",
         "marker": {
          "color": "#FFA15A",
          "pattern": {
           "shape": ""
          }
         },
         "name": "Saudi Arabia",
         "offsetgroup": "Saudi Arabia",
         "orientation": "v",
         "showlegend": true,
         "text": [
          84
         ],
         "textposition": "outside",
         "type": "bar",
         "x": [
          "Saudi Arabia"
         ],
         "xaxis": "x",
         "y": [
          84
         ],
         "yaxis": "y"
        },
        {
         "alignmentgroup": "True",
         "hovertemplate": "Country=%{x}<br>Urban_Pop=%{text}<extra></extra>",
         "legendgroup": "Australia",
         "marker": {
          "color": "#19d3f3",
          "pattern": {
           "shape": ""
          }
         },
         "name": "Australia",
         "offsetgroup": "Australia",
         "orientation": "v",
         "showlegend": true,
         "text": [
          86
         ],
         "textposition": "outside",
         "type": "bar",
         "x": [
          "Australia"
         ],
         "xaxis": "x",
         "y": [
          86
         ],
         "yaxis": "y"
        },
        {
         "alignmentgroup": "True",
         "hovertemplate": "Country=%{x}<br>Urban_Pop=%{text}<extra></extra>",
         "legendgroup": "Argentina",
         "marker": {
          "color": "#FF6692",
          "pattern": {
           "shape": ""
          }
         },
         "name": "Argentina",
         "offsetgroup": "Argentina",
         "orientation": "v",
         "showlegend": true,
         "text": [
          93
         ],
         "textposition": "outside",
         "type": "bar",
         "x": [
          "Argentina"
         ],
         "xaxis": "x",
         "y": [
          93
         ],
         "yaxis": "y"
        }
       ],
       "layout": {
        "barmode": "relative",
        "legend": {
         "title": {
          "text": "Country"
         },
         "tracegroupgap": 0
        },
        "template": {
         "data": {
          "bar": [
           {
            "error_x": {
             "color": "#2a3f5f"
            },
            "error_y": {
             "color": "#2a3f5f"
            },
            "marker": {
             "line": {
              "color": "#E5ECF6",
              "width": 0.5
             },
             "pattern": {
              "fillmode": "overlay",
              "size": 10,
              "solidity": 0.2
             }
            },
            "type": "bar"
           }
          ],
          "barpolar": [
           {
            "marker": {
             "line": {
              "color": "#E5ECF6",
              "width": 0.5
             },
             "pattern": {
              "fillmode": "overlay",
              "size": 10,
              "solidity": 0.2
             }
            },
            "type": "barpolar"
           }
          ],
          "carpet": [
           {
            "aaxis": {
             "endlinecolor": "#2a3f5f",
             "gridcolor": "white",
             "linecolor": "white",
             "minorgridcolor": "white",
             "startlinecolor": "#2a3f5f"
            },
            "baxis": {
             "endlinecolor": "#2a3f5f",
             "gridcolor": "white",
             "linecolor": "white",
             "minorgridcolor": "white",
             "startlinecolor": "#2a3f5f"
            },
            "type": "carpet"
           }
          ],
          "choropleth": [
           {
            "colorbar": {
             "outlinewidth": 0,
             "ticks": ""
            },
            "type": "choropleth"
           }
          ],
          "contour": [
           {
            "colorbar": {
             "outlinewidth": 0,
             "ticks": ""
            },
            "colorscale": [
             [
              0,
              "#0d0887"
             ],
             [
              0.1111111111111111,
              "#46039f"
             ],
             [
              0.2222222222222222,
              "#7201a8"
             ],
             [
              0.3333333333333333,
              "#9c179e"
             ],
             [
              0.4444444444444444,
              "#bd3786"
             ],
             [
              0.5555555555555556,
              "#d8576b"
             ],
             [
              0.6666666666666666,
              "#ed7953"
             ],
             [
              0.7777777777777778,
              "#fb9f3a"
             ],
             [
              0.8888888888888888,
              "#fdca26"
             ],
             [
              1,
              "#f0f921"
             ]
            ],
            "type": "contour"
           }
          ],
          "contourcarpet": [
           {
            "colorbar": {
             "outlinewidth": 0,
             "ticks": ""
            },
            "type": "contourcarpet"
           }
          ],
          "heatmap": [
           {
            "colorbar": {
             "outlinewidth": 0,
             "ticks": ""
            },
            "colorscale": [
             [
              0,
              "#0d0887"
             ],
             [
              0.1111111111111111,
              "#46039f"
             ],
             [
              0.2222222222222222,
              "#7201a8"
             ],
             [
              0.3333333333333333,
              "#9c179e"
             ],
             [
              0.4444444444444444,
              "#bd3786"
             ],
             [
              0.5555555555555556,
              "#d8576b"
             ],
             [
              0.6666666666666666,
              "#ed7953"
             ],
             [
              0.7777777777777778,
              "#fb9f3a"
             ],
             [
              0.8888888888888888,
              "#fdca26"
             ],
             [
              1,
              "#f0f921"
             ]
            ],
            "type": "heatmap"
           }
          ],
          "heatmapgl": [
           {
            "colorbar": {
             "outlinewidth": 0,
             "ticks": ""
            },
            "colorscale": [
             [
              0,
              "#0d0887"
             ],
             [
              0.1111111111111111,
              "#46039f"
             ],
             [
              0.2222222222222222,
              "#7201a8"
             ],
             [
              0.3333333333333333,
              "#9c179e"
             ],
             [
              0.4444444444444444,
              "#bd3786"
             ],
             [
              0.5555555555555556,
              "#d8576b"
             ],
             [
              0.6666666666666666,
              "#ed7953"
             ],
             [
              0.7777777777777778,
              "#fb9f3a"
             ],
             [
              0.8888888888888888,
              "#fdca26"
             ],
             [
              1,
              "#f0f921"
             ]
            ],
            "type": "heatmapgl"
           }
          ],
          "histogram": [
           {
            "marker": {
             "pattern": {
              "fillmode": "overlay",
              "size": 10,
              "solidity": 0.2
             }
            },
            "type": "histogram"
           }
          ],
          "histogram2d": [
           {
            "colorbar": {
             "outlinewidth": 0,
             "ticks": ""
            },
            "colorscale": [
             [
              0,
              "#0d0887"
             ],
             [
              0.1111111111111111,
              "#46039f"
             ],
             [
              0.2222222222222222,
              "#7201a8"
             ],
             [
              0.3333333333333333,
              "#9c179e"
             ],
             [
              0.4444444444444444,
              "#bd3786"
             ],
             [
              0.5555555555555556,
              "#d8576b"
             ],
             [
              0.6666666666666666,
              "#ed7953"
             ],
             [
              0.7777777777777778,
              "#fb9f3a"
             ],
             [
              0.8888888888888888,
              "#fdca26"
             ],
             [
              1,
              "#f0f921"
             ]
            ],
            "type": "histogram2d"
           }
          ],
          "histogram2dcontour": [
           {
            "colorbar": {
             "outlinewidth": 0,
             "ticks": ""
            },
            "colorscale": [
             [
              0,
              "#0d0887"
             ],
             [
              0.1111111111111111,
              "#46039f"
             ],
             [
              0.2222222222222222,
              "#7201a8"
             ],
             [
              0.3333333333333333,
              "#9c179e"
             ],
             [
              0.4444444444444444,
              "#bd3786"
             ],
             [
              0.5555555555555556,
              "#d8576b"
             ],
             [
              0.6666666666666666,
              "#ed7953"
             ],
             [
              0.7777777777777778,
              "#fb9f3a"
             ],
             [
              0.8888888888888888,
              "#fdca26"
             ],
             [
              1,
              "#f0f921"
             ]
            ],
            "type": "histogram2dcontour"
           }
          ],
          "mesh3d": [
           {
            "colorbar": {
             "outlinewidth": 0,
             "ticks": ""
            },
            "type": "mesh3d"
           }
          ],
          "parcoords": [
           {
            "line": {
             "colorbar": {
              "outlinewidth": 0,
              "ticks": ""
             }
            },
            "type": "parcoords"
           }
          ],
          "pie": [
           {
            "automargin": true,
            "type": "pie"
           }
          ],
          "scatter": [
           {
            "fillpattern": {
             "fillmode": "overlay",
             "size": 10,
             "solidity": 0.2
            },
            "type": "scatter"
           }
          ],
          "scatter3d": [
           {
            "line": {
             "colorbar": {
              "outlinewidth": 0,
              "ticks": ""
             }
            },
            "marker": {
             "colorbar": {
              "outlinewidth": 0,
              "ticks": ""
             }
            },
            "type": "scatter3d"
           }
          ],
          "scattercarpet": [
           {
            "marker": {
             "colorbar": {
              "outlinewidth": 0,
              "ticks": ""
             }
            },
            "type": "scattercarpet"
           }
          ],
          "scattergeo": [
           {
            "marker": {
             "colorbar": {
              "outlinewidth": 0,
              "ticks": ""
             }
            },
            "type": "scattergeo"
           }
          ],
          "scattergl": [
           {
            "marker": {
             "colorbar": {
              "outlinewidth": 0,
              "ticks": ""
             }
            },
            "type": "scattergl"
           }
          ],
          "scattermapbox": [
           {
            "marker": {
             "colorbar": {
              "outlinewidth": 0,
              "ticks": ""
             }
            },
            "type": "scattermapbox"
           }
          ],
          "scatterpolar": [
           {
            "marker": {
             "colorbar": {
              "outlinewidth": 0,
              "ticks": ""
             }
            },
            "type": "scatterpolar"
           }
          ],
          "scatterpolargl": [
           {
            "marker": {
             "colorbar": {
              "outlinewidth": 0,
              "ticks": ""
             }
            },
            "type": "scatterpolargl"
           }
          ],
          "scatterternary": [
           {
            "marker": {
             "colorbar": {
              "outlinewidth": 0,
              "ticks": ""
             }
            },
            "type": "scatterternary"
           }
          ],
          "surface": [
           {
            "colorbar": {
             "outlinewidth": 0,
             "ticks": ""
            },
            "colorscale": [
             [
              0,
              "#0d0887"
             ],
             [
              0.1111111111111111,
              "#46039f"
             ],
             [
              0.2222222222222222,
              "#7201a8"
             ],
             [
              0.3333333333333333,
              "#9c179e"
             ],
             [
              0.4444444444444444,
              "#bd3786"
             ],
             [
              0.5555555555555556,
              "#d8576b"
             ],
             [
              0.6666666666666666,
              "#ed7953"
             ],
             [
              0.7777777777777778,
              "#fb9f3a"
             ],
             [
              0.8888888888888888,
              "#fdca26"
             ],
             [
              1,
              "#f0f921"
             ]
            ],
            "type": "surface"
           }
          ],
          "table": [
           {
            "cells": {
             "fill": {
              "color": "#EBF0F8"
             },
             "line": {
              "color": "white"
             }
            },
            "header": {
             "fill": {
              "color": "#C8D4E3"
             },
             "line": {
              "color": "white"
             }
            },
            "type": "table"
           }
          ]
         },
         "layout": {
          "annotationdefaults": {
           "arrowcolor": "#2a3f5f",
           "arrowhead": 0,
           "arrowwidth": 1
          },
          "autotypenumbers": "strict",
          "coloraxis": {
           "colorbar": {
            "outlinewidth": 0,
            "ticks": ""
           }
          },
          "colorscale": {
           "diverging": [
            [
             0,
             "#8e0152"
            ],
            [
             0.1,
             "#c51b7d"
            ],
            [
             0.2,
             "#de77ae"
            ],
            [
             0.3,
             "#f1b6da"
            ],
            [
             0.4,
             "#fde0ef"
            ],
            [
             0.5,
             "#f7f7f7"
            ],
            [
             0.6,
             "#e6f5d0"
            ],
            [
             0.7,
             "#b8e186"
            ],
            [
             0.8,
             "#7fbc41"
            ],
            [
             0.9,
             "#4d9221"
            ],
            [
             1,
             "#276419"
            ]
           ],
           "sequential": [
            [
             0,
             "#0d0887"
            ],
            [
             0.1111111111111111,
             "#46039f"
            ],
            [
             0.2222222222222222,
             "#7201a8"
            ],
            [
             0.3333333333333333,
             "#9c179e"
            ],
            [
             0.4444444444444444,
             "#bd3786"
            ],
            [
             0.5555555555555556,
             "#d8576b"
            ],
            [
             0.6666666666666666,
             "#ed7953"
            ],
            [
             0.7777777777777778,
             "#fb9f3a"
            ],
            [
             0.8888888888888888,
             "#fdca26"
            ],
            [
             1,
             "#f0f921"
            ]
           ],
           "sequentialminus": [
            [
             0,
             "#0d0887"
            ],
            [
             0.1111111111111111,
             "#46039f"
            ],
            [
             0.2222222222222222,
             "#7201a8"
            ],
            [
             0.3333333333333333,
             "#9c179e"
            ],
            [
             0.4444444444444444,
             "#bd3786"
            ],
            [
             0.5555555555555556,
             "#d8576b"
            ],
            [
             0.6666666666666666,
             "#ed7953"
            ],
            [
             0.7777777777777778,
             "#fb9f3a"
            ],
            [
             0.8888888888888888,
             "#fdca26"
            ],
            [
             1,
             "#f0f921"
            ]
           ]
          },
          "colorway": [
           "#636efa",
           "#EF553B",
           "#00cc96",
           "#ab63fa",
           "#FFA15A",
           "#19d3f3",
           "#FF6692",
           "#B6E880",
           "#FF97FF",
           "#FECB52"
          ],
          "font": {
           "color": "#2a3f5f"
          },
          "geo": {
           "bgcolor": "white",
           "lakecolor": "white",
           "landcolor": "#E5ECF6",
           "showlakes": true,
           "showland": true,
           "subunitcolor": "white"
          },
          "hoverlabel": {
           "align": "left"
          },
          "hovermode": "closest",
          "mapbox": {
           "style": "light"
          },
          "paper_bgcolor": "white",
          "plot_bgcolor": "#E5ECF6",
          "polar": {
           "angularaxis": {
            "gridcolor": "white",
            "linecolor": "white",
            "ticks": ""
           },
           "bgcolor": "#E5ECF6",
           "radialaxis": {
            "gridcolor": "white",
            "linecolor": "white",
            "ticks": ""
           }
          },
          "scene": {
           "xaxis": {
            "backgroundcolor": "#E5ECF6",
            "gridcolor": "white",
            "gridwidth": 2,
            "linecolor": "white",
            "showbackground": true,
            "ticks": "",
            "zerolinecolor": "white"
           },
           "yaxis": {
            "backgroundcolor": "#E5ECF6",
            "gridcolor": "white",
            "gridwidth": 2,
            "linecolor": "white",
            "showbackground": true,
            "ticks": "",
            "zerolinecolor": "white"
           },
           "zaxis": {
            "backgroundcolor": "#E5ECF6",
            "gridcolor": "white",
            "gridwidth": 2,
            "linecolor": "white",
            "showbackground": true,
            "ticks": "",
            "zerolinecolor": "white"
           }
          },
          "shapedefaults": {
           "line": {
            "color": "#2a3f5f"
           }
          },
          "ternary": {
           "aaxis": {
            "gridcolor": "white",
            "linecolor": "white",
            "ticks": ""
           },
           "baxis": {
            "gridcolor": "white",
            "linecolor": "white",
            "ticks": ""
           },
           "bgcolor": "#E5ECF6",
           "caxis": {
            "gridcolor": "white",
            "linecolor": "white",
            "ticks": ""
           }
          },
          "title": {
           "x": 0.05
          },
          "xaxis": {
           "automargin": true,
           "gridcolor": "white",
           "linecolor": "white",
           "ticks": "",
           "title": {
            "standoff": 15
           },
           "zerolinecolor": "white",
           "zerolinewidth": 2
          },
          "yaxis": {
           "automargin": true,
           "gridcolor": "white",
           "linecolor": "white",
           "ticks": "",
           "title": {
            "standoff": 15
           },
           "zerolinecolor": "white",
           "zerolinewidth": 2
          }
         }
        },
        "title": {
         "text": "Urban Population Rate By G-20 Countries"
        },
        "xaxis": {
         "anchor": "y",
         "categoryarray": [
          "India",
          "Indonesia",
          "China",
          "South Africa",
          "Italy",
          "Russia",
          "Turkey",
          "Germany",
          "Canada",
          "South Korea",
          "France",
          "United Kingdom",
          "United States",
          "Mexico",
          "Saudi Arabia",
          "Australia",
          "Argentina"
         ],
         "categoryorder": "array",
         "domain": [
          0,
          1
         ],
         "title": {
          "text": "Country"
         }
        },
        "yaxis": {
         "anchor": "x",
         "domain": [
          0,
          1
         ],
         "title": {
          "text": "Urban_Pop"
         }
        }
       }
      },
      "text/html": [
       "<div>                            <div id=\"3d3af28a-0e81-4315-ae1e-6c06a387ac1d\" class=\"plotly-graph-div\" style=\"height:525px; width:100%;\"></div>            <script type=\"text/javascript\">                require([\"plotly\"], function(Plotly) {                    window.PLOTLYENV=window.PLOTLYENV || {};                                    if (document.getElementById(\"3d3af28a-0e81-4315-ae1e-6c06a387ac1d\")) {                    Plotly.newPlot(                        \"3d3af28a-0e81-4315-ae1e-6c06a387ac1d\",                        [{\"alignmentgroup\":\"True\",\"hovertemplate\":\"Country=%{x}<br>Urban_Pop=%{text}<extra></extra>\",\"legendgroup\":\"India\",\"marker\":{\"color\":\"#636efa\",\"pattern\":{\"shape\":\"\"}},\"name\":\"India\",\"offsetgroup\":\"India\",\"orientation\":\"v\",\"showlegend\":true,\"text\":[35.0],\"textposition\":\"outside\",\"x\":[\"India\"],\"xaxis\":\"x\",\"y\":[35.0],\"yaxis\":\"y\",\"type\":\"bar\"},{\"alignmentgroup\":\"True\",\"hovertemplate\":\"Country=%{x}<br>Urban_Pop=%{text}<extra></extra>\",\"legendgroup\":\"Indonesia\",\"marker\":{\"color\":\"#EF553B\",\"pattern\":{\"shape\":\"\"}},\"name\":\"Indonesia\",\"offsetgroup\":\"Indonesia\",\"orientation\":\"v\",\"showlegend\":true,\"text\":[56.0],\"textposition\":\"outside\",\"x\":[\"Indonesia\"],\"xaxis\":\"x\",\"y\":[56.0],\"yaxis\":\"y\",\"type\":\"bar\"},{\"alignmentgroup\":\"True\",\"hovertemplate\":\"Country=%{x}<br>Urban_Pop=%{text}<extra></extra>\",\"legendgroup\":\"China\",\"marker\":{\"color\":\"#00cc96\",\"pattern\":{\"shape\":\"\"}},\"name\":\"China\",\"offsetgroup\":\"China\",\"orientation\":\"v\",\"showlegend\":true,\"text\":[61.0],\"textposition\":\"outside\",\"x\":[\"China\"],\"xaxis\":\"x\",\"y\":[61.0],\"yaxis\":\"y\",\"type\":\"bar\"},{\"alignmentgroup\":\"True\",\"hovertemplate\":\"Country=%{x}<br>Urban_Pop=%{text}<extra></extra>\",\"legendgroup\":\"South Africa\",\"marker\":{\"color\":\"#ab63fa\",\"pattern\":{\"shape\":\"\"}},\"name\":\"South Africa\",\"offsetgroup\":\"South Africa\",\"orientation\":\"v\",\"showlegend\":true,\"text\":[67.0],\"textposition\":\"outside\",\"x\":[\"South Africa\"],\"xaxis\":\"x\",\"y\":[67.0],\"yaxis\":\"y\",\"type\":\"bar\"},{\"alignmentgroup\":\"True\",\"hovertemplate\":\"Country=%{x}<br>Urban_Pop=%{text}<extra></extra>\",\"legendgroup\":\"Italy\",\"marker\":{\"color\":\"#FFA15A\",\"pattern\":{\"shape\":\"\"}},\"name\":\"Italy\",\"offsetgroup\":\"Italy\",\"orientation\":\"v\",\"showlegend\":true,\"text\":[69.0],\"textposition\":\"outside\",\"x\":[\"Italy\"],\"xaxis\":\"x\",\"y\":[69.0],\"yaxis\":\"y\",\"type\":\"bar\"},{\"alignmentgroup\":\"True\",\"hovertemplate\":\"Country=%{x}<br>Urban_Pop=%{text}<extra></extra>\",\"legendgroup\":\"Russia\",\"marker\":{\"color\":\"#19d3f3\",\"pattern\":{\"shape\":\"\"}},\"name\":\"Russia\",\"offsetgroup\":\"Russia\",\"orientation\":\"v\",\"showlegend\":true,\"text\":[74.0],\"textposition\":\"outside\",\"x\":[\"Russia\"],\"xaxis\":\"x\",\"y\":[74.0],\"yaxis\":\"y\",\"type\":\"bar\"},{\"alignmentgroup\":\"True\",\"hovertemplate\":\"Country=%{x}<br>Urban_Pop=%{text}<extra></extra>\",\"legendgroup\":\"Turkey\",\"marker\":{\"color\":\"#FF6692\",\"pattern\":{\"shape\":\"\"}},\"name\":\"Turkey\",\"offsetgroup\":\"Turkey\",\"orientation\":\"v\",\"showlegend\":true,\"text\":[76.0],\"textposition\":\"outside\",\"x\":[\"Turkey\"],\"xaxis\":\"x\",\"y\":[76.0],\"yaxis\":\"y\",\"type\":\"bar\"},{\"alignmentgroup\":\"True\",\"hovertemplate\":\"Country=%{x}<br>Urban_Pop=%{text}<extra></extra>\",\"legendgroup\":\"Germany\",\"marker\":{\"color\":\"#B6E880\",\"pattern\":{\"shape\":\"\"}},\"name\":\"Germany\",\"offsetgroup\":\"Germany\",\"orientation\":\"v\",\"showlegend\":true,\"text\":[76.0],\"textposition\":\"outside\",\"x\":[\"Germany\"],\"xaxis\":\"x\",\"y\":[76.0],\"yaxis\":\"y\",\"type\":\"bar\"},{\"alignmentgroup\":\"True\",\"hovertemplate\":\"Country=%{x}<br>Urban_Pop=%{text}<extra></extra>\",\"legendgroup\":\"Canada\",\"marker\":{\"color\":\"#FF97FF\",\"pattern\":{\"shape\":\"\"}},\"name\":\"Canada\",\"offsetgroup\":\"Canada\",\"orientation\":\"v\",\"showlegend\":true,\"text\":[81.0],\"textposition\":\"outside\",\"x\":[\"Canada\"],\"xaxis\":\"x\",\"y\":[81.0],\"yaxis\":\"y\",\"type\":\"bar\"},{\"alignmentgroup\":\"True\",\"hovertemplate\":\"Country=%{x}<br>Urban_Pop=%{text}<extra></extra>\",\"legendgroup\":\"South Korea\",\"marker\":{\"color\":\"#FECB52\",\"pattern\":{\"shape\":\"\"}},\"name\":\"South Korea\",\"offsetgroup\":\"South Korea\",\"orientation\":\"v\",\"showlegend\":true,\"text\":[82.0],\"textposition\":\"outside\",\"x\":[\"South Korea\"],\"xaxis\":\"x\",\"y\":[82.0],\"yaxis\":\"y\",\"type\":\"bar\"},{\"alignmentgroup\":\"True\",\"hovertemplate\":\"Country=%{x}<br>Urban_Pop=%{text}<extra></extra>\",\"legendgroup\":\"France\",\"marker\":{\"color\":\"#636efa\",\"pattern\":{\"shape\":\"\"}},\"name\":\"France\",\"offsetgroup\":\"France\",\"orientation\":\"v\",\"showlegend\":true,\"text\":[82.0],\"textposition\":\"outside\",\"x\":[\"France\"],\"xaxis\":\"x\",\"y\":[82.0],\"yaxis\":\"y\",\"type\":\"bar\"},{\"alignmentgroup\":\"True\",\"hovertemplate\":\"Country=%{x}<br>Urban_Pop=%{text}<extra></extra>\",\"legendgroup\":\"United Kingdom\",\"marker\":{\"color\":\"#EF553B\",\"pattern\":{\"shape\":\"\"}},\"name\":\"United Kingdom\",\"offsetgroup\":\"United Kingdom\",\"orientation\":\"v\",\"showlegend\":true,\"text\":[83.0],\"textposition\":\"outside\",\"x\":[\"United Kingdom\"],\"xaxis\":\"x\",\"y\":[83.0],\"yaxis\":\"y\",\"type\":\"bar\"},{\"alignmentgroup\":\"True\",\"hovertemplate\":\"Country=%{x}<br>Urban_Pop=%{text}<extra></extra>\",\"legendgroup\":\"United States\",\"marker\":{\"color\":\"#00cc96\",\"pattern\":{\"shape\":\"\"}},\"name\":\"United States\",\"offsetgroup\":\"United States\",\"orientation\":\"v\",\"showlegend\":true,\"text\":[83.0],\"textposition\":\"outside\",\"x\":[\"United States\"],\"xaxis\":\"x\",\"y\":[83.0],\"yaxis\":\"y\",\"type\":\"bar\"},{\"alignmentgroup\":\"True\",\"hovertemplate\":\"Country=%{x}<br>Urban_Pop=%{text}<extra></extra>\",\"legendgroup\":\"Mexico\",\"marker\":{\"color\":\"#ab63fa\",\"pattern\":{\"shape\":\"\"}},\"name\":\"Mexico\",\"offsetgroup\":\"Mexico\",\"orientation\":\"v\",\"showlegend\":true,\"text\":[84.0],\"textposition\":\"outside\",\"x\":[\"Mexico\"],\"xaxis\":\"x\",\"y\":[84.0],\"yaxis\":\"y\",\"type\":\"bar\"},{\"alignmentgroup\":\"True\",\"hovertemplate\":\"Country=%{x}<br>Urban_Pop=%{text}<extra></extra>\",\"legendgroup\":\"Saudi Arabia\",\"marker\":{\"color\":\"#FFA15A\",\"pattern\":{\"shape\":\"\"}},\"name\":\"Saudi Arabia\",\"offsetgroup\":\"Saudi Arabia\",\"orientation\":\"v\",\"showlegend\":true,\"text\":[84.0],\"textposition\":\"outside\",\"x\":[\"Saudi Arabia\"],\"xaxis\":\"x\",\"y\":[84.0],\"yaxis\":\"y\",\"type\":\"bar\"},{\"alignmentgroup\":\"True\",\"hovertemplate\":\"Country=%{x}<br>Urban_Pop=%{text}<extra></extra>\",\"legendgroup\":\"Australia\",\"marker\":{\"color\":\"#19d3f3\",\"pattern\":{\"shape\":\"\"}},\"name\":\"Australia\",\"offsetgroup\":\"Australia\",\"orientation\":\"v\",\"showlegend\":true,\"text\":[86.0],\"textposition\":\"outside\",\"x\":[\"Australia\"],\"xaxis\":\"x\",\"y\":[86.0],\"yaxis\":\"y\",\"type\":\"bar\"},{\"alignmentgroup\":\"True\",\"hovertemplate\":\"Country=%{x}<br>Urban_Pop=%{text}<extra></extra>\",\"legendgroup\":\"Argentina\",\"marker\":{\"color\":\"#FF6692\",\"pattern\":{\"shape\":\"\"}},\"name\":\"Argentina\",\"offsetgroup\":\"Argentina\",\"orientation\":\"v\",\"showlegend\":true,\"text\":[93.0],\"textposition\":\"outside\",\"x\":[\"Argentina\"],\"xaxis\":\"x\",\"y\":[93.0],\"yaxis\":\"y\",\"type\":\"bar\"}],                        {\"template\":{\"data\":{\"histogram2dcontour\":[{\"type\":\"histogram2dcontour\",\"colorbar\":{\"outlinewidth\":0,\"ticks\":\"\"},\"colorscale\":[[0.0,\"#0d0887\"],[0.1111111111111111,\"#46039f\"],[0.2222222222222222,\"#7201a8\"],[0.3333333333333333,\"#9c179e\"],[0.4444444444444444,\"#bd3786\"],[0.5555555555555556,\"#d8576b\"],[0.6666666666666666,\"#ed7953\"],[0.7777777777777778,\"#fb9f3a\"],[0.8888888888888888,\"#fdca26\"],[1.0,\"#f0f921\"]]}],\"choropleth\":[{\"type\":\"choropleth\",\"colorbar\":{\"outlinewidth\":0,\"ticks\":\"\"}}],\"histogram2d\":[{\"type\":\"histogram2d\",\"colorbar\":{\"outlinewidth\":0,\"ticks\":\"\"},\"colorscale\":[[0.0,\"#0d0887\"],[0.1111111111111111,\"#46039f\"],[0.2222222222222222,\"#7201a8\"],[0.3333333333333333,\"#9c179e\"],[0.4444444444444444,\"#bd3786\"],[0.5555555555555556,\"#d8576b\"],[0.6666666666666666,\"#ed7953\"],[0.7777777777777778,\"#fb9f3a\"],[0.8888888888888888,\"#fdca26\"],[1.0,\"#f0f921\"]]}],\"heatmap\":[{\"type\":\"heatmap\",\"colorbar\":{\"outlinewidth\":0,\"ticks\":\"\"},\"colorscale\":[[0.0,\"#0d0887\"],[0.1111111111111111,\"#46039f\"],[0.2222222222222222,\"#7201a8\"],[0.3333333333333333,\"#9c179e\"],[0.4444444444444444,\"#bd3786\"],[0.5555555555555556,\"#d8576b\"],[0.6666666666666666,\"#ed7953\"],[0.7777777777777778,\"#fb9f3a\"],[0.8888888888888888,\"#fdca26\"],[1.0,\"#f0f921\"]]}],\"heatmapgl\":[{\"type\":\"heatmapgl\",\"colorbar\":{\"outlinewidth\":0,\"ticks\":\"\"},\"colorscale\":[[0.0,\"#0d0887\"],[0.1111111111111111,\"#46039f\"],[0.2222222222222222,\"#7201a8\"],[0.3333333333333333,\"#9c179e\"],[0.4444444444444444,\"#bd3786\"],[0.5555555555555556,\"#d8576b\"],[0.6666666666666666,\"#ed7953\"],[0.7777777777777778,\"#fb9f3a\"],[0.8888888888888888,\"#fdca26\"],[1.0,\"#f0f921\"]]}],\"contourcarpet\":[{\"type\":\"contourcarpet\",\"colorbar\":{\"outlinewidth\":0,\"ticks\":\"\"}}],\"contour\":[{\"type\":\"contour\",\"colorbar\":{\"outlinewidth\":0,\"ticks\":\"\"},\"colorscale\":[[0.0,\"#0d0887\"],[0.1111111111111111,\"#46039f\"],[0.2222222222222222,\"#7201a8\"],[0.3333333333333333,\"#9c179e\"],[0.4444444444444444,\"#bd3786\"],[0.5555555555555556,\"#d8576b\"],[0.6666666666666666,\"#ed7953\"],[0.7777777777777778,\"#fb9f3a\"],[0.8888888888888888,\"#fdca26\"],[1.0,\"#f0f921\"]]}],\"surface\":[{\"type\":\"surface\",\"colorbar\":{\"outlinewidth\":0,\"ticks\":\"\"},\"colorscale\":[[0.0,\"#0d0887\"],[0.1111111111111111,\"#46039f\"],[0.2222222222222222,\"#7201a8\"],[0.3333333333333333,\"#9c179e\"],[0.4444444444444444,\"#bd3786\"],[0.5555555555555556,\"#d8576b\"],[0.6666666666666666,\"#ed7953\"],[0.7777777777777778,\"#fb9f3a\"],[0.8888888888888888,\"#fdca26\"],[1.0,\"#f0f921\"]]}],\"mesh3d\":[{\"type\":\"mesh3d\",\"colorbar\":{\"outlinewidth\":0,\"ticks\":\"\"}}],\"scatter\":[{\"fillpattern\":{\"fillmode\":\"overlay\",\"size\":10,\"solidity\":0.2},\"type\":\"scatter\"}],\"parcoords\":[{\"type\":\"parcoords\",\"line\":{\"colorbar\":{\"outlinewidth\":0,\"ticks\":\"\"}}}],\"scatterpolargl\":[{\"type\":\"scatterpolargl\",\"marker\":{\"colorbar\":{\"outlinewidth\":0,\"ticks\":\"\"}}}],\"bar\":[{\"error_x\":{\"color\":\"#2a3f5f\"},\"error_y\":{\"color\":\"#2a3f5f\"},\"marker\":{\"line\":{\"color\":\"#E5ECF6\",\"width\":0.5},\"pattern\":{\"fillmode\":\"overlay\",\"size\":10,\"solidity\":0.2}},\"type\":\"bar\"}],\"scattergeo\":[{\"type\":\"scattergeo\",\"marker\":{\"colorbar\":{\"outlinewidth\":0,\"ticks\":\"\"}}}],\"scatterpolar\":[{\"type\":\"scatterpolar\",\"marker\":{\"colorbar\":{\"outlinewidth\":0,\"ticks\":\"\"}}}],\"histogram\":[{\"marker\":{\"pattern\":{\"fillmode\":\"overlay\",\"size\":10,\"solidity\":0.2}},\"type\":\"histogram\"}],\"scattergl\":[{\"type\":\"scattergl\",\"marker\":{\"colorbar\":{\"outlinewidth\":0,\"ticks\":\"\"}}}],\"scatter3d\":[{\"type\":\"scatter3d\",\"line\":{\"colorbar\":{\"outlinewidth\":0,\"ticks\":\"\"}},\"marker\":{\"colorbar\":{\"outlinewidth\":0,\"ticks\":\"\"}}}],\"scattermapbox\":[{\"type\":\"scattermapbox\",\"marker\":{\"colorbar\":{\"outlinewidth\":0,\"ticks\":\"\"}}}],\"scatterternary\":[{\"type\":\"scatterternary\",\"marker\":{\"colorbar\":{\"outlinewidth\":0,\"ticks\":\"\"}}}],\"scattercarpet\":[{\"type\":\"scattercarpet\",\"marker\":{\"colorbar\":{\"outlinewidth\":0,\"ticks\":\"\"}}}],\"carpet\":[{\"aaxis\":{\"endlinecolor\":\"#2a3f5f\",\"gridcolor\":\"white\",\"linecolor\":\"white\",\"minorgridcolor\":\"white\",\"startlinecolor\":\"#2a3f5f\"},\"baxis\":{\"endlinecolor\":\"#2a3f5f\",\"gridcolor\":\"white\",\"linecolor\":\"white\",\"minorgridcolor\":\"white\",\"startlinecolor\":\"#2a3f5f\"},\"type\":\"carpet\"}],\"table\":[{\"cells\":{\"fill\":{\"color\":\"#EBF0F8\"},\"line\":{\"color\":\"white\"}},\"header\":{\"fill\":{\"color\":\"#C8D4E3\"},\"line\":{\"color\":\"white\"}},\"type\":\"table\"}],\"barpolar\":[{\"marker\":{\"line\":{\"color\":\"#E5ECF6\",\"width\":0.5},\"pattern\":{\"fillmode\":\"overlay\",\"size\":10,\"solidity\":0.2}},\"type\":\"barpolar\"}],\"pie\":[{\"automargin\":true,\"type\":\"pie\"}]},\"layout\":{\"autotypenumbers\":\"strict\",\"colorway\":[\"#636efa\",\"#EF553B\",\"#00cc96\",\"#ab63fa\",\"#FFA15A\",\"#19d3f3\",\"#FF6692\",\"#B6E880\",\"#FF97FF\",\"#FECB52\"],\"font\":{\"color\":\"#2a3f5f\"},\"hovermode\":\"closest\",\"hoverlabel\":{\"align\":\"left\"},\"paper_bgcolor\":\"white\",\"plot_bgcolor\":\"#E5ECF6\",\"polar\":{\"bgcolor\":\"#E5ECF6\",\"angularaxis\":{\"gridcolor\":\"white\",\"linecolor\":\"white\",\"ticks\":\"\"},\"radialaxis\":{\"gridcolor\":\"white\",\"linecolor\":\"white\",\"ticks\":\"\"}},\"ternary\":{\"bgcolor\":\"#E5ECF6\",\"aaxis\":{\"gridcolor\":\"white\",\"linecolor\":\"white\",\"ticks\":\"\"},\"baxis\":{\"gridcolor\":\"white\",\"linecolor\":\"white\",\"ticks\":\"\"},\"caxis\":{\"gridcolor\":\"white\",\"linecolor\":\"white\",\"ticks\":\"\"}},\"coloraxis\":{\"colorbar\":{\"outlinewidth\":0,\"ticks\":\"\"}},\"colorscale\":{\"sequential\":[[0.0,\"#0d0887\"],[0.1111111111111111,\"#46039f\"],[0.2222222222222222,\"#7201a8\"],[0.3333333333333333,\"#9c179e\"],[0.4444444444444444,\"#bd3786\"],[0.5555555555555556,\"#d8576b\"],[0.6666666666666666,\"#ed7953\"],[0.7777777777777778,\"#fb9f3a\"],[0.8888888888888888,\"#fdca26\"],[1.0,\"#f0f921\"]],\"sequentialminus\":[[0.0,\"#0d0887\"],[0.1111111111111111,\"#46039f\"],[0.2222222222222222,\"#7201a8\"],[0.3333333333333333,\"#9c179e\"],[0.4444444444444444,\"#bd3786\"],[0.5555555555555556,\"#d8576b\"],[0.6666666666666666,\"#ed7953\"],[0.7777777777777778,\"#fb9f3a\"],[0.8888888888888888,\"#fdca26\"],[1.0,\"#f0f921\"]],\"diverging\":[[0,\"#8e0152\"],[0.1,\"#c51b7d\"],[0.2,\"#de77ae\"],[0.3,\"#f1b6da\"],[0.4,\"#fde0ef\"],[0.5,\"#f7f7f7\"],[0.6,\"#e6f5d0\"],[0.7,\"#b8e186\"],[0.8,\"#7fbc41\"],[0.9,\"#4d9221\"],[1,\"#276419\"]]},\"xaxis\":{\"gridcolor\":\"white\",\"linecolor\":\"white\",\"ticks\":\"\",\"title\":{\"standoff\":15},\"zerolinecolor\":\"white\",\"automargin\":true,\"zerolinewidth\":2},\"yaxis\":{\"gridcolor\":\"white\",\"linecolor\":\"white\",\"ticks\":\"\",\"title\":{\"standoff\":15},\"zerolinecolor\":\"white\",\"automargin\":true,\"zerolinewidth\":2},\"scene\":{\"xaxis\":{\"backgroundcolor\":\"#E5ECF6\",\"gridcolor\":\"white\",\"linecolor\":\"white\",\"showbackground\":true,\"ticks\":\"\",\"zerolinecolor\":\"white\",\"gridwidth\":2},\"yaxis\":{\"backgroundcolor\":\"#E5ECF6\",\"gridcolor\":\"white\",\"linecolor\":\"white\",\"showbackground\":true,\"ticks\":\"\",\"zerolinecolor\":\"white\",\"gridwidth\":2},\"zaxis\":{\"backgroundcolor\":\"#E5ECF6\",\"gridcolor\":\"white\",\"linecolor\":\"white\",\"showbackground\":true,\"ticks\":\"\",\"zerolinecolor\":\"white\",\"gridwidth\":2}},\"shapedefaults\":{\"line\":{\"color\":\"#2a3f5f\"}},\"annotationdefaults\":{\"arrowcolor\":\"#2a3f5f\",\"arrowhead\":0,\"arrowwidth\":1},\"geo\":{\"bgcolor\":\"white\",\"landcolor\":\"#E5ECF6\",\"subunitcolor\":\"white\",\"showland\":true,\"showlakes\":true,\"lakecolor\":\"white\"},\"title\":{\"x\":0.05},\"mapbox\":{\"style\":\"light\"}}},\"xaxis\":{\"anchor\":\"y\",\"domain\":[0.0,1.0],\"title\":{\"text\":\"Country\"},\"categoryorder\":\"array\",\"categoryarray\":[\"India\",\"Indonesia\",\"China\",\"South Africa\",\"Italy\",\"Russia\",\"Turkey\",\"Germany\",\"Canada\",\"South Korea\",\"France\",\"United Kingdom\",\"United States\",\"Mexico\",\"Saudi Arabia\",\"Australia\",\"Argentina\"]},\"yaxis\":{\"anchor\":\"x\",\"domain\":[0.0,1.0],\"title\":{\"text\":\"Urban_Pop\"}},\"legend\":{\"title\":{\"text\":\"Country\"},\"tracegroupgap\":0},\"title\":{\"text\":\"Urban Population Rate By G-20 Countries\"},\"barmode\":\"relative\"},                        {\"responsive\": true}                    ).then(function(){\n",
       "                            \n",
       "var gd = document.getElementById('3d3af28a-0e81-4315-ae1e-6c06a387ac1d');\n",
       "var x = new MutationObserver(function (mutations, observer) {{\n",
       "        var display = window.getComputedStyle(gd).display;\n",
       "        if (!display || display === 'none') {{\n",
       "            console.log([gd, 'removed!']);\n",
       "            Plotly.purge(gd);\n",
       "            observer.disconnect();\n",
       "        }}\n",
       "}});\n",
       "\n",
       "// Listen for the removal of the full notebook cells\n",
       "var notebookContainer = gd.closest('#notebook-container');\n",
       "if (notebookContainer) {{\n",
       "    x.observe(notebookContainer, {childList: true});\n",
       "}}\n",
       "\n",
       "// Listen for the clearing of the current output cell\n",
       "var outputEl = gd.closest('.output');\n",
       "if (outputEl) {{\n",
       "    x.observe(outputEl, {childList: true});\n",
       "}}\n",
       "\n",
       "                        })                };                });            </script>        </div>"
      ]
     },
     "metadata": {},
     "output_type": "display_data"
    }
   ],
   "source": [
    "fig = px.bar(df_G_20_Urban, x = \"Country\", y = \"Urban_Pop\",color = \"Country\", \n",
    "             text =\"Urban_Pop\", title = \"Urban Population Rate By G-20 Countries\")\n",
    "fig.update_traces(textposition = \"outside\")\n",
    "fig.show()"
   ]
  },
  {
   "cell_type": "code",
   "execution_count": null,
   "id": "feda462f",
   "metadata": {},
   "outputs": [],
   "source": []
  },
  {
   "cell_type": "code",
   "execution_count": null,
   "id": "407eea26",
   "metadata": {},
   "outputs": [],
   "source": []
  }
 ],
 "metadata": {
  "kernelspec": {
   "display_name": "Python 3 (ipykernel)",
   "language": "python",
   "name": "python3"
  },
  "language_info": {
   "codemirror_mode": {
    "name": "ipython",
    "version": 3
   },
   "file_extension": ".py",
   "mimetype": "text/x-python",
   "name": "python",
   "nbconvert_exporter": "python",
   "pygments_lexer": "ipython3",
   "version": "3.9.7"
  }
 },
 "nbformat": 4,
 "nbformat_minor": 5
}
